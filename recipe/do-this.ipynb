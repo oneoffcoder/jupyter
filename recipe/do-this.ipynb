{
 "cells": [
  {
   "cell_type": "markdown",
   "metadata": {},
   "source": [
    "# Purpose\n",
    "\n",
    "These are some idiomatic `Pythonic` ways to write code based on this [video](https://www.youtube.com/watch?v=OSGv2VnC0go) by [Raymond Hettinger](https://twitter.com/raymondh). Under each major section, you will see two sub-sections: `Don't do this` and `Do this`. Code under `Don't do this` are discouraged, and following the adjective of [Jeff Knupp](https://jeffknupp.com/writing-idiomatic-python-ebook/), are `harmful`. Code under `Do this` are the encouraged, `beautiful` and `idiomatic` Pythonic way to write the code instead. However, as you will see, some code examples are provided for speed performance.\n",
    "\n",
    "Additional idiomatic Pythonic syntax has also been added in while some from the original video were left out (we will try to find alternative working examples)."
   ]
  },
  {
   "cell_type": "markdown",
   "metadata": {},
   "source": [
    "# Looping over a range of numbers\n",
    "\n",
    "The key is to avoid creating an array. Use the `range` function instead as it will make your code more concise and is more memory efficient.\n",
    "\n",
    "## Don't do this"
   ]
  },
  {
   "cell_type": "code",
   "execution_count": 1,
   "metadata": {},
   "outputs": [
    {
     "name": "stdout",
     "output_type": "stream",
     "text": [
      "0\n",
      "1\n",
      "4\n",
      "9\n",
      "16\n",
      "25\n"
     ]
    }
   ],
   "source": [
    "for i in [0, 1, 2, 3, 4, 5]:\n",
    "    print(i ** 2)"
   ]
  },
  {
   "cell_type": "markdown",
   "metadata": {},
   "source": [
    "## Do this"
   ]
  },
  {
   "cell_type": "code",
   "execution_count": 2,
   "metadata": {},
   "outputs": [
    {
     "name": "stdout",
     "output_type": "stream",
     "text": [
      "0\n",
      "1\n",
      "4\n",
      "9\n",
      "16\n",
      "25\n"
     ]
    }
   ],
   "source": [
    "for i in range(6):\n",
    "    print(i ** 2)"
   ]
  },
  {
   "cell_type": "markdown",
   "metadata": {},
   "source": [
    "# Looping over a collection\n",
    "\n",
    "Avoid using an index to access your elements in the array.\n",
    "\n",
    "## Don't do this"
   ]
  },
  {
   "cell_type": "code",
   "execution_count": 3,
   "metadata": {},
   "outputs": [
    {
     "name": "stdout",
     "output_type": "stream",
     "text": [
      "john\n",
      "jane\n",
      "jeremy\n",
      "janice\n",
      "joyce\n",
      "jonathan\n"
     ]
    }
   ],
   "source": [
    "names = ['john', 'jane', 'jeremy', 'janice', 'joyce', 'jonathan']\n",
    "\n",
    "for i in range(len(names)):\n",
    "    print(names[i])"
   ]
  },
  {
   "cell_type": "markdown",
   "metadata": {},
   "source": [
    "## Do this"
   ]
  },
  {
   "cell_type": "code",
   "execution_count": 4,
   "metadata": {},
   "outputs": [
    {
     "name": "stdout",
     "output_type": "stream",
     "text": [
      "john\n",
      "jane\n",
      "jeremy\n",
      "janice\n",
      "joyce\n",
      "jonathan\n"
     ]
    }
   ],
   "source": [
    "for name in names:\n",
    "    print(name)"
   ]
  },
  {
   "cell_type": "markdown",
   "metadata": {},
   "source": [
    "# Looping backwards\n",
    "\n",
    "The key here is to avoid the awkward `-1` values and nested functions (look at how many parenthesis pairs are involved). Use `reverse` to make your code more elegant.\n",
    "\n",
    "## Don't do this"
   ]
  },
  {
   "cell_type": "code",
   "execution_count": 5,
   "metadata": {},
   "outputs": [
    {
     "name": "stdout",
     "output_type": "stream",
     "text": [
      "jonathan\n",
      "joyce\n",
      "janice\n",
      "jeremy\n",
      "jane\n",
      "john\n"
     ]
    }
   ],
   "source": [
    "for i in range(len(names) - 1, -1, -1):\n",
    "    print(names[i])"
   ]
  },
  {
   "cell_type": "markdown",
   "metadata": {},
   "source": [
    "## Do this"
   ]
  },
  {
   "cell_type": "code",
   "execution_count": 6,
   "metadata": {},
   "outputs": [
    {
     "name": "stdout",
     "output_type": "stream",
     "text": [
      "jonathan\n",
      "joyce\n",
      "janice\n",
      "jeremy\n",
      "jane\n",
      "john\n"
     ]
    }
   ],
   "source": [
    "for name in reversed(names):\n",
    "    print(name)"
   ]
  },
  {
   "cell_type": "markdown",
   "metadata": {},
   "source": [
    "# Looping over a collection and indicies\n",
    "\n",
    "The key here is to use `enumerate` which will return the index with the element.\n",
    "\n",
    "## Don't do this"
   ]
  },
  {
   "cell_type": "code",
   "execution_count": 7,
   "metadata": {},
   "outputs": [
    {
     "name": "stdout",
     "output_type": "stream",
     "text": [
      "0 john\n",
      "1 jane\n",
      "2 jeremy\n",
      "3 janice\n",
      "4 joyce\n",
      "5 jonathan\n"
     ]
    }
   ],
   "source": [
    "for i in range(len(names)):\n",
    "    print(i, names[i])"
   ]
  },
  {
   "cell_type": "markdown",
   "metadata": {},
   "source": [
    "## Do this"
   ]
  },
  {
   "cell_type": "code",
   "execution_count": 8,
   "metadata": {},
   "outputs": [
    {
     "name": "stdout",
     "output_type": "stream",
     "text": [
      "0 john\n",
      "1 jane\n",
      "2 jeremy\n",
      "3 janice\n",
      "4 joyce\n",
      "5 jonathan\n"
     ]
    }
   ],
   "source": [
    "for i, name in enumerate(names):\n",
    "    print(i, name)"
   ]
  },
  {
   "cell_type": "markdown",
   "metadata": {},
   "source": [
    "# Looping over two collections\n",
    "\n",
    "The key is to avoid accessing elements by indicies and also managing the concern of which list is smaller than which. Use `zip` to iterate over the two lists; the iteration will only go until the end of the shorter list.\n",
    "\n",
    "## Don't do this"
   ]
  },
  {
   "cell_type": "code",
   "execution_count": 9,
   "metadata": {},
   "outputs": [
    {
     "name": "stdout",
     "output_type": "stream",
     "text": [
      "john red\n",
      "jane green\n",
      "jeremy blue\n",
      "janice orange\n",
      "joyce purple\n",
      "jonathan pink\n"
     ]
    }
   ],
   "source": [
    "names = ['john', 'jane', 'jeremy', 'janice', 'joyce', 'jonathan']\n",
    "colors = ['red', 'green', 'blue', 'orange', 'purple', 'pink']\n",
    "\n",
    "n = min(len(names), len(colors))\n",
    "for i in range(n):\n",
    "    print(names[i], colors[i])"
   ]
  },
  {
   "cell_type": "markdown",
   "metadata": {},
   "source": [
    "## Do this"
   ]
  },
  {
   "cell_type": "code",
   "execution_count": 10,
   "metadata": {},
   "outputs": [
    {
     "name": "stdout",
     "output_type": "stream",
     "text": [
      "john red\n",
      "jane green\n",
      "jeremy blue\n",
      "janice orange\n",
      "joyce purple\n",
      "jonathan pink\n"
     ]
    }
   ],
   "source": [
    "for name, color in zip(names, colors):\n",
    "    print(name, color)"
   ]
  },
  {
   "cell_type": "markdown",
   "metadata": {},
   "source": [
    "# Flattening data\n",
    "\n",
    "Here, we need to flatten an array of arrays into one array. Notice that the second discouraged approach is actually the fastest (faster than the encouraged approaches)? The setup with the `x` array and use of a for loop spans 3 lines. This example appears controversial with trading off idiomatic Python for speed.\n",
    "\n",
    "## Don't do this"
   ]
  },
  {
   "cell_type": "code",
   "execution_count": 11,
   "metadata": {},
   "outputs": [],
   "source": [
    "data = [list(range(10000000)) for _ in range(10)]"
   ]
  },
  {
   "cell_type": "code",
   "execution_count": 12,
   "metadata": {},
   "outputs": [
    {
     "name": "stdout",
     "output_type": "stream",
     "text": [
      "CPU times: user 7.76 s, sys: 215 ms, total: 7.97 s\n",
      "Wall time: 7.97 s\n"
     ]
    },
    {
     "data": {
      "text/plain": [
       "100000000"
      ]
     },
     "execution_count": 12,
     "metadata": {},
     "output_type": "execute_result"
    }
   ],
   "source": [
    "%%time\n",
    "x = []\n",
    "for arr in data:\n",
    "    for val in arr:\n",
    "        x.append(val)\n",
    "len(x)"
   ]
  },
  {
   "cell_type": "code",
   "execution_count": 13,
   "metadata": {},
   "outputs": [
    {
     "name": "stdout",
     "output_type": "stream",
     "text": [
      "CPU times: user 858 ms, sys: 342 ms, total: 1.2 s\n",
      "Wall time: 1.2 s\n"
     ]
    },
    {
     "data": {
      "text/plain": [
       "100000000"
      ]
     },
     "execution_count": 13,
     "metadata": {},
     "output_type": "execute_result"
    }
   ],
   "source": [
    "%%time\n",
    "x = []\n",
    "for arr in data:\n",
    "    x.extend(arr)\n",
    "len(x)"
   ]
  },
  {
   "cell_type": "markdown",
   "metadata": {},
   "source": [
    "## Do this"
   ]
  },
  {
   "cell_type": "code",
   "execution_count": 14,
   "metadata": {},
   "outputs": [
    {
     "name": "stdout",
     "output_type": "stream",
     "text": [
      "CPU times: user 2.05 s, sys: 269 ms, total: 2.32 s\n",
      "Wall time: 2.32 s\n"
     ]
    },
    {
     "data": {
      "text/plain": [
       "100000000"
      ]
     },
     "execution_count": 14,
     "metadata": {},
     "output_type": "execute_result"
    }
   ],
   "source": [
    "%%time\n",
    "x = [val for arr in data for val in arr]\n",
    "len(x)"
   ]
  },
  {
   "cell_type": "code",
   "execution_count": 15,
   "metadata": {},
   "outputs": [
    {
     "name": "stdout",
     "output_type": "stream",
     "text": [
      "CPU times: user 1.42 s, sys: 325 ms, total: 1.75 s\n",
      "Wall time: 1.74 s\n"
     ]
    },
    {
     "data": {
      "text/plain": [
       "100000000"
      ]
     },
     "execution_count": 15,
     "metadata": {},
     "output_type": "execute_result"
    }
   ],
   "source": [
    "%%time\n",
    "\n",
    "import itertools\n",
    "\n",
    "x = itertools.chain.from_iterable(data)\n",
    "len(list(x))"
   ]
  },
  {
   "cell_type": "markdown",
   "metadata": {},
   "source": [
    "# defaultdict\n",
    "\n",
    "The key is to avoid checking to see if a key exists in the dictionary, and if not, then initialize its associated value. The use of `defaultdict` will initialize a value associated with a key that does not yet exists upon first access. Check out `itertools` too.\n",
    "\n",
    "## Don't do this"
   ]
  },
  {
   "cell_type": "code",
   "execution_count": 16,
   "metadata": {},
   "outputs": [
    {
     "name": "stdout",
     "output_type": "stream",
     "text": [
      "{4: ['john', 'jane'], 6: ['jeremy', 'janice'], 5: ['joyce'], 8: ['jonathan']}\n"
     ]
    }
   ],
   "source": [
    "names = ['john', 'jane', 'jeremy', 'janice', 'joyce', 'jonathan']\n",
    "\n",
    "d = {}\n",
    "for name in names:\n",
    "    key = len(name)\n",
    "    if key not in d:\n",
    "        d[key] = []\n",
    "    d[key].append(name)\n",
    "    \n",
    "print(d)"
   ]
  },
  {
   "cell_type": "markdown",
   "metadata": {},
   "source": [
    "## Do this"
   ]
  },
  {
   "cell_type": "code",
   "execution_count": 17,
   "metadata": {},
   "outputs": [
    {
     "name": "stdout",
     "output_type": "stream",
     "text": [
      "defaultdict(<class 'list'>, {4: ['john', 'jane'], 6: ['jeremy', 'janice'], 5: ['joyce'], 8: ['jonathan']})\n"
     ]
    }
   ],
   "source": [
    "from collections import defaultdict\n",
    "\n",
    "d = defaultdict(list)\n",
    "for name in names:\n",
    "    key = len(name)\n",
    "    d[key].append(name)\n",
    "\n",
    "print(d)"
   ]
  },
  {
   "cell_type": "code",
   "execution_count": 18,
   "metadata": {},
   "outputs": [
    {
     "name": "stdout",
     "output_type": "stream",
     "text": [
      "{4: ['john', 'jane'], 5: ['joyce'], 6: ['jeremy', 'janice'], 8: ['jonathan']}\n"
     ]
    }
   ],
   "source": [
    "import itertools\n",
    "\n",
    "key = lambda s: len(s)\n",
    "d = {k: list(g) for k, g in itertools.groupby(sorted(names, key=key), key)}\n",
    "print(d)"
   ]
  },
  {
   "cell_type": "markdown",
   "metadata": {},
   "source": [
    "# Map, filter, reduce\n",
    "\n",
    "## Don't do this"
   ]
  },
  {
   "cell_type": "code",
   "execution_count": 19,
   "metadata": {},
   "outputs": [],
   "source": [
    "data = [i for i in range(10000000)]"
   ]
  },
  {
   "cell_type": "code",
   "execution_count": 20,
   "metadata": {},
   "outputs": [
    {
     "name": "stdout",
     "output_type": "stream",
     "text": [
      "99999990000000\n",
      "CPU times: user 3.07 s, sys: 132 ms, total: 3.2 s\n",
      "Wall time: 3.2 s\n"
     ]
    }
   ],
   "source": [
    "%%time\n",
    "x = []\n",
    "for val in data:\n",
    "    x.append(val * 2)\n",
    "    \n",
    "y = []\n",
    "for val in x:\n",
    "    if val % 2 == 0:\n",
    "        y.append(val)\n",
    "        \n",
    "z = 0\n",
    "for val in y:\n",
    "    z = z + val\n",
    "    \n",
    "print(z)"
   ]
  },
  {
   "cell_type": "markdown",
   "metadata": {},
   "source": [
    "## Do this"
   ]
  },
  {
   "cell_type": "code",
   "execution_count": 21,
   "metadata": {},
   "outputs": [
    {
     "name": "stdout",
     "output_type": "stream",
     "text": [
      "99999990000000\n",
      "CPU times: user 2.33 s, sys: 13.2 ms, total: 2.35 s\n",
      "Wall time: 2.34 s\n"
     ]
    }
   ],
   "source": [
    "%%time\n",
    "from functools import reduce\n",
    "\n",
    "x = map(lambda val: val * 2, data)\n",
    "x = filter(lambda val: val % 2 == 0, x)\n",
    "x = reduce(lambda val1, val2: val1 + val2, x)\n",
    "\n",
    "print(x)"
   ]
  },
  {
   "cell_type": "markdown",
   "metadata": {},
   "source": [
    "# Dictionary default values\n",
    "\n",
    "Use the dictionary `.get` method with a supplied default value.\n",
    "\n",
    "## Don't do this"
   ]
  },
  {
   "cell_type": "code",
   "execution_count": 22,
   "metadata": {},
   "outputs": [
    {
     "name": "stdout",
     "output_type": "stream",
     "text": [
      "False\n"
     ]
    }
   ],
   "source": [
    "d = {\n",
    "    'username': 'jdoe'\n",
    "}\n",
    "\n",
    "is_authorized = False\n",
    "if 'auth_token' in d:\n",
    "    is_authorized = True\n",
    "    \n",
    "print(is_authorized)"
   ]
  },
  {
   "cell_type": "markdown",
   "metadata": {},
   "source": [
    "## Do this"
   ]
  },
  {
   "cell_type": "code",
   "execution_count": 23,
   "metadata": {},
   "outputs": [
    {
     "name": "stdout",
     "output_type": "stream",
     "text": [
      "False\n"
     ]
    }
   ],
   "source": [
    "is_authorized = d.get('auth_token', False)\n",
    "\n",
    "print(is_authorized)"
   ]
  },
  {
   "cell_type": "markdown",
   "metadata": {},
   "source": [
    "# ChainMap\n",
    "\n",
    "The key is to avoid copying and updating dictionaries just to override values. `ChainMap` will take care of this concern. Notice how the discouraged approached copies `d1` then updates with `d2`, while `ChainMap` starts with `d2` followed by `d1`. This part of the `ChainMap` is awkward.\n",
    "\n",
    "## Don't do this"
   ]
  },
  {
   "cell_type": "code",
   "execution_count": 24,
   "metadata": {},
   "outputs": [
    {
     "name": "stdout",
     "output_type": "stream",
     "text": [
      "color blue\n",
      "user jdoe\n",
      "first_name john\n",
      "last_name doe\n"
     ]
    }
   ],
   "source": [
    "d1 = {'color': 'red', 'user': 'jdoe'}\n",
    "d2 = {'color': 'blue', 'first_name': 'john', 'last_name': 'doe'}\n",
    "\n",
    "d = d1.copy()\n",
    "d.update(d2)\n",
    "\n",
    "for k, v in d.items():\n",
    "    print(k, v)"
   ]
  },
  {
   "cell_type": "markdown",
   "metadata": {},
   "source": [
    "## Do this"
   ]
  },
  {
   "cell_type": "code",
   "execution_count": 25,
   "metadata": {},
   "outputs": [
    {
     "name": "stdout",
     "output_type": "stream",
     "text": [
      "color blue\n",
      "user jdoe\n",
      "first_name john\n",
      "last_name doe\n"
     ]
    }
   ],
   "source": [
    "from collections import ChainMap\n",
    "\n",
    "d1 = {'color': 'red', 'user': 'jdoe'}\n",
    "d2 = {'color': 'blue', 'first_name': 'john', 'last_name': 'doe'}\n",
    "\n",
    "d = ChainMap(d2, d1)\n",
    "for k, v in d.items():\n",
    "    print(k, v)"
   ]
  },
  {
   "cell_type": "markdown",
   "metadata": {},
   "source": [
    "# Counter\n",
    "\n",
    "Like `defaultdict`, `Counter` initialize values associated with keys to 0. Note how we get rid of checking to see if a key entry exists?\n",
    "\n",
    "## Don't do this"
   ]
  },
  {
   "cell_type": "code",
   "execution_count": 26,
   "metadata": {},
   "outputs": [
    {
     "name": "stdout",
     "output_type": "stream",
     "text": [
      "{4: 2, 6: 2, 5: 1, 8: 1}\n"
     ]
    }
   ],
   "source": [
    "names = ['john', 'jane', 'jeremy', 'janice', 'joyce', 'jonathan']\n",
    "\n",
    "d = {}\n",
    "for name in names:\n",
    "    key = len(name)\n",
    "    if key not in d:\n",
    "        d[key] = 0\n",
    "    d[key] = d[key] + 1\n",
    "    \n",
    "print(d)"
   ]
  },
  {
   "cell_type": "markdown",
   "metadata": {},
   "source": [
    "## Do this"
   ]
  },
  {
   "cell_type": "code",
   "execution_count": 27,
   "metadata": {},
   "outputs": [
    {
     "name": "stdout",
     "output_type": "stream",
     "text": [
      "defaultdict(<class 'int'>, {4: 2, 6: 2, 5: 1, 8: 1})\n"
     ]
    }
   ],
   "source": [
    "names = ['john', 'jane', 'jeremy', 'janice', 'joyce', 'jonathan']\n",
    "\n",
    "d = defaultdict(int)\n",
    "\n",
    "for name in names:\n",
    "    key = len(name)\n",
    "    d[key] = d[key] + 1\n",
    "\n",
    "print(d)"
   ]
  },
  {
   "cell_type": "code",
   "execution_count": 28,
   "metadata": {},
   "outputs": [
    {
     "name": "stdout",
     "output_type": "stream",
     "text": [
      "Counter({4: 2, 6: 2, 5: 1, 8: 1})\n"
     ]
    }
   ],
   "source": [
    "from collections import Counter\n",
    "\n",
    "d = Counter()\n",
    "for name in names:\n",
    "    key = len(name)\n",
    "    d[key] = d[key] + 1\n",
    "    \n",
    "print(d)"
   ]
  },
  {
   "cell_type": "code",
   "execution_count": 29,
   "metadata": {},
   "outputs": [
    {
     "name": "stdout",
     "output_type": "stream",
     "text": [
      "Counter({4: 2, 6: 2, 5: 1, 8: 1})\n"
     ]
    }
   ],
   "source": [
    "d = Counter(map(lambda s: len(s), names))\n",
    "print(d)"
   ]
  },
  {
   "cell_type": "markdown",
   "metadata": {},
   "source": [
    "# Ignoring tuples\n",
    "\n",
    "Try not to create that extra variable declaration when unpacking tuples.\n",
    "\n",
    "## Don't do this"
   ]
  },
  {
   "cell_type": "code",
   "execution_count": 30,
   "metadata": {},
   "outputs": [
    {
     "name": "stdout",
     "output_type": "stream",
     "text": [
      "John Doe\n"
     ]
    }
   ],
   "source": [
    "def get_info():\n",
    "    return 'John', 'Doe', 28\n",
    "\n",
    "fname, lname, tmp = get_info()\n",
    "print(fname, lname)"
   ]
  },
  {
   "cell_type": "markdown",
   "metadata": {},
   "source": [
    "## Do this"
   ]
  },
  {
   "cell_type": "code",
   "execution_count": 31,
   "metadata": {},
   "outputs": [
    {
     "name": "stdout",
     "output_type": "stream",
     "text": [
      "John Doe\n"
     ]
    }
   ],
   "source": [
    "def get_info():\n",
    "    return 'John', 'Doe', 28\n",
    "\n",
    "fname, lname, _ = get_info()\n",
    "print(fname, lname)"
   ]
  },
  {
   "cell_type": "markdown",
   "metadata": {},
   "source": [
    "# namedtuple\n",
    "\n",
    "The key here is to avoid accessing `tuples` by indicies since those indicies are meaningless. Instead, use `namedtuple` and access elements of the tuple by a meaningful name.\n",
    "\n",
    "## Don't do this"
   ]
  },
  {
   "cell_type": "code",
   "execution_count": 32,
   "metadata": {},
   "outputs": [
    {
     "name": "stdout",
     "output_type": "stream",
     "text": [
      "john 80\n",
      "jane 90\n",
      "jeremy 95\n",
      "janice 88\n",
      "joyce 99\n",
      "jonathan 93\n"
     ]
    }
   ],
   "source": [
    "scores = [80, 90, 95, 88, 99, 93]\n",
    "\n",
    "students = [(name, score) for name, score in zip(names, scores)]\n",
    "for student in students:\n",
    "    print('{} {}'.format(student[0], student[1]))"
   ]
  },
  {
   "cell_type": "markdown",
   "metadata": {},
   "source": [
    "## Do this"
   ]
  },
  {
   "cell_type": "code",
   "execution_count": 33,
   "metadata": {},
   "outputs": [
    {
     "name": "stdout",
     "output_type": "stream",
     "text": [
      "john 80\n",
      "jane 90\n",
      "jeremy 95\n",
      "janice 88\n",
      "joyce 99\n",
      "jonathan 93\n"
     ]
    }
   ],
   "source": [
    "from collections import namedtuple\n",
    "\n",
    "Student = namedtuple('Student', 'name score')\n",
    "\n",
    "students = [Student(name, score) for name, score in zip(names, scores)]\n",
    "for student in students:\n",
    "    print('{} {}'.format(student.name, student.score))"
   ]
  },
  {
   "cell_type": "markdown",
   "metadata": {},
   "source": [
    "# Unpacking sequences\n",
    "\n",
    "The key is to avoid long code that breaks up the coherent intention. In the discouraged approach, we receive a tuple, and store it in `s` and then for each element in `s`, use a different line to access the values. In the encouraged approach, the tuple is unpacked neatly into one line.\n",
    "\n",
    "\n",
    "## Don't do this"
   ]
  },
  {
   "cell_type": "code",
   "execution_count": 34,
   "metadata": {},
   "outputs": [
    {
     "name": "stdout",
     "output_type": "stream",
     "text": [
      "john doe 88\n"
     ]
    }
   ],
   "source": [
    "def get_student():\n",
    "    return 'john', 'doe', 88\n",
    "\n",
    "s = get_student()\n",
    "first_name = s[0]\n",
    "last_name = s[1]\n",
    "score = s[2]\n",
    "\n",
    "print(first_name, last_name, score)"
   ]
  },
  {
   "cell_type": "markdown",
   "metadata": {},
   "source": [
    "## Do this"
   ]
  },
  {
   "cell_type": "code",
   "execution_count": 35,
   "metadata": {},
   "outputs": [
    {
     "name": "stdout",
     "output_type": "stream",
     "text": [
      "john doe 88\n"
     ]
    }
   ],
   "source": [
    "first_name, last_name, score = get_student()\n",
    "\n",
    "print(first_name, last_name, score)"
   ]
  },
  {
   "cell_type": "markdown",
   "metadata": {},
   "source": [
    "# String concatentation\n",
    "\n",
    "The key here is to avoid writing too much code just to concatenate a string. In the discouraged approach, note how we have to add logic to append a comma `,`? In the encourage approach, the for loop is gone and there is no more need for when to add a comma.\n",
    "\n",
    "## Don't do this"
   ]
  },
  {
   "cell_type": "code",
   "execution_count": 36,
   "metadata": {},
   "outputs": [
    {
     "data": {
      "text/plain": [
       "'john, jane, jeremy, janice, joyce, jonathan'"
      ]
     },
     "execution_count": 36,
     "metadata": {},
     "output_type": "execute_result"
    }
   ],
   "source": [
    "s = ''\n",
    "for i, name in enumerate(names):\n",
    "    s += name\n",
    "    if i < len(names) - 1:\n",
    "        s += ', '\n",
    "\n",
    "s"
   ]
  },
  {
   "cell_type": "markdown",
   "metadata": {},
   "source": [
    "## Do this"
   ]
  },
  {
   "cell_type": "code",
   "execution_count": 37,
   "metadata": {},
   "outputs": [
    {
     "data": {
      "text/plain": [
       "'john, jane, jeremy, janice, joyce, jonathan'"
      ]
     },
     "execution_count": 37,
     "metadata": {},
     "output_type": "execute_result"
    }
   ],
   "source": [
    "', '.join(names)"
   ]
  },
  {
   "cell_type": "markdown",
   "metadata": {},
   "source": [
    "# Updating sequences\n",
    "\n",
    "There is not much differences between the discouraged and encouraged approaches here. However, removing an element by value rather than by index seems much more meaningful. \n",
    "\n",
    "## Don't do this"
   ]
  },
  {
   "cell_type": "code",
   "execution_count": 38,
   "metadata": {},
   "outputs": [
    {
     "name": "stdout",
     "output_type": "stream",
     "text": [
      "['jane', 'jeremy', 'janice', 'joyce', 'jonathan']\n",
      "['jeremy', 'janice', 'joyce', 'jonathan']\n",
      "['jerry', 'jeremy', 'janice', 'joyce', 'jonathan']\n"
     ]
    }
   ],
   "source": [
    "names = ['john', 'jane', 'jeremy', 'janice', 'joyce', 'jonathan']\n",
    "\n",
    "del names[0]\n",
    "print(names)\n",
    "\n",
    "names.pop(0)\n",
    "print(names)\n",
    "\n",
    "names.insert(0, 'jerry')\n",
    "print(names)"
   ]
  },
  {
   "cell_type": "markdown",
   "metadata": {},
   "source": [
    "## Do this"
   ]
  },
  {
   "cell_type": "code",
   "execution_count": 39,
   "metadata": {},
   "outputs": [
    {
     "name": "stdout",
     "output_type": "stream",
     "text": [
      "['jane', 'jeremy', 'janice', 'joyce', 'jonathan']\n",
      "['jeremy', 'janice', 'joyce', 'jonathan']\n",
      "['jerry', 'jeremy', 'janice', 'joyce', 'jonathan']\n"
     ]
    }
   ],
   "source": [
    "from collections import deque\n",
    "\n",
    "names = ['john', 'jane', 'jeremy', 'janice', 'joyce', 'jonathan']\n",
    "\n",
    "names.remove('john')\n",
    "print(names)\n",
    "\n",
    "names.pop(0)\n",
    "print(names)\n",
    "\n",
    "names.insert(0, 'jerry')\n",
    "print(names)"
   ]
  },
  {
   "cell_type": "markdown",
   "metadata": {},
   "source": [
    "# decorators\n",
    "\n",
    "The key here is to use the `lru_cache` decorator to cache results of functions that are [idempotent](https://en.wikipedia.org/wiki/Idempotence), especially if they are expensive to call. Note how calls to `add` takes about 700 milliseconds? However, using the `lru_cache` decorator, subsequent calls are on the order of microseconds.\n",
    "\n",
    "## Don't do this"
   ]
  },
  {
   "cell_type": "code",
   "execution_count": 40,
   "metadata": {},
   "outputs": [],
   "source": [
    "def add(n):\n",
    "    return sum([i for i in range(n)])"
   ]
  },
  {
   "cell_type": "code",
   "execution_count": 41,
   "metadata": {},
   "outputs": [
    {
     "name": "stdout",
     "output_type": "stream",
     "text": [
      "CPU times: user 493 ms, sys: 135 ms, total: 628 ms\n",
      "Wall time: 627 ms\n"
     ]
    },
    {
     "data": {
      "text/plain": [
       "49999995000000"
      ]
     },
     "execution_count": 41,
     "metadata": {},
     "output_type": "execute_result"
    }
   ],
   "source": [
    "%%time\n",
    "add(10000000)"
   ]
  },
  {
   "cell_type": "code",
   "execution_count": 42,
   "metadata": {},
   "outputs": [
    {
     "name": "stdout",
     "output_type": "stream",
     "text": [
      "CPU times: user 468 ms, sys: 126 ms, total: 593 ms\n",
      "Wall time: 593 ms\n"
     ]
    },
    {
     "data": {
      "text/plain": [
       "49999995000000"
      ]
     },
     "execution_count": 42,
     "metadata": {},
     "output_type": "execute_result"
    }
   ],
   "source": [
    "%%time\n",
    "add(10000000)"
   ]
  },
  {
   "cell_type": "markdown",
   "metadata": {},
   "source": [
    "## Do this"
   ]
  },
  {
   "cell_type": "code",
   "execution_count": 43,
   "metadata": {},
   "outputs": [],
   "source": [
    "from functools import lru_cache\n",
    "\n",
    "@lru_cache(maxsize=32)\n",
    "def add(n):\n",
    "    return sum([i for i in range(n)])"
   ]
  },
  {
   "cell_type": "code",
   "execution_count": 44,
   "metadata": {},
   "outputs": [
    {
     "name": "stdout",
     "output_type": "stream",
     "text": [
      "CPU times: user 468 ms, sys: 126 ms, total: 594 ms\n",
      "Wall time: 593 ms\n"
     ]
    },
    {
     "data": {
      "text/plain": [
       "49999995000000"
      ]
     },
     "execution_count": 44,
     "metadata": {},
     "output_type": "execute_result"
    }
   ],
   "source": [
    "%%time\n",
    "add(10000000)"
   ]
  },
  {
   "cell_type": "code",
   "execution_count": 45,
   "metadata": {},
   "outputs": [
    {
     "name": "stdout",
     "output_type": "stream",
     "text": [
      "CPU times: user 3 µs, sys: 0 ns, total: 3 µs\n",
      "Wall time: 5.72 µs\n"
     ]
    },
    {
     "data": {
      "text/plain": [
       "49999995000000"
      ]
     },
     "execution_count": 45,
     "metadata": {},
     "output_type": "execute_result"
    }
   ],
   "source": [
    "%%time\n",
    "add(10000000)"
   ]
  },
  {
   "cell_type": "markdown",
   "metadata": {},
   "source": [
    "# Reading a file\n",
    "\n",
    "The key here is to use a context manager to manage resources. \n",
    "\n",
    "## Don't do this"
   ]
  },
  {
   "cell_type": "code",
   "execution_count": 46,
   "metadata": {},
   "outputs": [
    {
     "name": "stdout",
     "output_type": "stream",
     "text": [
      "1499\n"
     ]
    }
   ],
   "source": [
    "f = open('README.md')\n",
    "try:\n",
    "    data = f.read()\n",
    "    print(len(data))\n",
    "finally:\n",
    "    f.close()"
   ]
  },
  {
   "cell_type": "markdown",
   "metadata": {},
   "source": [
    "## Do this"
   ]
  },
  {
   "cell_type": "code",
   "execution_count": 47,
   "metadata": {},
   "outputs": [
    {
     "name": "stdout",
     "output_type": "stream",
     "text": [
      "1499\n"
     ]
    }
   ],
   "source": [
    "with open('README.md') as f:\n",
    "    data = f.read()\n",
    "    print(len(data))"
   ]
  },
  {
   "cell_type": "markdown",
   "metadata": {},
   "source": [
    "# Deleting a file\n",
    "\n",
    "The key here is to avoid the `try/except` code and favor a context manager approach.\n",
    "\n",
    "## Don't do this"
   ]
  },
  {
   "cell_type": "code",
   "execution_count": 48,
   "metadata": {},
   "outputs": [],
   "source": [
    "import os\n",
    "\n",
    "try:\n",
    "    os.remove('test.tmp')\n",
    "except OSError:\n",
    "    pass"
   ]
  },
  {
   "cell_type": "markdown",
   "metadata": {},
   "source": [
    "## Do this"
   ]
  },
  {
   "cell_type": "code",
   "execution_count": 49,
   "metadata": {},
   "outputs": [],
   "source": [
    "from contextlib import suppress\n",
    "\n",
    "with suppress(OSError):\n",
    "    os.remove('test.tmp')"
   ]
  },
  {
   "cell_type": "markdown",
   "metadata": {},
   "source": [
    "# List vs generator comprehensions\n",
    "\n",
    "The key here is to avoid looping over elements and storing results. Instead, use a for or generator comprehension. Note that the `for` (note the brackets) comprehension eagerly evaluates the expressions and returns a list, but the `generator` (note the parentheses) lazily evaluates the expressions.\n",
    "\n",
    "## Don't do this"
   ]
  },
  {
   "cell_type": "code",
   "execution_count": 50,
   "metadata": {},
   "outputs": [
    {
     "name": "stdout",
     "output_type": "stream",
     "text": [
      "285\n"
     ]
    }
   ],
   "source": [
    "results = []\n",
    "for i in range(10):\n",
    "    s = i ** 2\n",
    "    results.append(s)\n",
    "total = sum(results)\n",
    "print(total)"
   ]
  },
  {
   "cell_type": "markdown",
   "metadata": {},
   "source": [
    "## Do this"
   ]
  },
  {
   "cell_type": "code",
   "execution_count": 51,
   "metadata": {},
   "outputs": [
    {
     "name": "stdout",
     "output_type": "stream",
     "text": [
      "[0, 1, 4, 9, 16, 25, 36, 49, 64, 81]\n",
      "285\n"
     ]
    }
   ],
   "source": [
    "total = sum([i ** 2 for i in range(10)])\n",
    "print([i ** 2 for i in range(10)])\n",
    "print(total)"
   ]
  },
  {
   "cell_type": "code",
   "execution_count": 52,
   "metadata": {},
   "outputs": [
    {
     "name": "stdout",
     "output_type": "stream",
     "text": [
      "<generator object <genexpr> at 0x10f4f0138>\n",
      "285\n"
     ]
    }
   ],
   "source": [
    "total = sum((i ** 2 for i in range(10)))\n",
    "print((i ** 2 for i in range(10)))\n",
    "print(total)"
   ]
  },
  {
   "cell_type": "markdown",
   "metadata": {},
   "source": [
    "# Filtering lists\n",
    "\n",
    "Use a for comprehension to filter out values, not a for loop.\n",
    "\n",
    "## Don't do this"
   ]
  },
  {
   "cell_type": "code",
   "execution_count": 53,
   "metadata": {},
   "outputs": [
    {
     "name": "stdout",
     "output_type": "stream",
     "text": [
      "[0, 2, 4, 6, 8, 10, 12, 14, 16, 18, 20, 22, 24, 26, 28, 30, 32, 34, 36, 38, 40, 42, 44, 46, 48, 50, 52, 54, 56, 58, 60, 62, 64, 66, 68, 70, 72, 74, 76, 78, 80, 82, 84, 86, 88, 90, 92, 94, 96, 98]\n"
     ]
    }
   ],
   "source": [
    "nums = []\n",
    "for i in range(100):\n",
    "    if i % 2 == 0:\n",
    "        nums.append(i)\n",
    "print(nums)"
   ]
  },
  {
   "cell_type": "markdown",
   "metadata": {},
   "source": [
    "## Do this"
   ]
  },
  {
   "cell_type": "code",
   "execution_count": 54,
   "metadata": {},
   "outputs": [
    {
     "name": "stdout",
     "output_type": "stream",
     "text": [
      "[0, 2, 4, 6, 8, 10, 12, 14, 16, 18, 20, 22, 24, 26, 28, 30, 32, 34, 36, 38, 40, 42, 44, 46, 48, 50, 52, 54, 56, 58, 60, 62, 64, 66, 68, 70, 72, 74, 76, 78, 80, 82, 84, 86, 88, 90, 92, 94, 96, 98]\n"
     ]
    }
   ],
   "source": [
    "nums = [i for i in range(100) if i % 2 == 0]\n",
    "print(nums)"
   ]
  },
  {
   "cell_type": "markdown",
   "metadata": {},
   "source": [
    "# Clarify function calls with keyword arguments\n",
    "\n",
    "When passing in values/arguments to a method, try to associate the values with the argument names.\n",
    "\n",
    "## Don't do this"
   ]
  },
  {
   "cell_type": "code",
   "execution_count": 55,
   "metadata": {},
   "outputs": [
    {
     "data": {
      "text/plain": [
       "'John Doe is 28 years old'"
      ]
     },
     "execution_count": 55,
     "metadata": {},
     "output_type": "execute_result"
    }
   ],
   "source": [
    "def format_information(first_name, last_name, age):\n",
    "    return '{} {} is {} years old'.format(first_name, last_name, age)\n",
    "\n",
    "format_information('John', 'Doe', 28)"
   ]
  },
  {
   "cell_type": "markdown",
   "metadata": {},
   "source": [
    "## Do this"
   ]
  },
  {
   "cell_type": "code",
   "execution_count": 56,
   "metadata": {},
   "outputs": [
    {
     "data": {
      "text/plain": [
       "'John Doe is 28 years old'"
      ]
     },
     "execution_count": 56,
     "metadata": {},
     "output_type": "execute_result"
    }
   ],
   "source": [
    "format_information(first_name='John', last_name='Doe', age=28)"
   ]
  },
  {
   "cell_type": "code",
   "execution_count": 57,
   "metadata": {},
   "outputs": [
    {
     "data": {
      "text/plain": [
       "'John Doe is 28 years old'"
      ]
     },
     "execution_count": 57,
     "metadata": {},
     "output_type": "execute_result"
    }
   ],
   "source": [
    "format_information(**{\n",
    "    'first_name': 'John',\n",
    "    'last_name': 'Doe',\n",
    "    'age': 28\n",
    "})"
   ]
  },
  {
   "cell_type": "markdown",
   "metadata": {},
   "source": [
    "# Simultaneous state updates\n",
    "\n",
    "The key here is to make your code more concise and avoid nuisance variables. In the discouraged approach, you create temporary variables to avoid mutating `x` and `y`. In the encouraged approach, all mutations occur in one coherent line.\n",
    "\n",
    "## Don't do this"
   ]
  },
  {
   "cell_type": "code",
   "execution_count": 58,
   "metadata": {},
   "outputs": [
    {
     "name": "stdout",
     "output_type": "stream",
     "text": [
      "7 9 4 5\n"
     ]
    }
   ],
   "source": [
    "def update_x(x):\n",
    "    return x + 1\n",
    "\n",
    "def update_y(y):\n",
    "    return y + 1\n",
    "\n",
    "x = 3\n",
    "y = 4\n",
    "dx = 4\n",
    "dy = 5\n",
    "\n",
    "tmp_x = x + dx\n",
    "tmp_y = y + dy\n",
    "tmp_dx = update_x(x)\n",
    "tmp_dy = update_y(y)\n",
    "\n",
    "x = tmp_x\n",
    "y = tmp_y\n",
    "dx = tmp_dx\n",
    "dy = tmp_dy\n",
    "\n",
    "print(x, y, dx, dy)"
   ]
  },
  {
   "cell_type": "markdown",
   "metadata": {},
   "source": [
    "## Do this"
   ]
  },
  {
   "cell_type": "code",
   "execution_count": 59,
   "metadata": {},
   "outputs": [
    {
     "name": "stdout",
     "output_type": "stream",
     "text": [
      "7 9 4 5\n"
     ]
    }
   ],
   "source": [
    "x = 3\n",
    "y = 4\n",
    "dx = 4\n",
    "dy = 5\n",
    "\n",
    "x, y, dx, dy = (x + dx, y + dy, update_x(x), update_y(y))\n",
    "\n",
    "print(x, y, dx, dy)"
   ]
  },
  {
   "cell_type": "markdown",
   "metadata": {},
   "source": [
    "# Single line function declarations\n",
    "\n",
    "If you have one-liner functions, avoid using function declaration with `def`. Instead, use `lambda`.\n",
    "\n",
    "## Don't do this"
   ]
  },
  {
   "cell_type": "code",
   "execution_count": 60,
   "metadata": {},
   "outputs": [
    {
     "data": {
      "text/plain": [
       "4"
      ]
     },
     "execution_count": 60,
     "metadata": {},
     "output_type": "execute_result"
    }
   ],
   "source": [
    "def add_one(x):\n",
    "    return x + 1\n",
    "\n",
    "add_one(3)"
   ]
  },
  {
   "cell_type": "markdown",
   "metadata": {},
   "source": [
    "# Do this"
   ]
  },
  {
   "cell_type": "code",
   "execution_count": 61,
   "metadata": {},
   "outputs": [
    {
     "data": {
      "text/plain": [
       "4"
      ]
     },
     "execution_count": 61,
     "metadata": {},
     "output_type": "execute_result"
    }
   ],
   "source": [
    "add_one = lambda x: x + 1\n",
    "\n",
    "add_one(3)"
   ]
  },
  {
   "cell_type": "markdown",
   "metadata": {},
   "source": [
    "# Generator functions\n",
    "\n",
    "Avoid generating large number of values or objects as they may take up memory. Use `yield` inside a function to generate values or objects as needed. Functions generating collections using `yield` are more space efficient and faster.\n",
    "\n",
    "## Don't do this"
   ]
  },
  {
   "cell_type": "code",
   "execution_count": 62,
   "metadata": {},
   "outputs": [
    {
     "name": "stdout",
     "output_type": "stream",
     "text": [
      "CPU times: user 806 ms, sys: 113 ms, total: 919 ms\n",
      "Wall time: 918 ms\n"
     ]
    },
    {
     "data": {
      "text/plain": [
       "49999995000000"
      ]
     },
     "execution_count": 62,
     "metadata": {},
     "output_type": "execute_result"
    }
   ],
   "source": [
    "%%time\n",
    "def generate_sequential_numbers(n):\n",
    "    nums = []\n",
    "    for i in range(n):\n",
    "        nums.append(i)\n",
    "    return nums\n",
    "\n",
    "sum(generate_sequential_numbers(10000000))"
   ]
  },
  {
   "cell_type": "markdown",
   "metadata": {},
   "source": [
    "## Do this"
   ]
  },
  {
   "cell_type": "code",
   "execution_count": 63,
   "metadata": {},
   "outputs": [
    {
     "name": "stdout",
     "output_type": "stream",
     "text": [
      "CPU times: user 457 ms, sys: 2.4 ms, total: 459 ms\n",
      "Wall time: 457 ms\n"
     ]
    },
    {
     "data": {
      "text/plain": [
       "49999995000000"
      ]
     },
     "execution_count": 63,
     "metadata": {},
     "output_type": "execute_result"
    }
   ],
   "source": [
    "%%time\n",
    "def generate_sequential_numbers(n):\n",
    "    for i in range(n):\n",
    "        yield i\n",
    "\n",
    "sum(generate_sequential_numbers(10000000))"
   ]
  },
  {
   "cell_type": "markdown",
   "metadata": {},
   "source": [
    "## Or do this"
   ]
  },
  {
   "cell_type": "code",
   "execution_count": 64,
   "metadata": {},
   "outputs": [
    {
     "name": "stdout",
     "output_type": "stream",
     "text": [
      "CPU times: user 471 ms, sys: 1.79 ms, total: 473 ms\n",
      "Wall time: 472 ms\n"
     ]
    },
    {
     "data": {
      "text/plain": [
       "49999995000000"
      ]
     },
     "execution_count": 64,
     "metadata": {},
     "output_type": "execute_result"
    }
   ],
   "source": [
    "%%time\n",
    "\n",
    "generate_sequential_numbers = lambda n: (i for i in range(n))\n",
    "sum(generate_sequential_numbers(10000000))"
   ]
  },
  {
   "cell_type": "markdown",
   "metadata": {},
   "source": [
    "# Dictionary comprehension\n",
    "\n",
    "Here, we want to create two dictionaries; index-to-word `i2w` and word-to-index `w2i`. In the discouraged approach, we create two dictionaries, use a for loop, and set the key-value pair with the help of `enumerate`; there are 5 lines of code. In the encouraged approach, using two lines of code, we can declare and instantiate the dictionaries with a for comprehension.\n",
    "\n",
    "## Don't do this"
   ]
  },
  {
   "cell_type": "code",
   "execution_count": 65,
   "metadata": {},
   "outputs": [
    {
     "name": "stdout",
     "output_type": "stream",
     "text": [
      "{0: 'i', 1: 'like', 2: 'to', 3: 'eat', 4: 'pizza', 5: 'and', 6: 'play', 7: 'tennis'}\n",
      "{'i': 0, 'like': 1, 'to': 2, 'eat': 3, 'pizza': 4, 'and': 5, 'play': 6, 'tennis': 7}\n"
     ]
    }
   ],
   "source": [
    "words = ['i', 'like', 'to', 'eat', 'pizza', 'and', 'play', 'tennis']\n",
    "\n",
    "i2w = {}\n",
    "w2i = {}\n",
    "for i, word in enumerate(words):\n",
    "    i2w[i] = word\n",
    "    w2i[word] = i\n",
    "    \n",
    "print(i2w)\n",
    "print(w2i)"
   ]
  },
  {
   "cell_type": "markdown",
   "metadata": {},
   "source": [
    "## Do this"
   ]
  },
  {
   "cell_type": "code",
   "execution_count": 66,
   "metadata": {},
   "outputs": [
    {
     "name": "stdout",
     "output_type": "stream",
     "text": [
      "{0: 'i', 1: 'like', 2: 'to', 3: 'eat', 4: 'pizza', 5: 'and', 6: 'play', 7: 'tennis'}\n",
      "{'i': 0, 'like': 1, 'to': 2, 'eat': 3, 'pizza': 4, 'and': 5, 'play': 6, 'tennis': 7}\n"
     ]
    }
   ],
   "source": [
    "i2w = {i: word for i, word in enumerate(words)}\n",
    "w2i = {word: i for i, word in enumerate(words)}\n",
    "\n",
    "print(i2w)\n",
    "print(w2i)"
   ]
  },
  {
   "cell_type": "markdown",
   "metadata": {},
   "source": [
    "# Set comprehension\n",
    "\n",
    "Set comprehension avoids for loops.\n",
    "\n",
    "## Don't do this"
   ]
  },
  {
   "cell_type": "code",
   "execution_count": 67,
   "metadata": {},
   "outputs": [
    {
     "name": "stdout",
     "output_type": "stream",
     "text": [
      "{'and', 'play', 'like', 'eat', 'i', 'to', 'tennis', 'pizza'}\n"
     ]
    }
   ],
   "source": [
    "words = ['i', 'like', 'to', 'eat', 'pizza', 'and', 'play', 'tennis']\n",
    "\n",
    "vocab = set()\n",
    "for word in words:\n",
    "    vocab.add(word)\n",
    "    \n",
    "print(vocab)"
   ]
  },
  {
   "cell_type": "markdown",
   "metadata": {},
   "source": [
    "## Do this"
   ]
  },
  {
   "cell_type": "code",
   "execution_count": 68,
   "metadata": {},
   "outputs": [
    {
     "name": "stdout",
     "output_type": "stream",
     "text": [
      "{'and', 'play', 'like', 'eat', 'i', 'to', 'tennis', 'pizza'}\n"
     ]
    }
   ],
   "source": [
    "vocab = {word for word in words}\n",
    "print(vocab)"
   ]
  },
  {
   "cell_type": "markdown",
   "metadata": {},
   "source": [
    "# Chained comparison operators\n",
    "\n",
    "Some chained comparisons, like the one below, should be avoided. Notice the use of `and`? \n",
    "\n",
    "## Don't do this"
   ]
  },
  {
   "cell_type": "code",
   "execution_count": 69,
   "metadata": {},
   "outputs": [
    {
     "name": "stdout",
     "output_type": "stream",
     "text": [
      "hi\n"
     ]
    }
   ],
   "source": [
    "x = 10\n",
    "y = 15\n",
    "z = 20\n",
    "\n",
    "if x <= y and y <= z:\n",
    "    print('hi')"
   ]
  },
  {
   "cell_type": "markdown",
   "metadata": {},
   "source": [
    "## Do this"
   ]
  },
  {
   "cell_type": "code",
   "execution_count": 70,
   "metadata": {},
   "outputs": [
    {
     "name": "stdout",
     "output_type": "stream",
     "text": [
      "hi\n"
     ]
    }
   ],
   "source": [
    "if x <= y <= z:\n",
    "    print('hi')"
   ]
  },
  {
   "cell_type": "markdown",
   "metadata": {},
   "source": [
    "# Falsy and truthy \n",
    "\n",
    "It's enough to use the variable to test for falsy or truthy.\n",
    "\n",
    "## Don't do this"
   ]
  },
  {
   "cell_type": "code",
   "execution_count": 71,
   "metadata": {},
   "outputs": [
    {
     "name": "stdout",
     "output_type": "stream",
     "text": [
      "is male is true\n"
     ]
    }
   ],
   "source": [
    "is_male = True\n",
    "\n",
    "if is_male == True:\n",
    "    print('is male is true')"
   ]
  },
  {
   "cell_type": "markdown",
   "metadata": {},
   "source": [
    "## Do this"
   ]
  },
  {
   "cell_type": "code",
   "execution_count": 72,
   "metadata": {},
   "outputs": [
    {
     "name": "stdout",
     "output_type": "stream",
     "text": [
      "is male is true\n"
     ]
    }
   ],
   "source": [
    "if is_male:\n",
    "    print('is male is true')"
   ]
  },
  {
   "cell_type": "markdown",
   "metadata": {},
   "source": [
    "# Ternary operator\n",
    "\n",
    "There is no official ternary operator in Python, but we may use the `if/else` statement as follows to mimic the ternary operator.\n",
    "\n",
    "## Don't do this"
   ]
  },
  {
   "cell_type": "code",
   "execution_count": 73,
   "metadata": {},
   "outputs": [
    {
     "name": "stdout",
     "output_type": "stream",
     "text": [
      "male\n"
     ]
    }
   ],
   "source": [
    "is_male = True\n",
    "\n",
    "if is_male:\n",
    "    gender = 'male'\n",
    "else:\n",
    "    gender = 'female'\n",
    "    \n",
    "print(gender)"
   ]
  },
  {
   "cell_type": "markdown",
   "metadata": {},
   "source": [
    "## Do this"
   ]
  },
  {
   "cell_type": "code",
   "execution_count": 74,
   "metadata": {},
   "outputs": [
    {
     "name": "stdout",
     "output_type": "stream",
     "text": [
      "male\n"
     ]
    }
   ],
   "source": [
    "gender = 'male' if is_male else 'female'\n",
    "print(gender)"
   ]
  },
  {
   "cell_type": "markdown",
   "metadata": {},
   "source": [
    "# String interpolation\n",
    "\n",
    "Note how we have to substitute `name` in twice? If we used variable names inside the substitution place holders, we only have to pass it in once. Also, note the use of `f-string` and `Template`.\n",
    "\n",
    "## Don't do this"
   ]
  },
  {
   "cell_type": "code",
   "execution_count": 75,
   "metadata": {},
   "outputs": [
    {
     "name": "stdout",
     "output_type": "stream",
     "text": [
      "John likes to eat pizza. John likes to play tennis.\n"
     ]
    }
   ],
   "source": [
    "name = 'John'\n",
    "food = 'pizza'\n",
    "sport = 'tennis'\n",
    "\n",
    "sentence = '{} likes to eat {}. {} likes to play {}.'.format(name, food, name, sport)\n",
    "print(sentence)"
   ]
  },
  {
   "cell_type": "markdown",
   "metadata": {},
   "source": [
    "## Do this"
   ]
  },
  {
   "cell_type": "code",
   "execution_count": 76,
   "metadata": {},
   "outputs": [
    {
     "name": "stdout",
     "output_type": "stream",
     "text": [
      "John likes to eat pizza. John likes to play tennis.\n",
      "John likes to eat pizza. John likes to play tennis.\n",
      "John likes to eat pizza. John likes to play tennis.\n"
     ]
    }
   ],
   "source": [
    "name = 'John'\n",
    "food = 'pizza'\n",
    "sport = 'tennis'\n",
    "\n",
    "# variable substitution\n",
    "sentence = '{name} likes to eat {}. {name} likes to play {}.'.format(food, sport, name=name)\n",
    "print(sentence)\n",
    "\n",
    "# f-string\n",
    "sentence = f'{name} likes to eat {food}. {name} likes to play {sport}.'\n",
    "print(sentence)\n",
    "\n",
    "# string template\n",
    "from string import Template\n",
    "sentence = Template('$name likes to eat $food. $name likes to play $sport.')\n",
    "print(sentence.substitute(name=name, food=food, sport=sport))"
   ]
  },
  {
   "cell_type": "markdown",
   "metadata": {},
   "source": [
    "# Don't Repeat Yourself (DRY)\n",
    "\n",
    "It's easier to do `'-'*15` to produce 15 consecutive dashes, than to type them all out.\n",
    "\n",
    "## Don't do this"
   ]
  },
  {
   "cell_type": "code",
   "execution_count": 77,
   "metadata": {},
   "outputs": [
    {
     "name": "stdout",
     "output_type": "stream",
     "text": [
      "---------------\n"
     ]
    }
   ],
   "source": [
    "print('---------------')"
   ]
  },
  {
   "cell_type": "markdown",
   "metadata": {},
   "source": [
    "## Do this"
   ]
  },
  {
   "cell_type": "code",
   "execution_count": 78,
   "metadata": {},
   "outputs": [
    {
     "name": "stdout",
     "output_type": "stream",
     "text": [
      "---------------\n"
     ]
    }
   ],
   "source": [
    "print('-'*15)"
   ]
  },
  {
   "cell_type": "markdown",
   "metadata": {},
   "source": [
    "## Double undescores, dunders, __str__\n",
    "\n",
    "Exploit dunders when doing object-oriented programming in Python. In particular, override the `__str__` dunder to enable a printer friendly representation of the object.\n",
    "\n",
    "## Don't do this"
   ]
  },
  {
   "cell_type": "code",
   "execution_count": 79,
   "metadata": {},
   "outputs": [
    {
     "name": "stdout",
     "output_type": "stream",
     "text": [
      "<__main__.Student object at 0x10f4f4e10>\n"
     ]
    }
   ],
   "source": [
    "class Student():\n",
    "    def __init__(self, first_name, last_name):\n",
    "        self.first_name = first_name\n",
    "        self.last_name = last_name\n",
    "        \n",
    "student = Student('John', 'Doe')\n",
    "print(student)"
   ]
  },
  {
   "cell_type": "markdown",
   "metadata": {},
   "source": [
    "## Do this "
   ]
  },
  {
   "cell_type": "code",
   "execution_count": 80,
   "metadata": {},
   "outputs": [
    {
     "name": "stdout",
     "output_type": "stream",
     "text": [
      "John Doe\n"
     ]
    }
   ],
   "source": [
    "class Student():\n",
    "    def __init__(self, first_name, last_name):\n",
    "        self.first_name = first_name\n",
    "        self.last_name = last_name\n",
    "        \n",
    "    def __str__(self):\n",
    "        return f'{self.first_name} {self.last_name}'\n",
    "        \n",
    "student = Student('John', 'Doe')\n",
    "print(student)"
   ]
  },
  {
   "cell_type": "markdown",
   "metadata": {},
   "source": [
    "# Enumerations\n",
    "\n",
    "If you are working with enumerations, use the `enum` package. In the example below, we have students who may be part, half or full time. If we simply declared these states with normal variables, they may be overwritten and there will be no context. On the other hand, if we use `IntEnum`, once declared, these states are immutable and provide context.\n",
    "\n",
    "## Don't do this"
   ]
  },
  {
   "cell_type": "code",
   "execution_count": 81,
   "metadata": {},
   "outputs": [],
   "source": [
    "PART_TIME = 1\n",
    "HALF_TIME = 2\n",
    "FULL_TIME = 3"
   ]
  },
  {
   "cell_type": "markdown",
   "metadata": {},
   "source": [
    "## Do this"
   ]
  },
  {
   "cell_type": "code",
   "execution_count": 82,
   "metadata": {},
   "outputs": [
    {
     "name": "stdout",
     "output_type": "stream",
     "text": [
      "StudentType.PART_TIME\n",
      "StudentType.HALF_TIME\n",
      "StudentType.FULL_TIME\n"
     ]
    }
   ],
   "source": [
    "from enum import IntEnum\n",
    "\n",
    "class StudentType(IntEnum):\n",
    "    PART_TIME = 1\n",
    "    HALF_TIME = 2\n",
    "    FULL_TIME = 3\n",
    "    \n",
    "print(StudentType.PART_TIME)\n",
    "print(StudentType.HALF_TIME)\n",
    "print(StudentType.FULL_TIME)"
   ]
  },
  {
   "cell_type": "markdown",
   "metadata": {},
   "source": [
    "# Filtering files\n",
    "\n",
    "We are able to filter strings more concisely with `fnmatch`. Notice the second example uses a method, two for loops and an if statement?\n",
    "\n",
    "## Don't do this"
   ]
  },
  {
   "cell_type": "code",
   "execution_count": 83,
   "metadata": {},
   "outputs": [
    {
     "name": "stdout",
     "output_type": "stream",
     "text": [
      "['two.py', 'four.py', 'seven.py']\n"
     ]
    }
   ],
   "source": [
    "# Example 1\n",
    "\n",
    "files = ['one.txt', 'two.py', 'three.txt', 'four.py', 'five.scala', 'six.java', 'seven.py']\n",
    "\n",
    "py_files = filter(lambda f: f.endswith('.py'), files)\n",
    "print(list(py_files))"
   ]
  },
  {
   "cell_type": "code",
   "execution_count": 84,
   "metadata": {},
   "outputs": [
    {
     "data": {
      "text/plain": [
       "38"
      ]
     },
     "execution_count": 84,
     "metadata": {},
     "output_type": "execute_result"
    }
   ],
   "source": [
    "# Example 2\n",
    "\n",
    "import os\n",
    "\n",
    "def traverse(path):\n",
    "    for basepath, directories, files in os.walk(path):\n",
    "        for f in files:\n",
    "            if f.endswith('.ipynb'):\n",
    "                yield os.path.join(basepath, f)\n",
    "\n",
    "ipynb_files = traverse('../')\n",
    "len(list(ipynb_files))"
   ]
  },
  {
   "cell_type": "markdown",
   "metadata": {},
   "source": [
    "## Do this"
   ]
  },
  {
   "cell_type": "code",
   "execution_count": 85,
   "metadata": {},
   "outputs": [
    {
     "data": {
      "text/plain": [
       "['two.py', 'four.py', 'seven.py']"
      ]
     },
     "execution_count": 85,
     "metadata": {},
     "output_type": "execute_result"
    }
   ],
   "source": [
    "# Example 1\n",
    "\n",
    "import fnmatch\n",
    "\n",
    "fnmatch.filter(files, '*.py')"
   ]
  },
  {
   "cell_type": "code",
   "execution_count": 86,
   "metadata": {},
   "outputs": [
    {
     "data": {
      "text/plain": [
       "38"
      ]
     },
     "execution_count": 86,
     "metadata": {},
     "output_type": "execute_result"
    }
   ],
   "source": [
    "# Example 2\n",
    "\n",
    "ipynb_files = fnmatch.filter(\n",
    "    (f for basepath, directories, files in os.walk('../') for f in files),\n",
    "    '*.ipynb')\n",
    "\n",
    "len(list(ipynb_files))"
   ]
  },
  {
   "cell_type": "code",
   "execution_count": 87,
   "metadata": {},
   "outputs": [
    {
     "data": {
      "text/plain": [
       "38"
      ]
     },
     "execution_count": 87,
     "metadata": {},
     "output_type": "execute_result"
    }
   ],
   "source": [
    "# Example 2, even better\n",
    "\n",
    "import pathlib\n",
    "\n",
    "ipynb_files = pathlib.Path('../').glob('**/*.ipynb')\n",
    "\n",
    "len(list(ipynb_files))"
   ]
  },
  {
   "cell_type": "markdown",
   "metadata": {},
   "source": [
    "# Saving objects\n",
    "\n",
    "In the example below, although `pickle` is a great way to save objects, `shelve` is an alternative to saving multiple data/objects into a central location. \n",
    "\n",
    "## Don't do this"
   ]
  },
  {
   "cell_type": "code",
   "execution_count": 88,
   "metadata": {},
   "outputs": [
    {
     "name": "stdout",
     "output_type": "stream",
     "text": [
      "pretend some big object 1\n",
      "pretend some big object 2\n"
     ]
    }
   ],
   "source": [
    "import pickle\n",
    "\n",
    "object_1 = 'pretend some big object 1'\n",
    "object_2 = 'pretend some big object 2'\n",
    "data = {\n",
    "    'object_1': object_1,\n",
    "    'object_2': object_2,\n",
    "}\n",
    "\n",
    "pickle.dump(data, open('data.p', 'wb')) \n",
    "\n",
    "data = pickle.load(open('data.p', 'rb'))\n",
    "print(data['object_1'])\n",
    "print(data['object_2'])"
   ]
  },
  {
   "cell_type": "markdown",
   "metadata": {},
   "source": [
    "## Do this"
   ]
  },
  {
   "cell_type": "code",
   "execution_count": 89,
   "metadata": {},
   "outputs": [
    {
     "name": "stdout",
     "output_type": "stream",
     "text": [
      "pretend some big object 1\n",
      "pretend some big object 2\n"
     ]
    }
   ],
   "source": [
    "import shelve\n",
    "\n",
    "with shelve.open('data') as s:\n",
    "    s['object_1'] = object_1\n",
    "    s['object_2'] = object_2\n",
    "    \n",
    "with shelve.open('data') as s:\n",
    "    print(s['object_1'])\n",
    "    print(s['object_2'])"
   ]
  },
  {
   "cell_type": "markdown",
   "metadata": {},
   "source": [
    "# Pandas\n",
    "\n",
    "When operating over Pandas dataframes, avoid using for loops and favor the `apply` function and Numpy `vectorization`."
   ]
  },
  {
   "cell_type": "code",
   "execution_count": 90,
   "metadata": {},
   "outputs": [],
   "source": [
    "import numpy as np\n",
    "import pandas as pd\n",
    "\n",
    "np.random.seed(37)\n",
    "\n",
    "def get_df():\n",
    "    N = 10000\n",
    "    M = 50\n",
    "    \n",
    "    get_x = lambda x: np.random.normal(x, 1, N).reshape(-1, 1)\n",
    "    get_y = lambda x: np.full(N, -1).reshape(-1, 1)\n",
    "    \n",
    "\n",
    "    X = np.hstack([get_x(x) if x < M - 1 else get_y(x) for x in range(M)])\n",
    "    columns=[f'X{i}' if i < M - 1 else 'y' for i in range(M)]\n",
    "    \n",
    "    return pd.DataFrame(\n",
    "        X,\n",
    "        columns=columns\n",
    "    )"
   ]
  },
  {
   "cell_type": "code",
   "execution_count": 91,
   "metadata": {},
   "outputs": [],
   "source": [
    "df = get_df()"
   ]
  },
  {
   "cell_type": "markdown",
   "metadata": {},
   "source": [
    "## Don't do this\n",
    "\n",
    "Standard `for loop`."
   ]
  },
  {
   "cell_type": "code",
   "execution_count": 92,
   "metadata": {},
   "outputs": [
    {
     "name": "stdout",
     "output_type": "stream",
     "text": [
      "CPU times: user 4.46 s, sys: 6.02 ms, total: 4.46 s\n",
      "Wall time: 4.46 s\n"
     ]
    }
   ],
   "source": [
    "%%time\n",
    "for row in range(len(df)):\n",
    "    total = np.sum(df.iloc[row][0:df.shape[1] - 1])\n",
    "    y = 1 if total > 1175 else 0\n",
    "    df['y'].iloc[row] = y"
   ]
  },
  {
   "cell_type": "markdown",
   "metadata": {},
   "source": [
    "Pandas `iterrows`."
   ]
  },
  {
   "cell_type": "code",
   "execution_count": 93,
   "metadata": {},
   "outputs": [
    {
     "name": "stdout",
     "output_type": "stream",
     "text": [
      "CPU times: user 4.03 s, sys: 3.76 ms, total: 4.03 s\n",
      "Wall time: 4.03 s\n"
     ]
    }
   ],
   "source": [
    "%%time\n",
    "for i, r in df.iterrows():\n",
    "    total = np.sum(r[0:df.shape[1] - 1])\n",
    "    y = 1 if total > 1175 else 0\n",
    "    df['y'].iloc[row] = y"
   ]
  },
  {
   "cell_type": "markdown",
   "metadata": {},
   "source": [
    "## Do this"
   ]
  },
  {
   "cell_type": "markdown",
   "metadata": {},
   "source": [
    "Pandas `apply`."
   ]
  },
  {
   "cell_type": "code",
   "execution_count": 94,
   "metadata": {},
   "outputs": [
    {
     "name": "stdout",
     "output_type": "stream",
     "text": [
      "CPU times: user 1.78 s, sys: 20.3 ms, total: 1.8 s\n",
      "Wall time: 1.78 s\n"
     ]
    }
   ],
   "source": [
    "%%time\n",
    "df['y'] = df.apply(lambda r: 1 if np.sum(r[0:df.shape[1] - 1]) > 1175 else 0, axis=1)"
   ]
  },
  {
   "cell_type": "markdown",
   "metadata": {},
   "source": [
    "Numpy `vectorization`. The approach below uses 3 lines to be clear about the intention, but the amount of time is in the milliseconds scale."
   ]
  },
  {
   "cell_type": "code",
   "execution_count": 95,
   "metadata": {},
   "outputs": [
    {
     "name": "stdout",
     "output_type": "stream",
     "text": [
      "CPU times: user 9.45 ms, sys: 1.46 ms, total: 10.9 ms\n",
      "Wall time: 9.85 ms\n"
     ]
    }
   ],
   "source": [
    "%%time\n",
    "\n",
    "f = lambda s: 1 if s > 1175 else 0\n",
    "s = df[[c for c in df.columns if c != 'y']].values.sum(axis=1)\n",
    "df['y'] = [f(val) for val in s]"
   ]
  },
  {
   "cell_type": "code",
   "execution_count": null,
   "metadata": {},
   "outputs": [],
   "source": []
  }
 ],
 "metadata": {
  "kernelspec": {
   "display_name": "Python 3",
   "language": "python",
   "name": "python3"
  },
  "language_info": {
   "codemirror_mode": {
    "name": "ipython",
    "version": 3
   },
   "file_extension": ".py",
   "mimetype": "text/x-python",
   "name": "python",
   "nbconvert_exporter": "python",
   "pygments_lexer": "ipython3",
   "version": "3.7.3"
  }
 },
 "nbformat": 4,
 "nbformat_minor": 4
}
