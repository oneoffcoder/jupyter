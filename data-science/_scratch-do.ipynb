{
 "cells": [
  {
   "cell_type": "code",
   "execution_count": 3,
   "metadata": {},
   "outputs": [
    {
     "data": {
      "text/plain": [
       "(10000, 2)"
      ]
     },
     "execution_count": 3,
     "metadata": {},
     "output_type": "execute_result"
    }
   ],
   "source": [
    "import numpy as np\n",
    "from numpy.random import normal\n",
    "\n",
    "\n",
    "np.random.seed(37)\n",
    "np.set_printoptions(**{'edgeitems': 3,\n",
    " 'threshold': 1000,\n",
    " 'floatmode': 'maxprec',\n",
    " 'precision': 5,\n",
    " 'suppress': False,\n",
    " 'linewidth': 75,\n",
    " 'nanstr': 'nan',\n",
    " 'infstr': 'inf',\n",
    " 'sign': '-',\n",
    " 'formatter': None,\n",
    " 'legacy': False})\n",
    "\n",
    "N = 10000\n",
    "\n",
    "x = normal(1, 1, N)\n",
    "y = normal(10, 1, N)\n",
    "\n",
    "X = np.concatenate([x.reshape(-1, 1), y.reshape(-1, 1)], axis=1)\n",
    "X.shape"
   ]
  },
  {
   "cell_type": "code",
   "execution_count": 4,
   "metadata": {},
   "outputs": [
    {
     "data": {
      "text/plain": [
       "array([[0.9907 , 0.00784],\n",
       "       [0.00784, 1.01002]])"
      ]
     },
     "execution_count": 4,
     "metadata": {},
     "output_type": "execute_result"
    }
   ],
   "source": [
    "np.cov(X.T)"
   ]
  },
  {
   "cell_type": "code",
   "execution_count": 5,
   "metadata": {},
   "outputs": [
    {
     "data": {
      "text/plain": [
       "array([1.00172, 9.99083])"
      ]
     },
     "execution_count": 5,
     "metadata": {},
     "output_type": "execute_result"
    }
   ],
   "source": [
    "X.mean(axis=0)"
   ]
  },
  {
   "cell_type": "code",
   "execution_count": 6,
   "metadata": {},
   "outputs": [
    {
     "data": {
      "text/plain": [
       "(10000, 3)"
      ]
     },
     "execution_count": 6,
     "metadata": {},
     "output_type": "execute_result"
    }
   ],
   "source": [
    "z = normal(1, 1, N)\n",
    "x = normal(1 + 0.5 * z, 1, N)\n",
    "y = normal(1 + 1.5 * z, 1, N)\n",
    "\n",
    "X = np.concatenate([v.reshape(-1, 1) for v in [x, z, y]], axis=1)\n",
    "X.shape"
   ]
  },
  {
   "cell_type": "code",
   "execution_count": 7,
   "metadata": {},
   "outputs": [
    {
     "name": "stdout",
     "output_type": "stream",
     "text": [
      "[[1.27528 0.50693 0.75983]\n",
      " [0.50693 0.98453 1.46188]\n",
      " [0.75983 1.46188 3.18736]]\n"
     ]
    }
   ],
   "source": [
    "C = np.cov(X.T)\n",
    "print(C)"
   ]
  },
  {
   "cell_type": "code",
   "execution_count": 8,
   "metadata": {},
   "outputs": [
    {
     "name": "stdout",
     "output_type": "stream",
     "text": [
      "[1.4914  1.00499 2.52256]\n"
     ]
    }
   ],
   "source": [
    "M = X.mean(axis=0)\n",
    "print(M)"
   ]
  },
  {
   "cell_type": "code",
   "execution_count": 43,
   "metadata": {},
   "outputs": [],
   "source": []
  },
  {
   "cell_type": "code",
   "execution_count": 28,
   "metadata": {},
   "outputs": [],
   "source": [
    "def cartesian_product(arrays):\n",
    "    la = len(arrays)\n",
    "    dtype = np.find_common_type([a.dtype for a in arrays], [])\n",
    "    arr = np.empty([len(a) for a in arrays] + [la], dtype=dtype)\n",
    "    for i, a in enumerate(np.ix_(*arrays)):\n",
    "        arr[..., i] = a\n",
    "    return arr.reshape(-1, la)"
   ]
  },
  {
   "cell_type": "code",
   "execution_count": 31,
   "metadata": {},
   "outputs": [],
   "source": [
    "X_p = cartesian_product([x_p, z_p, y_p])"
   ]
  },
  {
   "cell_type": "code",
   "execution_count": 34,
   "metadata": {},
   "outputs": [],
   "source": [
    "X_p = cartesian_product([np.linspace(X[:,i].min(), X[:,i].max(), 50) for i in range(X.shape[1])])"
   ]
  },
  {
   "cell_type": "code",
   "execution_count": 35,
   "metadata": {},
   "outputs": [
    {
     "data": {
      "text/plain": [
       "array([[-2.32935, -2.5954 , -4.61718],\n",
       "       [-2.32935, -2.5954 , -4.32808],\n",
       "       [-2.32935, -2.5954 , -4.03899],\n",
       "       ...,\n",
       "       [ 5.3972 ,  5.10626,  8.97036],\n",
       "       [ 5.3972 ,  5.10626,  9.25946],\n",
       "       [ 5.3972 ,  5.10626,  9.54855]])"
      ]
     },
     "execution_count": 35,
     "metadata": {},
     "output_type": "execute_result"
    }
   ],
   "source": [
    "X_p"
   ]
  },
  {
   "cell_type": "code",
   "execution_count": 44,
   "metadata": {},
   "outputs": [
    {
     "name": "stdout",
     "output_type": "stream",
     "text": [
      "CPU times: user 17.4 s, sys: 43.7 ms, total: 17.4 s\n",
      "Wall time: 17.5 s\n"
     ]
    },
    {
     "data": {
      "text/plain": [
       "(0.9991612838528925, 1.4853659560281617e-08)"
      ]
     },
     "execution_count": 44,
     "metadata": {},
     "output_type": "execute_result"
    }
   ],
   "source": [
    "%%time\n",
    "from scipy.stats import multivariate_normal as mvn\n",
    "from scipy import integrate\n",
    "\n",
    "f = lambda x, z, y: mvn.pdf([x, z, y], M, C)\n",
    "bounds = [[X[:,i].min(), X[:,i].max()] for i in range(X.shape[1])]\n",
    "integrate.nquad(f, bounds)"
   ]
  },
  {
   "cell_type": "code",
   "execution_count": 47,
   "metadata": {},
   "outputs": [
    {
     "name": "stdout",
     "output_type": "stream",
     "text": [
      "CPU times: user 3.91 s, sys: 12 ms, total: 3.92 s\n",
      "Wall time: 3.91 s\n"
     ]
    },
    {
     "data": {
      "text/plain": [
       "(8.04014933589318e-06, 1.1385570458801582e-08)"
      ]
     },
     "execution_count": 47,
     "metadata": {},
     "output_type": "execute_result"
    }
   ],
   "source": [
    "%%time\n",
    "bounds = [[X[:,i].min(), X[:,i].max()] if i != 1 else [1-0.00001, 1+0.00001] for i in range(X.shape[1])]\n",
    "integrate.nquad(f, bounds)"
   ]
  },
  {
   "cell_type": "code",
   "execution_count": 48,
   "metadata": {},
   "outputs": [
    {
     "name": "stdout",
     "output_type": "stream",
     "text": [
      "CPU times: user 3.57 s, sys: 3.97 ms, total: 3.58 s\n",
      "Wall time: 3.57 s\n"
     ]
    },
    {
     "data": {
      "text/plain": [
       "(4.861766928394146e-06, 1.4221415567292267e-08)"
      ]
     },
     "execution_count": 48,
     "metadata": {},
     "output_type": "execute_result"
    }
   ],
   "source": [
    "%%time\n",
    "bounds = [[X[:,i].min(), X[:,i].max()] if i != 1 else [2-0.00001, 2+0.00001] for i in range(X.shape[1])]\n",
    "integrate.nquad(f, bounds)"
   ]
  },
  {
   "cell_type": "code",
   "execution_count": 49,
   "metadata": {},
   "outputs": [
    {
     "name": "stdout",
     "output_type": "stream",
     "text": [
      "CPU times: user 3.81 s, sys: 0 ns, total: 3.81 s\n",
      "Wall time: 3.8 s\n"
     ]
    },
    {
     "data": {
      "text/plain": [
       "(1.0630363492043103e-06, 1.0572417889392454e-08)"
      ]
     },
     "execution_count": 49,
     "metadata": {},
     "output_type": "execute_result"
    }
   ],
   "source": [
    "%%time\n",
    "bounds = [[X[:,i].min(), X[:,i].max()] if i != 1 else [3-0.00001, 3+0.00001] for i in range(X.shape[1])]\n",
    "integrate.nquad(f, bounds)"
   ]
  },
  {
   "cell_type": "code",
   "execution_count": null,
   "metadata": {},
   "outputs": [],
   "source": []
  }
 ],
 "metadata": {
  "kernelspec": {
   "display_name": "Python 3",
   "language": "python",
   "name": "python3"
  },
  "language_info": {
   "codemirror_mode": {
    "name": "ipython",
    "version": 3
   },
   "file_extension": ".py",
   "mimetype": "text/x-python",
   "name": "python",
   "nbconvert_exporter": "python",
   "pygments_lexer": "ipython3",
   "version": "3.7.3"
  }
 },
 "nbformat": 4,
 "nbformat_minor": 4
}
