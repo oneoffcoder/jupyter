{
 "cells": [
  {
   "cell_type": "code",
   "execution_count": 10,
   "metadata": {},
   "outputs": [
    {
     "data": {
      "text/plain": [
       "guess          8.500000\n",
       "weight         8.429486\n",
       "measurement    9.500000\n",
       "dtype: float64"
      ]
     },
     "execution_count": 10,
     "metadata": {},
     "output_type": "execute_result"
    }
   ],
   "source": [
    "import matplotlib.pyplot as plt\n",
    "import numpy as np\n",
    "import torch\n",
    "\n",
    "import pyro\n",
    "import pyro.infer\n",
    "import pyro.optim\n",
    "import pyro.distributions as dist\n",
    "\n",
    "import pandas as pd\n",
    "\n",
    "pyro.set_rng_seed(101)\n",
    "\n",
    "def scale(guess):\n",
    "    weight = pyro.sample(\"weight\", dist.Normal(guess, 1.0))\n",
    "    measurement = pyro.sample(\"measurement\", dist.Normal(weight, 0.75))\n",
    "    return guess, weight.item(), measurement\n",
    "\n",
    "df = pd.DataFrame([pyro.condition(scale, data={\"measurement\": 9.5})(8.5) for _ in range(100)], columns=['guess', 'weight', 'measurement'])\n",
    "df.mean()"
   ]
  },
  {
   "cell_type": "code",
   "execution_count": 41,
   "metadata": {},
   "outputs": [],
   "source": [
    "def serial():\n",
    "    X = pyro.sample('X', dist.Normal(10, 1))\n",
    "    Z = pyro.sample('Z', dist.Normal(2 * X, 1))\n",
    "    Y = pyro.sample('Y', dist.Normal(3 * Z, 1))\n",
    "    \n",
    "    X = X.item() if isinstance(X, torch.Tensor) else X\n",
    "    Z = Z.item() if isinstance(Z, torch.Tensor) else Z\n",
    "    Y = Y.item() if isinstance(Y, torch.Tensor) else Y\n",
    "    \n",
    "    return X, Z, Y"
   ]
  },
  {
   "cell_type": "code",
   "execution_count": 42,
   "metadata": {},
   "outputs": [
    {
     "data": {
      "text/plain": [
       "0    10.007839\n",
       "1    20.021110\n",
       "2    60.071404\n",
       "dtype: float64"
      ]
     },
     "execution_count": 42,
     "metadata": {},
     "output_type": "execute_result"
    }
   ],
   "source": [
    "pd.DataFrame([serial() for _ in range(10000)]).mean()"
   ]
  },
  {
   "cell_type": "code",
   "execution_count": 43,
   "metadata": {},
   "outputs": [
    {
     "data": {
      "text/plain": [
       "0    15.000000\n",
       "1    30.006949\n",
       "2    90.021622\n",
       "dtype: float64"
      ]
     },
     "execution_count": 43,
     "metadata": {},
     "output_type": "execute_result"
    }
   ],
   "source": [
    "pd.DataFrame([pyro.condition(serial, data={'X': 15})() for _ in range(10000)]).mean()"
   ]
  },
  {
   "cell_type": "code",
   "execution_count": 44,
   "metadata": {},
   "outputs": [
    {
     "data": {
      "text/plain": [
       "0    10.001514\n",
       "1    10.000000\n",
       "2    30.012987\n",
       "dtype: float64"
      ]
     },
     "execution_count": 44,
     "metadata": {},
     "output_type": "execute_result"
    }
   ],
   "source": [
    "pd.DataFrame([pyro.condition(serial, data={'Z': 10})() for _ in range(10000)]).mean()"
   ]
  },
  {
   "cell_type": "code",
   "execution_count": 45,
   "metadata": {},
   "outputs": [
    {
     "data": {
      "text/plain": [
       "0     9.981798\n",
       "1    19.950718\n",
       "2     7.000000\n",
       "dtype: float64"
      ]
     },
     "execution_count": 45,
     "metadata": {},
     "output_type": "execute_result"
    }
   ],
   "source": [
    "pd.DataFrame([pyro.condition(serial, data={'Y': 7})() for _ in range(10000)]).mean()"
   ]
  },
  {
   "cell_type": "markdown",
   "metadata": {},
   "source": [
    "* http://pyro.ai/examples/intro_part_ii.html"
   ]
  },
  {
   "cell_type": "code",
   "execution_count": null,
   "metadata": {},
   "outputs": [],
   "source": []
  }
 ],
 "metadata": {
  "kernelspec": {
   "display_name": "Python 3",
   "language": "python",
   "name": "python3"
  },
  "language_info": {
   "codemirror_mode": {
    "name": "ipython",
    "version": 3
   },
   "file_extension": ".py",
   "mimetype": "text/x-python",
   "name": "python",
   "nbconvert_exporter": "python",
   "pygments_lexer": "ipython3",
   "version": "3.7.3"
  }
 },
 "nbformat": 4,
 "nbformat_minor": 2
}
