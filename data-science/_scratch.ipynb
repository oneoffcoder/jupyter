{
 "cells": [
  {
   "cell_type": "code",
   "execution_count": 86,
   "metadata": {},
   "outputs": [],
   "source": [
    "import nltk\n",
    "from nltk.corpus import wordnet as wn\n",
    "from nltk.stem import PorterStemmer\n",
    "\n",
    "def clean(text):\n",
    "    t = text.lower().strip()\n",
    "    t = t.split()\n",
    "    t = remove_stop_words(t)\n",
    "    t = [get_lemma(w) for w in t]\n",
    "    t = [get_stem(w) for w in t]\n",
    "    return t\n",
    "\n",
    "def get_stem(w):\n",
    "    return PorterStemmer().stem(w)\n",
    "    \n",
    "def get_lemma(w):\n",
    "    lemma = wn.morphy(w)\n",
    "    return w if lemma is None else lemma\n",
    "    \n",
    "def remove_stop_words(tokens):\n",
    "    stop_words = nltk.corpus.stopwords.words('english')\n",
    "    return [token for token in tokens if token not in stop_words]\n",
    "\n",
    "\n",
    "texts = [\n",
    "    'The Art of Computer Programming',\n",
    "    'Computer Programming Learn Any Programming Language In 2 Hours',\n",
    "    'The Self-Taught Programmer The Definitive Guide to Programming Professionally',\n",
    "    'The Complete Software Developers Career Guide How to Learn Your Next Programming Language',\n",
    "    'Cracking the Coding Interview 189 Programming Questions and Solutions',\n",
    "    'The Economics Book Big Ideas Simply Explained',\n",
    "    'Economics in One Lesson The Shortest and Surest Way to Understand Basic Economics',\n",
    "    'Basic Economics',\n",
    "    'Aftermath Seven Secrets of Wealth Preservation in the Coming Chaos',\n",
    "    'Economics 101 From Consumer Behavior to Competitive Markets Everything You Need to Know About Economics'\n",
    "]\n",
    "\n",
    "texts = [clean(t) for t in texts]"
   ]
  },
  {
   "cell_type": "code",
   "execution_count": 87,
   "metadata": {},
   "outputs": [
    {
     "data": {
      "text/plain": [
       "[['art', 'comput', 'program'],\n",
       " ['comput', 'program', 'learn', 'program', 'languag', '2', 'hour'],\n",
       " ['self-taught', 'programm', 'definit', 'guid', 'program', 'profession'],\n",
       " ['complet',\n",
       "  'softwar',\n",
       "  'develop',\n",
       "  'career',\n",
       "  'guid',\n",
       "  'learn',\n",
       "  'next',\n",
       "  'program',\n",
       "  'languag'],\n",
       " ['crack', 'code', 'interview', '189', 'program', 'question', 'solut'],\n",
       " ['econom', 'book', 'big', 'idea', 'simpli', 'explain'],\n",
       " ['econom',\n",
       "  'one',\n",
       "  'lesson',\n",
       "  'short',\n",
       "  'sure',\n",
       "  'way',\n",
       "  'understand',\n",
       "  'basic',\n",
       "  'econom'],\n",
       " ['basic', 'econom'],\n",
       " ['aftermath', 'seven', 'secret', 'wealth', 'preserv', 'come', 'chao'],\n",
       " ['econom',\n",
       "  '101',\n",
       "  'consum',\n",
       "  'behavior',\n",
       "  'competit',\n",
       "  'market',\n",
       "  'everyth',\n",
       "  'need',\n",
       "  'know',\n",
       "  'econom']]"
      ]
     },
     "execution_count": 87,
     "metadata": {},
     "output_type": "execute_result"
    }
   ],
   "source": [
    "texts"
   ]
  },
  {
   "cell_type": "code",
   "execution_count": 88,
   "metadata": {},
   "outputs": [
    {
     "name": "stdout",
     "output_type": "stream",
     "text": [
      "(2, 2)\n"
     ]
    }
   ],
   "source": [
    "from gensim import corpora\n",
    "from gensim.models import LdaModel\n",
    "\n",
    "dictionary = corpora.Dictionary(texts)\n",
    "dictionary.filter_extremes(no_below=3)\n",
    "corpus = [dictionary.doc2bow(text) for text in texts]\n",
    "\n",
    "lda = LdaModel(corpus, \n",
    "               id2word=dictionary, \n",
    "               num_topics=2, \n",
    "               random_state=37, \n",
    "               iterations=100,\n",
    "               passes=20,\n",
    "               per_word_topics=False)\n",
    "corpus_lda = lda[corpus]\n",
    "print(lda.get_topics().shape)"
   ]
  },
  {
   "cell_type": "code",
   "execution_count": 89,
   "metadata": {},
   "outputs": [
    {
     "data": {
      "text/plain": [
       "[(0, '0.926*\"econom\" + 0.074*\"program\"'),\n",
       " (1, '0.926*\"program\" + 0.074*\"econom\"')]"
      ]
     },
     "execution_count": 89,
     "metadata": {},
     "output_type": "execute_result"
    }
   ],
   "source": [
    "lda.print_topics()"
   ]
  },
  {
   "cell_type": "code",
   "execution_count": 90,
   "metadata": {},
   "outputs": [
    {
     "data": {
      "text/plain": [
       "[(0, 0.74824655), (1, 0.25175342)]"
      ]
     },
     "execution_count": 90,
     "metadata": {},
     "output_type": "execute_result"
    }
   ],
   "source": [
    "lda[dictionary.doc2bow(clean('Naked Economics Undressing the Dismal Science'))]"
   ]
  },
  {
   "cell_type": "code",
   "execution_count": 91,
   "metadata": {},
   "outputs": [
    {
     "data": {
      "text/plain": [
       "[(0, 0.25178012), (1, 0.74821985)]"
      ]
     },
     "execution_count": 91,
     "metadata": {},
     "output_type": "execute_result"
    }
   ],
   "source": [
    "lda[dictionary.doc2bow(clean('Elements of Programming Interviews in Python The Insiders Guide'))]"
   ]
  },
  {
   "cell_type": "code",
   "execution_count": 92,
   "metadata": {},
   "outputs": [
    {
     "name": "stdout",
     "output_type": "stream",
     "text": [
      "[(0, 0.25178382), (1, 0.74821615)]\n",
      "[(0, 0.16788752), (1, 0.8321125)]\n",
      "[(0, 0.25178117), (1, 0.74821883)]\n",
      "[(0, 0.25178203), (1, 0.748218)]\n",
      "[(0, 0.25178233), (1, 0.7482177)]\n",
      "[(0, 0.7482476), (1, 0.25175238)]\n",
      "[(0, 0.8321306), (1, 0.16786939)]\n",
      "[(0, 0.74824744), (1, 0.25175253)]\n",
      "[(0, 0.5), (1, 0.5)]\n",
      "[(0, 0.83212996), (1, 0.16787006)]\n"
     ]
    }
   ],
   "source": [
    "for d in corpus_lda:\n",
    "    print(d)"
   ]
  },
  {
   "cell_type": "code",
   "execution_count": 93,
   "metadata": {},
   "outputs": [
    {
     "name": "stderr",
     "output_type": "stream",
     "text": [
      "/home/super/anaconda3/lib/python3.7/site-packages/matplotlib/colors.py:53: DeprecationWarning: Using or importing the ABCs from 'collections' instead of from 'collections.abc' is deprecated, and in 3.8 it will stop working\n",
      "  from collections import Sized\n",
      "/home/super/anaconda3/lib/python3.7/site-packages/pyLDAvis/_prepare.py:257: FutureWarning: Sorting because non-concatenation axis is not aligned. A future version\n",
      "of pandas will change to not sort by default.\n",
      "\n",
      "To accept the future behavior, pass 'sort=False'.\n",
      "\n",
      "To retain the current behavior and silence the warning, pass 'sort=True'.\n",
      "\n",
      "  return pd.concat([default_term_info] + list(topic_dfs))\n"
     ]
    },
    {
     "data": {
      "text/html": [
       "\n",
       "<link rel=\"stylesheet\" type=\"text/css\" href=\"https://cdn.rawgit.com/bmabey/pyLDAvis/files/ldavis.v1.0.0.css\">\n",
       "\n",
       "\n",
       "<div id=\"ldavis_el17772139908461413504966842432\"></div>\n",
       "<script type=\"text/javascript\">\n",
       "\n",
       "var ldavis_el17772139908461413504966842432_data = {\"mdsDat\": {\"x\": [0.21455781161785126, -0.21455781161785126], \"y\": [0.0, 0.0], \"topics\": [1, 2], \"cluster\": [1, 1], \"Freq\": [51.39925003051758, 48.60075378417969]}, \"tinfo\": {\"Category\": [\"Default\", \"Default\", \"Topic1\", \"Topic1\", \"Topic2\", \"Topic2\"], \"Freq\": [5.0, 6.0, 5.709618091583252, 0.45829159021377563, 5.401509761810303, 0.4305807650089264], \"Term\": [\"program\", \"econom\", \"econom\", \"program\", \"program\", \"econom\"], \"Total\": [5.0, 6.0, 6.140198707580566, 5.859801292419434, 5.859801292419434, 6.140198707580566], \"loglift\": [2.0, 1.0, 0.5928000211715698, -1.8827999830245972, 0.6401000022888184, -1.9358999729156494], \"logprob\": [2.0, 1.0, -0.07720000296831131, -2.599600076675415, -0.07670000195503235, -2.6059999465942383]}, \"token.table\": {\"Topic\": [1, 2], \"Freq\": [0.9771670699119568, 0.8532712459564209], \"Term\": [\"econom\", \"program\"]}, \"R\": 2, \"lambda.step\": 0.01, \"plot.opts\": {\"xlab\": \"PC1\", \"ylab\": \"PC2\"}, \"topic.order\": [1, 2]};\n",
       "\n",
       "function LDAvis_load_lib(url, callback){\n",
       "  var s = document.createElement('script');\n",
       "  s.src = url;\n",
       "  s.async = true;\n",
       "  s.onreadystatechange = s.onload = callback;\n",
       "  s.onerror = function(){console.warn(\"failed to load library \" + url);};\n",
       "  document.getElementsByTagName(\"head\")[0].appendChild(s);\n",
       "}\n",
       "\n",
       "if(typeof(LDAvis) !== \"undefined\"){\n",
       "   // already loaded: just create the visualization\n",
       "   !function(LDAvis){\n",
       "       new LDAvis(\"#\" + \"ldavis_el17772139908461413504966842432\", ldavis_el17772139908461413504966842432_data);\n",
       "   }(LDAvis);\n",
       "}else if(typeof define === \"function\" && define.amd){\n",
       "   // require.js is available: use it to load d3/LDAvis\n",
       "   require.config({paths: {d3: \"https://cdnjs.cloudflare.com/ajax/libs/d3/3.5.5/d3.min\"}});\n",
       "   require([\"d3\"], function(d3){\n",
       "      window.d3 = d3;\n",
       "      LDAvis_load_lib(\"https://cdn.rawgit.com/bmabey/pyLDAvis/files/ldavis.v1.0.0.js\", function(){\n",
       "        new LDAvis(\"#\" + \"ldavis_el17772139908461413504966842432\", ldavis_el17772139908461413504966842432_data);\n",
       "      });\n",
       "    });\n",
       "}else{\n",
       "    // require.js not available: dynamically load d3 & LDAvis\n",
       "    LDAvis_load_lib(\"https://cdnjs.cloudflare.com/ajax/libs/d3/3.5.5/d3.min.js\", function(){\n",
       "         LDAvis_load_lib(\"https://cdn.rawgit.com/bmabey/pyLDAvis/files/ldavis.v1.0.0.js\", function(){\n",
       "                 new LDAvis(\"#\" + \"ldavis_el17772139908461413504966842432\", ldavis_el17772139908461413504966842432_data);\n",
       "            })\n",
       "         });\n",
       "}\n",
       "</script>"
      ],
      "text/plain": [
       "<IPython.core.display.HTML object>"
      ]
     },
     "execution_count": 93,
     "metadata": {},
     "output_type": "execute_result"
    }
   ],
   "source": [
    "import pyLDAvis.gensim\n",
    "\n",
    "lda_display = pyLDAvis.gensim.prepare(lda, corpus, dictionary, sort_topics=False)\n",
    "pyLDAvis.display(lda_display)"
   ]
  },
  {
   "cell_type": "code",
   "execution_count": null,
   "metadata": {},
   "outputs": [],
   "source": []
  }
 ],
 "metadata": {
  "kernelspec": {
   "display_name": "Python 3",
   "language": "python",
   "name": "python3"
  },
  "language_info": {
   "codemirror_mode": {
    "name": "ipython",
    "version": 3
   },
   "file_extension": ".py",
   "mimetype": "text/x-python",
   "name": "python",
   "nbconvert_exporter": "python",
   "pygments_lexer": "ipython3",
   "version": "3.7.3"
  }
 },
 "nbformat": 4,
 "nbformat_minor": 2
}
