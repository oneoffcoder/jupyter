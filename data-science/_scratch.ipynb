{
 "cells": [
  {
   "cell_type": "markdown",
   "metadata": {},
   "source": [
    "# Case 1\n",
    "\n",
    "* $X_0 \\rightarrow X_1$"
   ]
  },
  {
   "cell_type": "code",
   "execution_count": 59,
   "metadata": {},
   "outputs": [],
   "source": [
    "import numpy as np\n",
    "from numpy.random import normal"
   ]
  },
  {
   "cell_type": "code",
   "execution_count": 70,
   "metadata": {},
   "outputs": [
    {
     "name": "stdout",
     "output_type": "stream",
     "text": [
      "(10000, 2)\n",
      "(2,)\n",
      "(2, 2)\n",
      "mean [-0.01899184  0.94789261]\n",
      "cov [[0.98317994 1.97951285]\n",
      " [1.97951285 5.01391684]]\n"
     ]
    }
   ],
   "source": [
    "N = 10000\n",
    "x0 = normal(0, 1, N)\n",
    "x1 = normal(1 + 2 * x0, 1, N)\n",
    "\n",
    "X = np.hstack([x0.reshape(-1, 1), x1.reshape(-1, 1)])\n",
    "M = np.mean(X, axis=0)\n",
    "S = np.cov(X.T)\n",
    "\n",
    "print(X.shape)\n",
    "print(M.shape)\n",
    "print(S.shape)\n",
    "print('mean', M)\n",
    "print('cov', S)"
   ]
  },
  {
   "cell_type": "code",
   "execution_count": 71,
   "metadata": {},
   "outputs": [
    {
     "data": {
      "text/plain": [
       "-0.19582149038282676"
      ]
     },
     "execution_count": 71,
     "metadata": {},
     "output_type": "execute_result"
    }
   ],
   "source": [
    "M[0] + S[0,1] / S[1,1] * (0.5 - M[1])"
   ]
  },
  {
   "cell_type": "code",
   "execution_count": 72,
   "metadata": {},
   "outputs": [
    {
     "data": {
      "text/plain": [
       "1.9928193548620645"
      ]
     },
     "execution_count": 72,
     "metadata": {},
     "output_type": "execute_result"
    }
   ],
   "source": [
    "M[1] + S[1,0] / S[0,0] * (0.5 - M[0])"
   ]
  },
  {
   "cell_type": "code",
   "execution_count": 73,
   "metadata": {},
   "outputs": [
    {
     "data": {
      "text/plain": [
       "0.20166096433503533"
      ]
     },
     "execution_count": 73,
     "metadata": {},
     "output_type": "execute_result"
    }
   ],
   "source": [
    "S[0,0] - S[0,1] / S[1,1] * S[1,0]"
   ]
  },
  {
   "cell_type": "code",
   "execution_count": 74,
   "metadata": {},
   "outputs": [
    {
     "data": {
      "text/plain": [
       "1.0284092131397191"
      ]
     },
     "execution_count": 74,
     "metadata": {},
     "output_type": "execute_result"
    }
   ],
   "source": [
    "S[1,1] - S[1,0] / S[0,0] * S[1,0]"
   ]
  },
  {
   "cell_type": "markdown",
   "metadata": {},
   "source": [
    "# Case 2\n",
    "\n",
    "* $X_0 \\rightarrow X_1 \\rightarrow X_2$"
   ]
  },
  {
   "cell_type": "code",
   "execution_count": 105,
   "metadata": {},
   "outputs": [
    {
     "name": "stdout",
     "output_type": "stream",
     "text": [
      "(10000, 3)\n",
      "(3,)\n",
      "(3, 3)\n",
      "mean [0.00625759 1.01253943 3.00628665]\n",
      "cov [[ 1.00836436  2.00566096  3.99240038]\n",
      " [ 2.00566096  4.96641399  9.91688098]\n",
      " [ 3.99240038  9.91688098 20.80859976]]\n"
     ]
    }
   ],
   "source": [
    "N = 10000\n",
    "x0 = normal(0, 1, N)\n",
    "x1 = normal(1 + 2 * x0, 1, N)\n",
    "x2 = normal(1 + 2 * x1, 1, N)\n",
    "\n",
    "X = np.hstack([x0.reshape(-1, 1), x1.reshape(-1, 1), x2.reshape(-1, 1)])\n",
    "M = np.mean(X, axis=0)\n",
    "S = np.cov(X.T)\n",
    "\n",
    "print(X.shape)\n",
    "print(M.shape)\n",
    "print(S.shape)\n",
    "print('mean', M)\n",
    "print('cov', S)"
   ]
  },
  {
   "cell_type": "code",
   "execution_count": 106,
   "metadata": {},
   "outputs": [
    {
     "data": {
      "text/plain": [
       "array([[1.        , 0.89624618, 0.87157329],\n",
       "       [0.89624618, 1.        , 0.9755111 ],\n",
       "       [0.87157329, 0.9755111 , 1.        ]])"
      ]
     },
     "execution_count": 106,
     "metadata": {},
     "output_type": "execute_result"
    }
   ],
   "source": [
    "np.corrcoef(X.T)"
   ]
  },
  {
   "cell_type": "code",
   "execution_count": 110,
   "metadata": {},
   "outputs": [
    {
     "data": {
      "text/plain": [
       "array([[ 1.00836436],\n",
       "       [20.80859976]])"
      ]
     },
     "execution_count": 110,
     "metadata": {},
     "output_type": "execute_result"
    }
   ],
   "source": [
    "S[ [[0],[2]], [[0],[2]]]"
   ]
  },
  {
   "cell_type": "code",
   "execution_count": null,
   "metadata": {},
   "outputs": [],
   "source": []
  },
  {
   "cell_type": "code",
   "execution_count": null,
   "metadata": {},
   "outputs": [],
   "source": []
  },
  {
   "cell_type": "markdown",
   "metadata": {},
   "source": [
    "* https://stackoverflow.com/questions/22927181/selecting-specific-rows-and-columns-from-numpy-array\n",
    "* https://docs.scipy.org/doc/numpy/reference/generated/numpy.delete.html\n",
    "* https://stackoverflow.com/questions/38713746/python-numpy-conditional-simulation-from-a-multivatiate-distribution"
   ]
  }
 ],
 "metadata": {
  "kernelspec": {
   "display_name": "Python 3",
   "language": "python",
   "name": "python3"
  },
  "language_info": {
   "codemirror_mode": {
    "name": "ipython",
    "version": 3
   },
   "file_extension": ".py",
   "mimetype": "text/x-python",
   "name": "python",
   "nbconvert_exporter": "python",
   "pygments_lexer": "ipython3",
   "version": "3.7.3"
  }
 },
 "nbformat": 4,
 "nbformat_minor": 4
}
