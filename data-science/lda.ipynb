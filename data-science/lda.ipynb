{
 "cells": [
  {
   "cell_type": "markdown",
   "metadata": {},
   "source": [
    "# Simulate the data"
   ]
  },
  {
   "cell_type": "code",
   "execution_count": 1,
   "metadata": {},
   "outputs": [],
   "source": [
    "%matplotlib inline\n",
    "import seaborn as sns\n",
    "import matplotlib.pyplot as plt\n",
    "import numpy as np\n",
    "from scipy.stats import dirichlet, multinomial\n",
    "from scipy.sparse import lil_matrix\n",
    "import pandas as pd\n",
    "from sklearn.feature_extraction.text import TfidfTransformer\n",
    "\n",
    "np.random.seed(37)\n",
    "\n",
    "# number of topics\n",
    "K = 10\n",
    "# number of words\n",
    "N = 100\n",
    "# number of documents\n",
    "M = 1000\n",
    "\n",
    "# priors on K topics\n",
    "a = np.array([0.1, 0.2, 0.3, 0.4, 0.025, 0.015, 0.37, 0.88, 0.03, 0.08])\n",
    "# priors on N words\n",
    "b = np.full((1, N), 0.001, dtype=float)[0]\n",
    "\n",
    "# distribution of words in topic k\n",
    "psi = np.array([dirichlet.rvs(b)[0] for _ in range(K)])\n",
    "\n",
    "# distribution of topics in document d\n",
    "theta = np.array([dirichlet.rvs(a)[0] for _ in range(M)])\n",
    "\n",
    "# simulate the documents\n",
    "texts = []\n",
    "docs = []\n",
    "for i in range(M):\n",
    "    d = {}\n",
    "    t = []\n",
    "    for j in range(N):\n",
    "        z_ij = multinomial.rvs(1, theta[i] / theta[i].sum())\n",
    "        topic = np.argmax(z_ij)\n",
    "        \n",
    "        w_ij = multinomial.rvs(1, psi[topic] / psi[topic].sum())\n",
    "        word = np.argmax(w_ij)\n",
    "        \n",
    "        if word not in d:\n",
    "            d[word] = 0\n",
    "        d[word] = d[word] + 1\n",
    "        t.append('w{}'.format(word))\n",
    "    docs.append(d)\n",
    "    texts.append(' '.join(t))\n",
    "\n",
    "# make a nice matrix\n",
    "C = lil_matrix((M, N), dtype=np.int16)\n",
    "for i, d in enumerate(docs):\n",
    "    counts = sorted(list(d.items()), key=lambda tup: tup[0])\n",
    "    for tup in counts:\n",
    "        C[i, tup[0]] = tup[1]\n",
    "        \n",
    "X = TfidfTransformer().fit_transform(C)"
   ]
  },
  {
   "cell_type": "markdown",
   "metadata": {},
   "source": [
    "# Gaussian mixture models"
   ]
  },
  {
   "cell_type": "code",
   "execution_count": 2,
   "metadata": {},
   "outputs": [
    {
     "name": "stdout",
     "output_type": "stream",
     "text": [
      "2: aic=-91377.4925931899\n",
      "3: aic=-115401.48064693023\n",
      "4: aic=-140093.33933540553\n",
      "5: aic=-140323.78987370024\n",
      "6: aic=-141875.76088708825\n",
      "7: aic=-148775.55233751613\n",
      "8: aic=-144864.34044251216\n",
      "9: aic=-145063.49226211055\n",
      "10: aic=-150715.1903769901\n",
      "11: aic=-152996.52348895653\n",
      "12: aic=-155759.24880410856\n",
      "13: aic=-154738.52657589086\n",
      "14: aic=-155298.35704192414\n",
      "15: aic=-155273.86266190925\n",
      "16: aic=-158229.54424744606\n",
      "17: aic=-158801.9282636591\n",
      "18: aic=-158146.93107164896\n",
      "19: aic=-157399.8820983792\n",
      "20: aic=-158964.20247723104\n",
      "21: aic=-156443.29839085328\n",
      "22: aic=-156545.2892447556\n",
      "23: aic=-156265.51016605442\n",
      "24: aic=-155860.49143508542\n",
      "25: aic=-157396.56289736537\n"
     ]
    }
   ],
   "source": [
    "from scipy.sparse.linalg import svds\n",
    "from sklearn.mixture import GaussianMixture\n",
    "\n",
    "def get_gmm_labels(X, k):\n",
    "    gmm = GaussianMixture(n_components=k, max_iter=200, random_state=37)\n",
    "    gmm.fit(X)\n",
    "    aic = gmm.aic(X)\n",
    "    print('{}: aic={}'.format(k, aic))\n",
    "    return k, aic\n",
    "\n",
    "U, S, V = svds(X, k=20)\n",
    "gmm_scores = [get_gmm_labels(U, k) for k in range(2, 26)]"
   ]
  },
  {
   "cell_type": "markdown",
   "metadata": {},
   "source": [
    "# k-means clustering"
   ]
  },
  {
   "cell_type": "code",
   "execution_count": 3,
   "metadata": {},
   "outputs": [
    {
     "name": "stdout",
     "output_type": "stream",
     "text": [
      "2: score=0.22136552497539078\n",
      "3: score=0.2606191325546754\n",
      "4: score=0.2985364557161296\n",
      "5: score=0.32764563696557253\n",
      "6: score=0.34711980577628615\n",
      "7: score=0.36212754809252495\n",
      "8: score=0.3693035922796191\n",
      "9: score=0.3118628444238988\n",
      "10: score=0.32070416934016466\n",
      "11: score=0.3056882384904699\n",
      "12: score=0.28297903762485543\n",
      "13: score=0.28462816984240946\n",
      "14: score=0.2747613933318139\n",
      "15: score=0.2787478862359055\n",
      "16: score=0.27452088253304896\n",
      "17: score=0.2548015324435892\n",
      "18: score=0.25961952207924777\n",
      "19: score=0.25650479556223627\n",
      "20: score=0.251690199350559\n",
      "21: score=0.2566617758778615\n",
      "22: score=0.25866268014756943\n",
      "23: score=0.24607465357359543\n",
      "24: score=0.24936289940720038\n",
      "25: score=0.2579644562276278\n"
     ]
    }
   ],
   "source": [
    "from sklearn.cluster import KMeans\n",
    "from sklearn.metrics import silhouette_score\n",
    "\n",
    "def get_kmc(X, k):\n",
    "    model = KMeans(k, random_state=37)\n",
    "    model.fit(X)\n",
    "    labels = model.predict(X)\n",
    "    score = silhouette_score(X, labels)\n",
    "    print('{}: score={}'.format(k, score))\n",
    "    return k, score\n",
    "\n",
    "kmc_scores = [get_kmc(X, k) for k in range(2, 26)]"
   ]
  },
  {
   "cell_type": "markdown",
   "metadata": {},
   "source": [
    "# LDA modeling"
   ]
  },
  {
   "cell_type": "code",
   "execution_count": 4,
   "metadata": {},
   "outputs": [
    {
     "name": "stdout",
     "output_type": "stream",
     "text": [
      "2: -7.112621491925517\n",
      "3: -6.770771537876562\n",
      "4: -6.654850158110881\n",
      "5: -6.495525290205532\n",
      "6: -6.592127872424598\n",
      "7: -6.4394384370150854\n",
      "8: -6.431505215171467\n",
      "9: -6.376827700591723\n",
      "10: -6.207008469326988\n",
      "11: -6.235774265382583\n",
      "12: -6.260016126133871\n",
      "13: -6.254881861190534\n",
      "14: -6.550148968159432\n",
      "15: -6.6008249817300415\n",
      "16: -6.560176401338963\n",
      "17: -6.59075565762325\n",
      "18: -6.766128087354434\n",
      "19: -6.781869098089526\n",
      "20: -6.769066694113159\n",
      "21: -6.8683429580215165\n",
      "22: -6.6622351856878375\n",
      "23: -6.773847370134338\n",
      "24: -6.735329093161339\n",
      "25: -6.676802294304821\n"
     ]
    }
   ],
   "source": [
    "from gensim import corpora\n",
    "from gensim.models import LdaModel\n",
    "from gensim.models.coherencemodel import CoherenceModel\n",
    "\n",
    "def learn_lda_model(corpus, dictionary, k):\n",
    "    lda = LdaModel(corpus, \n",
    "               id2word=dictionary, \n",
    "               num_topics=k, \n",
    "               random_state=37, \n",
    "               iterations=100,\n",
    "               passes=5,\n",
    "               per_word_topics=False)\n",
    "    cm = CoherenceModel(model=lda, corpus=corpus, coherence='u_mass')\n",
    "    coherence = cm.get_coherence()\n",
    "    print('{}: {}'.format(k, coherence))\n",
    "    return k, coherence\n",
    "\n",
    "T = [t.split(' ') for t in texts]\n",
    "\n",
    "dictionary = corpora.Dictionary(T)\n",
    "corpus = [dictionary.doc2bow(text) for text in T]\n",
    "\n",
    "lda_scores = [learn_lda_model(corpus, dictionary, k) for k in range(2, 26)]"
   ]
  },
  {
   "cell_type": "code",
   "execution_count": 5,
   "metadata": {},
   "outputs": [
    {
     "data": {
      "image/png": "[encoded data removed]",
      "text/plain": [
       "<Figure size 1080x360 with 3 Axes>"
      ]
     },
     "metadata": {
      "needs_background": "light"
     },
     "output_type": "display_data"
    }
   ],
   "source": [
    "def plot_scores(scores, ax, ylabel):\n",
    "    _x = [s[0] for s in scores]\n",
    "    _y = [s[1] for s in scores]\n",
    "\n",
    "    ax.plot(_x, _y, color='tab:blue')\n",
    "    ax.set_xlabel('k')\n",
    "    ax.set_ylabel(ylabel)\n",
    "    ax.set_title('{} vs k'.format(ylabel))\n",
    "    \n",
    "fig, ax = plt.subplots(1, 3, figsize=(15, 5))\n",
    "plot_scores(gmm_scores, ax[0], 'GMM AIC')\n",
    "plot_scores(kmc_scores, ax[1], 'KMC Sillhouette')\n",
    "plot_scores(lda_scores, ax[2], 'LDA Coherence')\n",
    "\n",
    "plt.tight_layout()"
   ]
  },
  {
   "cell_type": "code",
   "execution_count": 6,
   "metadata": {},
   "outputs": [
    {
     "name": "stderr",
     "output_type": "stream",
     "text": [
      "/Users/super/anaconda3/lib/python3.7/site-packages/past/types/oldstr.py:5: DeprecationWarning: Using or importing the ABCs from 'collections' instead of from 'collections.abc' is deprecated, and in 3.8 it will stop working\n",
      "  from collections import Iterable\n"
     ]
    },
    {
     "data": {
      "text/html": [
       "\n",
       "<link rel=\"stylesheet\" type=\"text/css\" href=\"https://cdn.rawgit.com/bmabey/pyLDAvis/files/ldavis.v1.0.0.css\">\n",
       "\n",
       "\n",
       "<div id=\"ldavis_el123091121175902003121516143\"></div>\n",
       "<script type=\"text/javascript\">\n",
       "\n",
       "var ldavis_el123091121175902003121516143_data = {\"mdsDat\": {\"x\": [-0.03763437517054087, -0.2072691796693669, 0.43099644977285595, 0.162012362631791, -0.16017046981039104, -0.17566128189564137, 0.07511528654656757, -0.09082440831958687, -0.07365478992023364, 0.07709040583454571], \"y\": [0.06999468509054646, 0.07757429298422236, 0.09429056446146494, 0.001256360917163065, -0.2192305134000691, 0.26675857504019596, -0.05612080709693707, -0.0213450082976407, -0.05523422149109615, -0.1579439282078497], \"topics\": [1, 2, 3, 4, 5, 6, 7, 8, 9, 10], \"cluster\": [1, 1, 1, 1, 1, 1, 1, 1, 1, 1], \"Freq\": [2.454533815383911, 1.6944626569747925, 11.495956420898438, 5.6516828536987305, 4.811827659606934, 11.51240348815918, 10.41871166229248, 31.313396453857422, 18.93376922607422, 1.7132556438446045]}, \"tinfo\": {\"Category\": [\"Default\", \"Default\", \"Default\", \"Default\", \"Default\", \"Default\", \"Default\", \"Default\", \"Default\", \"Default\", \"Default\", \"Default\", \"Default\", \"Default\", \"Default\", \"Default\", \"Default\", \"Default\", \"Default\", \"Default\", \"Default\", \"Default\", \"Topic1\", \"Topic1\", \"Topic1\", \"Topic1\", \"Topic1\", \"Topic1\", \"Topic1\", \"Topic1\", \"Topic1\", \"Topic1\", \"Topic1\", \"Topic1\", \"Topic1\", \"Topic1\", \"Topic1\", \"Topic1\", \"Topic1\", \"Topic1\", \"Topic1\", \"Topic1\", \"Topic1\", \"Topic1\", \"Topic2\", \"Topic2\", \"Topic2\", \"Topic2\", \"Topic2\", \"Topic2\", \"Topic2\", \"Topic2\", \"Topic2\", \"Topic2\", \"Topic2\", \"Topic2\", \"Topic2\", \"Topic2\", \"Topic2\", \"Topic2\", \"Topic2\", \"Topic2\", \"Topic2\", \"Topic2\", \"Topic2\", \"Topic2\", \"Topic3\", \"Topic3\", \"Topic3\", \"Topic3\", \"Topic3\", \"Topic3\", \"Topic3\", \"Topic3\", \"Topic3\", \"Topic3\", \"Topic3\", \"Topic3\", \"Topic3\", \"Topic3\", \"Topic3\", \"Topic3\", \"Topic3\", \"Topic3\", \"Topic3\", \"Topic3\", \"Topic3\", \"Topic3\", \"Topic4\", \"Topic4\", \"Topic4\", \"Topic4\", \"Topic4\", \"Topic4\", \"Topic4\", \"Topic4\", \"Topic4\", \"Topic4\", \"Topic4\", \"Topic4\", \"Topic4\", \"Topic4\", \"Topic4\", \"Topic4\", \"Topic4\", \"Topic4\", \"Topic4\", \"Topic4\", \"Topic4\", \"Topic4\", \"Topic5\", \"Topic5\", \"Topic5\", \"Topic5\", \"Topic5\", \"Topic5\", \"Topic5\", \"Topic5\", \"Topic5\", \"Topic5\", \"Topic5\", \"Topic5\", \"Topic5\", \"Topic5\", \"Topic5\", \"Topic5\", \"Topic5\", \"Topic5\", \"Topic5\", \"Topic5\", \"Topic5\", \"Topic5\", \"Topic6\", \"Topic6\", \"Topic6\", \"Topic6\", \"Topic6\", \"Topic6\", \"Topic6\", \"Topic6\", \"Topic6\", \"Topic6\", \"Topic6\", \"Topic6\", \"Topic6\", \"Topic6\", \"Topic6\", \"Topic6\", \"Topic6\", \"Topic6\", \"Topic6\", \"Topic6\", \"Topic6\", \"Topic6\", \"Topic7\", \"Topic7\", \"Topic7\", \"Topic7\", \"Topic7\", \"Topic7\", \"Topic7\", \"Topic7\", \"Topic7\", \"Topic7\", \"Topic7\", \"Topic7\", \"Topic7\", \"Topic7\", \"Topic7\", \"Topic7\", \"Topic7\", \"Topic7\", \"Topic7\", \"Topic7\", \"Topic7\", \"Topic7\", \"Topic8\", \"Topic8\", \"Topic8\", \"Topic8\", \"Topic8\", \"Topic8\", \"Topic8\", \"Topic8\", \"Topic8\", \"Topic8\", \"Topic8\", \"Topic8\", \"Topic8\", \"Topic8\", \"Topic8\", \"Topic8\", \"Topic8\", \"Topic8\", \"Topic8\", \"Topic8\", \"Topic8\", \"Topic8\", \"Topic9\", \"Topic9\", \"Topic9\", \"Topic9\", \"Topic9\", \"Topic9\", \"Topic9\", \"Topic9\", \"Topic9\", \"Topic9\", \"Topic9\", \"Topic9\", \"Topic9\", \"Topic9\", \"Topic9\", \"Topic9\", \"Topic9\", \"Topic9\", \"Topic9\", \"Topic9\", \"Topic9\", \"Topic9\", \"Topic10\", \"Topic10\", \"Topic10\", \"Topic10\", \"Topic10\", \"Topic10\", \"Topic10\", \"Topic10\", \"Topic10\", \"Topic10\", \"Topic10\", \"Topic10\", \"Topic10\", \"Topic10\", \"Topic10\", \"Topic10\", \"Topic10\", \"Topic10\", \"Topic10\", \"Topic10\", \"Topic10\", \"Topic10\"], \"Freq\": [35908.0, 16078.0, 16522.0, 6944.0, 5853.0, 6156.0, 3124.0, 4750.0, 1768.0, 1455.0, 789.0, 361.0, 169.0, 62.0, 17.0, 13.0, 8.0, 5.0, 3.0, 2.0, 1.0, 1.0, 0.5308319926261902, 2.2821927070617676, 3.3858206272125244, 257.3205261230469, 202.87252807617188, 1230.484375, 5.003496170043945, 0.08268554508686066, 0.048282332718372345, 389.1723937988281, 241.87002563476562, 0.048282355070114136, 20.406875610351562, 0.06378275156021118, 8.418086051940918, 27.536460876464844, 12.800246238708496, 0.1033141240477562, 0.04828239977359772, 25.178176879882812, 25.90799903869629, 0.968495786190033, 306.433349609375, 1.9721773862838745, 2.4870176315307617, 316.2475891113281, 0.06515330821275711, 0.06519925594329834, 752.8797607421875, 2.4073643684387207, 211.23146057128906, 0.0651533380150795, 69.92851257324219, 0.06515337526798248, 0.06515401601791382, 0.06516239792108536, 26.079904556274414, 0.06516290456056595, 2.142487049102783, 0.5157308578491211, 0.38255059719085693, 1.0649807453155518, 0.13189668953418732, 0.1010163277387619, 11209.767578125, 0.12515991926193237, 0.12515990436077118, 0.12688159942626953, 240.39736938476562, 0.1297469586133957, 0.12516003847122192, 0.12516194581985474, 0.12523603439331055, 0.13035432994365692, 0.1303826868534088, 6.9817633628845215, 36.34651565551758, 0.12588198482990265, 0.12554386258125305, 0.12530258297920227, 0.12522351741790771, 0.12523196637630463, 0.12538981437683105, 0.1259685456752777, 0.31477880477905273, 0.12648048996925354, 1456.23193359375, 1185.5306396484375, 4.714458465576172, 9.597164154052734, 1411.0966796875, 0.07969659566879272, 225.55616760253906, 0.6176491975784302, 0.07969659566879272, 0.13016310334205627, 0.16107577085494995, 0.07969687879085541, 0.2180824875831604, 858.9122314453125, 73.63484191894531, 17.456560134887695, 239.682861328125, 72.18534088134766, 3.5118284225463867, 47.37452697753906, 44.40275192260742, 0.42802906036376953, 4.384279727935791, 2095.239990234375, 520.5322875976562, 1.0280324220657349, 6.808655738830566, 2.0400047302246094, 0.0975223183631897, 1634.1588134765625, 0.0975223258137703, 0.09752237796783447, 421.2308349609375, 51.46985626220703, 27.90418815612793, 0.09756647050380707, 25.379318237304688, 4.827360153198242, 1.0362924337387085, 0.09766835719347, 2.12371563911438, 6.016247749328613, 0.09753777086734772, 7.061868190765381, 5554.3896484375, 132.3982696533203, 4444.1376953125, 0.1131504625082016, 0.12544022500514984, 0.11298602819442749, 0.11298127472400665, 854.7942504882812, 67.351318359375, 15.558067321777344, 0.11297070980072021, 25.361984252929688, 0.11302721500396729, 219.73692321777344, 71.53583526611328, 16.152847290039062, 43.387718200683594, 0.11297895759344101, 0.11320259422063828, 65.79888153076172, 0.7698096036911011, 0.1130761131644249, 3617.0703125, 4650.4013671875, 2.3507277965545654, 29.279638290405273, 0.10995651036500931, 0.24784788489341736, 0.10995648801326752, 3.506091833114624, 0.24151308834552765, 0.10995669662952423, 467.4239807128906, 948.0466918945312, 78.1490707397461, 19.49441146850586, 352.57489013671875, 134.19129943847656, 80.21927642822266, 20.11761474609375, 14.40278434753418, 0.10995703935623169, 0.11013612151145935, 0.44433197379112244, 27219.248046875, 24.059171676635742, 4.289432525634766, 702.6414794921875, 492.7713317871094, 1465.606689453125, 125.2536392211914, 134.66969299316406, 0.10437136143445969, 0.10434591770172119, 0.3052352964878082, 7.551263809204102, 674.39111328125, 0.14385144412517548, 0.10434594005346298, 99.90594482421875, 24.759897232055664, 172.7823028564453, 157.9019775390625, 6.589775562286377, 0.10434607416391373, 0.10434992611408234, 13777.43359375, 20.883745193481445, 16.429859161376953, 654.046630859375, 486.9622802734375, 1.3896931409835815, 0.0962400808930397, 2336.329833984375, 94.3028793334961, 108.57783508300781, 356.7313537597656, 0.09587322920560837, 754.4837036132812, 202.45797729492188, 0.24562422931194305, 0.5357744097709656, 0.30750226974487305, 0.09623250365257263, 25.804262161254883, 88.88761901855469, 0.09955841302871704, 7.572561264038086, 5.000491142272949, 2.6920254230499268, 4.318782329559326, 157.40127563476562, 593.25439453125, 0.10060405731201172, 0.1355539709329605, 0.14961177110671997, 0.1006040871143341, 4.254925727844238, 384.2774963378906, 108.28076171875, 0.10236621648073196, 281.5585021972656, 5.607941150665283, 51.05412673950195, 0.5155659914016724, 46.92232131958008, 28.303720474243164, 37.327754974365234, 1.5089372396469116, 0.38762784004211426], \"Term\": [\"w66\", \"w68\", \"w79\", \"w54\", \"w21\", \"w7\", \"w82\", \"w16\", \"w91\", \"w8\", \"w76\", \"w93\", \"w26\", \"w19\", \"w98\", \"w27\", \"w61\", \"w28\", \"w64\", \"w55\", \"w49\", \"w80\", \"w80\", \"w98\", \"w19\", \"w54\", \"w21\", \"w66\", \"w26\", \"w55\", \"w49\", \"w68\", \"w79\", \"w64\", \"w91\", \"w28\", \"w76\", \"w82\", \"w8\", \"w27\", \"w61\", \"w16\", \"w7\", \"w93\", \"w93\", \"w55\", \"w64\", \"w21\", \"w80\", \"w49\", \"w66\", \"w26\", \"w79\", \"w28\", \"w54\", \"w61\", \"w27\", \"w98\", \"w68\", \"w19\", \"w7\", \"w91\", \"w8\", \"w16\", \"w76\", \"w82\", \"w68\", \"w80\", \"w49\", \"w55\", \"w7\", \"w64\", \"w28\", \"w61\", \"w27\", \"w98\", \"w19\", \"w16\", \"w66\", \"w26\", \"w93\", \"w76\", \"w8\", \"w91\", \"w82\", \"w21\", \"w79\", \"w54\", \"w91\", \"w8\", \"w98\", \"w19\", \"w68\", \"w80\", \"w16\", \"w27\", \"w49\", \"w64\", \"w28\", \"w55\", \"w61\", \"w66\", \"w82\", \"w76\", \"w79\", \"w7\", \"w93\", \"w21\", \"w54\", \"w26\", \"w28\", \"w82\", \"w76\", \"w49\", \"w27\", \"w61\", \"w80\", \"w66\", \"w55\", \"w64\", \"w79\", \"w21\", \"w16\", \"w98\", \"w54\", \"w8\", \"w93\", \"w19\", \"w91\", \"w7\", \"w26\", \"w68\", \"w54\", \"w26\", \"w21\", \"w80\", \"w49\", \"w55\", \"w64\", \"w66\", \"w82\", \"w76\", \"w28\", \"w91\", \"w61\", \"w79\", \"w7\", \"w8\", \"w16\", \"w27\", \"w98\", \"w68\", \"w93\", \"w19\", \"w16\", \"w7\", \"w61\", \"w93\", \"w80\", \"w64\", \"w49\", \"w19\", \"w28\", \"w55\", \"w68\", \"w66\", \"w82\", \"w76\", \"w79\", \"w54\", \"w21\", \"w91\", \"w8\", \"w27\", \"w98\", \"w26\", \"w66\", \"w19\", \"w98\", \"w7\", \"w16\", \"w68\", \"w8\", \"w91\", \"w80\", \"w49\", \"w28\", \"w26\", \"w79\", \"w64\", \"w55\", \"w82\", \"w76\", \"w21\", \"w54\", \"w93\", \"w61\", \"w27\", \"w79\", \"w19\", \"w26\", \"w54\", \"w21\", \"w98\", \"w80\", \"w66\", \"w8\", \"w91\", \"w7\", \"w49\", \"w68\", \"w16\", \"w28\", \"w27\", \"w61\", \"w55\", \"w76\", \"w82\", \"w64\", \"w93\", \"w27\", \"w61\", \"w98\", \"w76\", \"w82\", \"w80\", \"w49\", \"w64\", \"w55\", \"w26\", \"w79\", \"w16\", \"w28\", \"w68\", \"w93\", \"w21\", \"w19\", \"w54\", \"w7\", \"w66\", \"w8\", \"w91\"], \"Total\": [35908.0, 16078.0, 16522.0, 6944.0, 5853.0, 6156.0, 3124.0, 4750.0, 1768.0, 1455.0, 789.0, 361.0, 169.0, 62.0, 17.0, 13.0, 8.0, 5.0, 3.0, 2.0, 1.0, 1.0, 1.4226864576339722, 17.5109806060791, 62.35384750366211, 6944.60986328125, 5853.24609375, 35908.52734375, 169.14096069335938, 2.883089065551758, 1.9175403118133545, 16078.048828125, 16522.744140625, 3.646583318710327, 1768.5181884765625, 5.807161808013916, 789.6820068359375, 3124.186279296875, 1455.287109375, 13.5835599899292, 8.064313888549805, 4750.6533203125, 6156.26318359375, 361.895263671875, 361.895263671875, 2.883089065551758, 3.646583318710327, 5853.24609375, 1.4226864576339722, 1.9175403118133545, 35908.52734375, 169.14096069335938, 16522.744140625, 5.807161808013916, 6944.60986328125, 8.064313888549805, 13.5835599899292, 17.5109806060791, 16078.048828125, 62.35384750366211, 6156.26318359375, 1768.5181884765625, 1455.287109375, 4750.6533203125, 789.6820068359375, 3124.186279296875, 16078.048828125, 1.4226864576339722, 1.9175403118133545, 2.883089065551758, 6156.26318359375, 3.646583318710327, 5.807161808013916, 8.064313888549805, 13.5835599899292, 17.5109806060791, 62.35384750366211, 4750.6533203125, 35908.52734375, 169.14096069335938, 361.895263671875, 789.6820068359375, 1455.287109375, 1768.5181884765625, 3124.186279296875, 5853.24609375, 16522.744140625, 6944.60986328125, 1768.5181884765625, 1455.287109375, 17.5109806060791, 62.35384750366211, 16078.048828125, 1.4226864576339722, 4750.6533203125, 13.5835599899292, 1.9175403118133545, 3.646583318710327, 5.807161808013916, 2.883089065551758, 8.064313888549805, 35908.52734375, 3124.186279296875, 789.6820068359375, 16522.744140625, 6156.26318359375, 361.895263671875, 5853.24609375, 6944.60986328125, 169.14096069335938, 5.807161808013916, 3124.186279296875, 789.6820068359375, 1.9175403118133545, 13.5835599899292, 8.064313888549805, 1.4226864576339722, 35908.52734375, 2.883089065551758, 3.646583318710327, 16522.744140625, 5853.24609375, 4750.6533203125, 17.5109806060791, 6944.60986328125, 1455.287109375, 361.895263671875, 62.35384750366211, 1768.5181884765625, 6156.26318359375, 169.14096069335938, 16078.048828125, 6944.60986328125, 169.14096069335938, 5853.24609375, 1.4226864576339722, 1.9175403118133545, 2.883089065551758, 3.646583318710327, 35908.52734375, 3124.186279296875, 789.6820068359375, 5.807161808013916, 1768.5181884765625, 8.064313888549805, 16522.744140625, 6156.26318359375, 1455.287109375, 4750.6533203125, 13.5835599899292, 17.5109806060791, 16078.048828125, 361.895263671875, 62.35384750366211, 4750.6533203125, 6156.26318359375, 8.064313888549805, 361.895263671875, 1.4226864576339722, 3.646583318710327, 1.9175403118133545, 62.35384750366211, 5.807161808013916, 2.883089065551758, 16078.048828125, 35908.52734375, 3124.186279296875, 789.6820068359375, 16522.744140625, 6944.60986328125, 5853.24609375, 1768.5181884765625, 1455.287109375, 13.5835599899292, 17.5109806060791, 169.14096069335938, 35908.52734375, 62.35384750366211, 17.5109806060791, 6156.26318359375, 4750.6533203125, 16078.048828125, 1455.287109375, 1768.5181884765625, 1.4226864576339722, 1.9175403118133545, 5.807161808013916, 169.14096069335938, 16522.744140625, 3.646583318710327, 2.883089065551758, 3124.186279296875, 789.6820068359375, 5853.24609375, 6944.60986328125, 361.895263671875, 8.064313888549805, 13.5835599899292, 16522.744140625, 62.35384750366211, 169.14096069335938, 6944.60986328125, 5853.24609375, 17.5109806060791, 1.4226864576339722, 35908.52734375, 1455.287109375, 1768.5181884765625, 6156.26318359375, 1.9175403118133545, 16078.048828125, 4750.6533203125, 5.807161808013916, 13.5835599899292, 8.064313888549805, 2.883089065551758, 789.6820068359375, 3124.186279296875, 3.646583318710327, 361.895263671875, 13.5835599899292, 8.064313888549805, 17.5109806060791, 789.6820068359375, 3124.186279296875, 1.4226864576339722, 1.9175403118133545, 3.646583318710327, 2.883089065551758, 169.14096069335938, 16522.744140625, 4750.6533203125, 5.807161808013916, 16078.048828125, 361.895263671875, 5853.24609375, 62.35384750366211, 6944.60986328125, 6156.26318359375, 35908.52734375, 1455.287109375, 1768.5181884765625], \"loglift\": [22.0, 21.0, 20.0, 19.0, 18.0, 17.0, 16.0, 15.0, 14.0, 13.0, 12.0, 11.0, 10.0, 9.0, 8.0, 7.0, 6.0, 5.0, 4.0, 3.0, 2.0, 1.0, 2.721400022506714, 1.6694999933242798, 0.7940000295639038, 0.41179999709129333, 0.3450999855995178, 0.3337000012397766, 0.186599999666214, 0.15569999814033508, 0.025499999523162842, -0.014000000432133675, -0.5169000029563904, -0.6172000169754028, -0.754800021648407, -0.804099977016449, -0.8339999914169312, -1.0241999626159668, -1.0262999534606934, -1.1715999841690063, -1.4108999967575073, -1.5327999591827393, -1.7633999586105347, -2.216099977493286, 3.911400079727173, 3.6981000900268555, 3.6951000690460205, 1.159600019454956, 0.9941999912261963, 0.6965000033378601, 0.21299999952316284, -0.17440000176429749, -0.2816999852657318, -0.4122999906539917, -0.5203999876976013, -0.7407000064849854, -1.2620999813079834, -1.5159000158309937, -2.3461999893188477, -2.785900115966797, -3.885499954223633, -4.062300205230713, -4.165999889373779, -4.325300216674805, -4.61959981918335, -6.261600017547607, 1.8025000095367432, -0.26750001311302185, -0.5659999847412109, -0.9602000117301941, -1.079800009727478, -1.1727999448776245, -1.6741000413894653, -2.0023999214172363, -2.523200035095215, -2.7372000217437744, -4.006899833679199, -4.359600067138672, -4.732500076293945, -5.039999961853027, -5.803299903869629, -6.5854997634887695, -7.197400093078613, -7.392300128936768, -7.960100173950195, -8.58329963684082, -8.7052001953125, -8.750200271606445, 2.6789000034332275, 2.6682000160217285, 1.5609999895095825, 1.0018999576568604, 0.4401000142097473, -0.008899999782443047, -0.17430000007152557, -0.2175000011920929, -0.3073999881744385, -0.4595000147819519, -0.7117999792098999, -0.7152000069618225, -0.7371000051498413, -0.8597999811172485, -0.8745999932289124, -0.9387000203132629, -1.3600000143051147, -1.5728000402450562, -1.7619999647140503, -1.94350004196167, -2.1791999340057373, -3.106100082397461, 2.753000020980835, 2.6345999240875244, 2.617300033569336, 2.4107000827789307, 2.343400001525879, 1.659600019454956, 0.3538999855518341, -0.055799998342990875, -0.352400004863739, -0.5874000191688538, -0.635200023651123, -1.6996999979019165, -2.1031999588012695, -2.1559998989105225, -2.577699899673462, -2.6745998859405518, -2.8215999603271484, -3.4249000549316406, -3.6905999183654785, -3.896699905395508, -4.424200057983398, -4.696400165557861, 1.9384000301361084, 1.9168000221252441, 1.886299967765808, -0.36980000138282776, -0.5651999711990356, -1.0776000022888184, -1.312600016593933, -1.5760999917984009, -1.6753000020980835, -1.7653000354766846, -1.777999997138977, -2.082900047302246, -2.105799913406372, -2.1582999229431152, -2.293299913406372, -2.339099884033203, -2.53410005569458, -2.627700090408325, -2.879699945449829, -3.336899995803833, -3.9911999702453613, -4.1508002281188965, 1.9888999462127686, 1.9810999631881714, 1.0288000106811523, -0.25290000438690186, -0.2987000048160553, -0.42719998955726624, -0.597100019454956, -0.6168000102043152, -0.91839998960495, -1.0049999952316284, -1.2763999700546265, -1.3727999925613403, -1.4266999959945679, -1.4399000406265259, -1.5857000350952148, -1.6849000453948975, -2.02839994430542, -2.2146999835968018, -2.3540000915527344, -2.555000066757202, -2.807300090789795, -3.680299997329712, 0.8841000199317932, 0.20880000293254852, -0.24549999833106995, -1.0092999935150146, -1.1049000024795532, -1.2340999841690063, -1.2914999723434448, -1.4139000177383423, -1.451200008392334, -1.75, -1.784600019454956, -1.9479000568389893, -2.037600040435791, -2.0715999603271484, -2.1577999591827393, -2.281599998474121, -2.301300048828125, -2.361599922180176, -2.6226000785827637, -2.8447000980377197, -3.1863999366760254, -3.70770001411438, 1.4824999570846558, 0.5703999996185303, -0.6674000024795532, -0.6983000040054321, -0.8223000168800354, -0.8694999814033508, -1.0291999578475952, -1.0681999921798706, -1.0721999406814575, -1.1261999607086182, -1.184000015258789, -1.3315000534057617, -1.3949999809265137, -1.4912999868392944, -1.4988000392913818, -1.5686999559402466, -1.6024999618530273, -1.7355999946594238, -1.7568999528884888, -1.895300030708313, -1.9365999698638916, -2.2026000022888184, 3.067500114440918, 2.969599962234497, 2.6668999195098877, 2.453900098800659, 2.4054999351501465, 1.4177000522613525, 1.4172999858856201, 0.8733000159263611, 0.7113999724388123, 0.3840999901294708, 0.30559998750686646, 0.2854999899864197, 0.02850000001490116, 0.021900000050663948, -0.10040000081062317, -0.6751000285148621, -0.7285000085830688, -0.9304999709129333, -1.315500020980835, -2.8022000789642334, -2.804800033569336, -4.358799934387207], \"logprob\": [22.0, 21.0, 20.0, 19.0, 18.0, 17.0, 16.0, 15.0, 14.0, 13.0, 12.0, 11.0, 10.0, 9.0, 8.0, 7.0, 6.0, 5.0, 4.0, 3.0, 2.0, 1.0, -8.439000129699707, -6.980599880218506, -6.586100101470947, -2.2553999423980713, -2.4930999279022217, -0.690500020980835, -6.1956000328063965, -10.298399925231934, -10.836400032043457, -1.8416999578475952, -2.3173000812530518, -10.836400032043457, -4.78980016708374, -10.557999610900879, -5.675300121307373, -4.490200042724609, -5.256199836730957, -10.075699806213379, -10.836400032043457, -4.579699993133545, -4.55109977722168, -7.837699890136719, -1.7101000547409058, -6.75600004196167, -6.52400016784668, -1.6785999536514282, -10.166099548339844, -10.165399551391602, -0.8112000226974487, -6.556600093841553, -2.082200050354004, -10.166099548339844, -3.1875998973846436, -10.166099548339844, -10.166099548339844, -10.166000366210938, -4.173999786376953, -10.166000366210938, -6.6732001304626465, -8.097299575805664, -8.395999908447266, -7.372200012207031, -9.46090030670166, -9.72760009765625, -0.025200000032782555, -11.427900314331055, -11.427900314331055, -11.414299964904785, -3.867500066757202, -11.391900062561035, -11.427900314331055, -11.427900314331055, -11.427300453186035, -11.387200355529785, -11.38700008392334, -7.406400203704834, -5.756700038909912, -11.422200202941895, -11.42490005493164, -11.426799774169922, -11.427399635314941, -11.427300453186035, -11.42609977722168, -11.421500205993652, -10.505599975585938, -11.417400360107422, -1.3560999631881714, -1.5618000030517578, -7.089099884033203, -6.378200054168701, -1.3875999450683594, -11.16919994354248, -3.221100091934204, -9.121500015258789, -11.16919994354248, -10.67870044708252, -10.46560001373291, -11.16919994354248, -10.162599563598633, -1.8839999437332153, -4.34060001373291, -5.78000020980835, -3.160399913787842, -4.360499858856201, -7.383600234985352, -4.781599998474121, -4.846399784088135, -9.488300323486328, -7.000800132751465, -0.8313999772071838, -2.2239999771118164, -8.451199531555176, -6.5605998039245605, -7.765900135040283, -10.806500434875488, -1.0799000263214111, -10.806500434875488, -10.806500434875488, -2.435699939727783, -4.537799835205078, -5.150100231170654, -10.806099891662598, -5.244900226593018, -6.9045000076293945, -8.44320011138916, -10.805000305175781, -7.7256999015808105, -6.6844000816345215, -10.806300163269043, -6.524099826812744, -0.7287999987602234, -4.465400218963623, -0.9517999887466431, -11.530200004577637, -11.42710018157959, -11.531700134277344, -11.531700134277344, -2.6003000736236572, -5.141300201416016, -6.606599807739258, -11.531800270080566, -6.1178998947143555, -11.531299591064453, -3.958699941635132, -5.080999851226807, -6.5690999031066895, -5.580999851226807, -11.531700134277344, -11.529800415039062, -5.164599895477295, -9.612799644470215, -11.530900001525879, -1.0578999519348145, -0.8065999746322632, -8.396599769592285, -5.874499797821045, -11.458999633789062, -10.646300315856934, -11.458999633789062, -7.9969000816345215, -10.672200202941895, -11.458999633789062, -3.104099988937378, -2.3970000743865967, -4.8927001953125, -6.281199932098389, -3.3861000537872314, -4.352099895477295, -4.866600036621094, -6.249800205230713, -6.583899974822998, -11.458999633789062, -11.45740032196045, -10.0625, -0.14010000228881836, -7.171299934387207, -8.895600318908691, -3.796999931335449, -4.151800155639648, -3.061800003051758, -5.521500110626221, -5.448999881744385, -12.611599922180176, -12.611800193786621, -11.53849983215332, -8.330100059509277, -3.8380000591278076, -12.290800094604492, -12.611800193786621, -5.747600078582764, -7.142600059509277, -5.19980001449585, -5.28980016708374, -8.466300010681152, -12.611800193786621, -12.611800193786621, -0.31790000200271606, -6.809700012207031, -7.049600124359131, -3.365499973297119, -3.6605000495910645, -9.519599914550781, -12.189599990844727, -2.092400074005127, -5.302199840545654, -5.161200046539307, -3.9716999530792236, -12.193400382995605, -3.2227001190185547, -4.5381999015808105, -11.252699851989746, -10.472700119018555, -11.027999877929688, -12.18970012664795, -6.598199844360352, -5.361299991607666, -12.155699729919434, -7.82420015335083, -5.836599826812744, -6.455900192260742, -5.9832000732421875, -2.387399911880493, -1.0605000257492065, -9.74269962310791, -9.444499969482422, -9.34589958190918, -9.74269962310791, -5.9980998039245605, -1.4947999715805054, -2.761399984359741, -9.725299835205078, -1.805799961090088, -5.7220001220703125, -3.5132999420166016, -8.108599662780762, -3.5977001190185547, -4.1031999588012695, -3.8264000415802, -7.0346999168396, -8.393899917602539]}, \"token.table\": {\"Topic\": [1, 2, 3, 4, 5, 6, 7, 8, 9, 10, 1, 4, 7, 8, 9, 10, 1, 2, 4, 5, 6, 7, 8, 9, 10, 1, 2, 6, 8, 9, 10, 4, 5, 9, 10, 5, 5, 1, 2, 4, 5, 6, 7, 8, 9, 10, 2, 5, 7, 10, 2, 1, 2, 3, 4, 5, 6, 7, 8, 9, 10, 1, 2, 3, 4, 5, 6, 7, 8, 9, 10, 1, 2, 3, 4, 5, 6, 7, 8, 9, 10, 1, 4, 5, 6, 7, 8, 9, 10, 1, 2, 4, 5, 6, 7, 8, 9, 10, 1, 4, 5, 6, 7, 8, 9, 10, 1, 1, 4, 5, 6, 7, 8, 9, 10, 1, 2, 4, 5, 6, 7, 8, 9, 1, 2, 4, 5, 6, 7, 8, 9, 10, 1, 4, 8, 9, 10], \"Freq\": [0.005262434016913176, 0.00021049736824352294, 0.001473481534048915, 0.04757240414619446, 0.00589392613619566, 0.009051386266946793, 0.761368989944458, 0.10377520322799683, 0.042520467191934586, 0.022733714431524277, 0.04811250790953636, 0.16037502884864807, 0.06415001302957535, 0.3849000632762909, 0.33678755164146423, 0.016037503257393837, 0.03468161076307297, 0.05398713797330856, 0.00802973285317421, 0.008713114075362682, 0.7592368125915527, 0.013667630031704903, 0.02955624833703041, 0.08320169895887375, 0.008713114075362682, 0.02956114150583744, 0.011824456974864006, 0.7804141640663147, 0.047297827899456024, 0.09459565579891205, 0.023648913949728012, 0.07361840456724167, 0.5153288245201111, 0.07361840456724167, 0.36809203028678894, 0.6888046264648438, 0.5215014219284058, 0.03700711950659752, 0.010079760104417801, 0.006335848942399025, 0.0035999142564833164, 0.7997569441795349, 0.01929553970694542, 0.02275145798921585, 0.09417375922203064, 0.006767838727682829, 0.69370037317276, 0.24800622463226318, 0.24800622463226318, 0.3720093369483948, 0.5484585762023926, 0.03425370156764984, 0.020969949662685394, 0.0010025473311543465, 0.023921893909573555, 0.04550451040267944, 0.023810500279068947, 0.02640041522681713, 0.7580093741416931, 0.06505418568849564, 0.0010303959716111422, 0.02419447898864746, 0.0016171116149052978, 0.6972239017486572, 0.08775940537452698, 0.0004353762196842581, 0.004104975610971451, 0.029045812785625458, 0.091180220246315, 0.04689623787999153, 0.01753944158554077, 0.00422334112226963, 0.0003248724096920341, 0.038984689861536026, 0.011695406399667263, 0.0009746171999722719, 0.011695406399667263, 0.755328357219696, 0.1141926497220993, 0.05798972398042679, 0.004548213444650173, 0.01013065967708826, 0.02152765356004238, 0.6597592234611511, 0.02026131935417652, 0.024060318246483803, 0.03165831416845322, 0.03292464464902878, 0.19881419837474823, 0.014646477065980434, 0.012770275585353374, 0.014525432139635086, 0.025480028241872787, 0.013314979150891304, 0.021364489570260048, 0.040792256593704224, 0.8338203430175781, 0.023240691050887108, 0.008932945318520069, 0.8149594664573669, 0.003435748163610697, 0.010994394309818745, 0.009620094671845436, 0.08589370548725128, 0.06459206342697144, 0.001374299288727343, 0.7028955817222595, 0.008962334133684635, 0.02368616685271263, 0.6705746054649353, 0.021445583552122116, 0.02496650069952011, 0.0320083349943161, 0.028487417846918106, 0.1898094266653061, 0.011308902874588966, 0.0005654451088048518, 0.823288083076477, 0.0011308902176097035, 0.01413612812757492, 0.011308902874588966, 0.07633509486913681, 0.06163351982831955, 0.0027632303535938263, 0.8455485105514526, 0.011052921414375305, 0.0027632303535938263, 0.0027632303535938263, 0.08013368397951126, 0.019342612475156784, 0.02210584282875061, 0.016579382121562958, 0.11421404778957367, 0.28553512692451477, 0.22842809557914734, 0.057107023894786835, 0.22842809557914734], \"Term\": [\"w16\", \"w16\", \"w16\", \"w16\", \"w16\", \"w16\", \"w16\", \"w16\", \"w16\", \"w16\", \"w19\", \"w19\", \"w19\", \"w19\", \"w19\", \"w19\", \"w21\", \"w21\", \"w21\", \"w21\", \"w21\", \"w21\", \"w21\", \"w21\", \"w21\", \"w26\", \"w26\", \"w26\", \"w26\", \"w26\", \"w26\", \"w27\", \"w27\", \"w27\", \"w27\", \"w28\", \"w49\", \"w54\", \"w54\", \"w54\", \"w54\", \"w54\", \"w54\", \"w54\", \"w54\", \"w54\", \"w55\", \"w61\", \"w61\", \"w61\", \"w64\", \"w66\", \"w66\", \"w66\", \"w66\", \"w66\", \"w66\", \"w66\", \"w66\", \"w66\", \"w66\", \"w68\", \"w68\", \"w68\", \"w68\", \"w68\", \"w68\", \"w68\", \"w68\", \"w68\", \"w68\", \"w7\", \"w7\", \"w7\", \"w7\", \"w7\", \"w7\", \"w7\", \"w7\", \"w7\", \"w7\", \"w76\", \"w76\", \"w76\", \"w76\", \"w76\", \"w76\", \"w76\", \"w76\", \"w79\", \"w79\", \"w79\", \"w79\", \"w79\", \"w79\", \"w79\", \"w79\", \"w79\", \"w8\", \"w8\", \"w8\", \"w8\", \"w8\", \"w8\", \"w8\", \"w8\", \"w80\", \"w82\", \"w82\", \"w82\", \"w82\", \"w82\", \"w82\", \"w82\", \"w82\", \"w91\", \"w91\", \"w91\", \"w91\", \"w91\", \"w91\", \"w91\", \"w91\", \"w93\", \"w93\", \"w93\", \"w93\", \"w93\", \"w93\", \"w93\", \"w93\", \"w93\", \"w98\", \"w98\", \"w98\", \"w98\", \"w98\"]}, \"R\": 22, \"lambda.step\": 0.01, \"plot.opts\": {\"xlab\": \"PC1\", \"ylab\": \"PC2\"}, \"topic.order\": [1, 2, 3, 4, 5, 6, 7, 8, 9, 10]};\n",
       "\n",
       "function LDAvis_load_lib(url, callback){\n",
       "  var s = document.createElement('script');\n",
       "  s.src = url;\n",
       "  s.async = true;\n",
       "  s.onreadystatechange = s.onload = callback;\n",
       "  s.onerror = function(){console.warn(\"failed to load library \" + url);};\n",
       "  document.getElementsByTagName(\"head\")[0].appendChild(s);\n",
       "}\n",
       "\n",
       "if(typeof(LDAvis) !== \"undefined\"){\n",
       "   // already loaded: just create the visualization\n",
       "   !function(LDAvis){\n",
       "       new LDAvis(\"#\" + \"ldavis_el123091121175902003121516143\", ldavis_el123091121175902003121516143_data);\n",
       "   }(LDAvis);\n",
       "}else if(typeof define === \"function\" && define.amd){\n",
       "   // require.js is available: use it to load d3/LDAvis\n",
       "   require.config({paths: {d3: \"https://cdnjs.cloudflare.com/ajax/libs/d3/3.5.5/d3.min\"}});\n",
       "   require([\"d3\"], function(d3){\n",
       "      window.d3 = d3;\n",
       "      LDAvis_load_lib(\"https://cdn.rawgit.com/bmabey/pyLDAvis/files/ldavis.v1.0.0.js\", function(){\n",
       "        new LDAvis(\"#\" + \"ldavis_el123091121175902003121516143\", ldavis_el123091121175902003121516143_data);\n",
       "      });\n",
       "    });\n",
       "}else{\n",
       "    // require.js not available: dynamically load d3 & LDAvis\n",
       "    LDAvis_load_lib(\"https://cdnjs.cloudflare.com/ajax/libs/d3/3.5.5/d3.min.js\", function(){\n",
       "         LDAvis_load_lib(\"https://cdn.rawgit.com/bmabey/pyLDAvis/files/ldavis.v1.0.0.js\", function(){\n",
       "                 new LDAvis(\"#\" + \"ldavis_el123091121175902003121516143\", ldavis_el123091121175902003121516143_data);\n",
       "            })\n",
       "         });\n",
       "}\n",
       "</script>"
      ],
      "text/plain": [
       "<IPython.core.display.HTML object>"
      ]
     },
     "execution_count": 6,
     "metadata": {},
     "output_type": "execute_result"
    }
   ],
   "source": [
    "import pyLDAvis.gensim\n",
    "import warnings\n",
    "\n",
    "warnings.filterwarnings('ignore')\n",
    "\n",
    "lda = LdaModel(corpus, \n",
    "               id2word=dictionary, \n",
    "               num_topics=10, \n",
    "               random_state=37, \n",
    "               iterations=100,\n",
    "               passes=5,\n",
    "               per_word_topics=False)\n",
    "\n",
    "lda_display = pyLDAvis.gensim.prepare(lda, corpus, dictionary, sort_topics=False)\n",
    "pyLDAvis.display(lda_display)"
   ]
  },
  {
   "cell_type": "markdown",
   "metadata": {},
   "source": [
    "# Example"
   ]
  },
  {
   "cell_type": "code",
   "execution_count": 7,
   "metadata": {},
   "outputs": [
    {
     "name": "stdout",
     "output_type": "stream",
     "text": [
      "2: -26.8263021597115\n",
      "3: -26.863492751597203\n",
      "4: -26.88208804754005\n",
      "5: -26.848616514842924\n",
      "6: -26.9006833434829\n",
      "7: -26.874118634993117\n",
      "8: -26.88208804754005\n",
      "9: -26.863492751597203\n"
     ]
    }
   ],
   "source": [
    "import nltk\n",
    "from nltk.corpus import wordnet as wn\n",
    "from nltk.stem import PorterStemmer\n",
    "\n",
    "def clean(text):\n",
    "    t = text.lower().strip()\n",
    "    t = t.split()\n",
    "    t = remove_stop_words(t)\n",
    "    t = [get_lemma(w) for w in t]\n",
    "    t = [get_stem(w) for w in t]\n",
    "    return t\n",
    "\n",
    "def get_stem(w):\n",
    "    return PorterStemmer().stem(w)\n",
    "    \n",
    "def get_lemma(w):\n",
    "    lemma = wn.morphy(w)\n",
    "    return w if lemma is None else lemma\n",
    "    \n",
    "def remove_stop_words(tokens):\n",
    "    stop_words = nltk.corpus.stopwords.words('english')\n",
    "    return [token for token in tokens if token not in stop_words]\n",
    "\n",
    "\n",
    "texts = [\n",
    "    'The Art of Computer Programming',\n",
    "    'Computer Programming Learn Any Programming Language In 2 Hours',\n",
    "    'The Self-Taught Programmer The Definitive Guide to Programming Professionally',\n",
    "    'The Complete Software Developers Career Guide How to Learn Your Next Programming Language',\n",
    "    'Cracking the Coding Interview 189 Programming Questions and Solutions',\n",
    "    'The Economics Book Big Ideas Simply Explained',\n",
    "    'Economics in One Lesson The Shortest and Surest Way to Understand Basic Economics',\n",
    "    'Basic Economics',\n",
    "    'Aftermath Seven Secrets of Wealth Preservation in the Coming Chaos',\n",
    "    'Economics 101 From Consumer Behavior to Competitive Markets Everything You Need to Know About Economics'\n",
    "]\n",
    "\n",
    "texts = [clean(t) for t in texts]\n",
    "\n",
    "dictionary = corpora.Dictionary(texts)\n",
    "dictionary.filter_extremes(no_below=3)\n",
    "corpus = [dictionary.doc2bow(text) for text in texts]\n",
    "\n",
    "lda_scores = [learn_lda_model(corpus, dictionary, k) for k in range(2, 10)]"
   ]
  },
  {
   "cell_type": "code",
   "execution_count": 8,
   "metadata": {},
   "outputs": [],
   "source": [
    "lda = LdaModel(corpus, \n",
    "               id2word=dictionary, \n",
    "               num_topics=2, \n",
    "               random_state=37, \n",
    "               iterations=100,\n",
    "               passes=20,\n",
    "               per_word_topics=False)\n",
    "corpus_lda = lda[corpus]"
   ]
  },
  {
   "cell_type": "code",
   "execution_count": 9,
   "metadata": {},
   "outputs": [
    {
     "name": "stdout",
     "output_type": "stream",
     "text": [
      "[(0, 0.25178075), (1, 0.74821925)]\n",
      "[(0, 0.16788821), (1, 0.8321118)]\n",
      "[(0, 0.25178382), (1, 0.74821615)]\n",
      "[(0, 0.2517796), (1, 0.7482204)]\n",
      "[(0, 0.25178117), (1, 0.74821883)]\n",
      "[(0, 0.748248), (1, 0.25175205)]\n",
      "[(0, 0.83213073), (1, 0.16786923)]\n",
      "[(0, 0.7482476), (1, 0.25175238)]\n",
      "[(0, 0.5), (1, 0.5)]\n",
      "[(0, 0.8321299), (1, 0.16787016)]\n"
     ]
    }
   ],
   "source": [
    "for d in corpus_lda:\n",
    "    print(d)"
   ]
  },
  {
   "cell_type": "code",
   "execution_count": 10,
   "metadata": {},
   "outputs": [
    {
     "data": {
      "text/plain": [
       "[(0, '0.926*\"econom\" + 0.074*\"program\"'),\n",
       " (1, '0.926*\"program\" + 0.074*\"econom\"')]"
      ]
     },
     "execution_count": 10,
     "metadata": {},
     "output_type": "execute_result"
    }
   ],
   "source": [
    "lda.print_topics()"
   ]
  },
  {
   "cell_type": "code",
   "execution_count": 11,
   "metadata": {},
   "outputs": [
    {
     "data": {
      "text/plain": [
       "[(0, 0.7482481), (1, 0.2517519)]"
      ]
     },
     "execution_count": 11,
     "metadata": {},
     "output_type": "execute_result"
    }
   ],
   "source": [
    "lda[dictionary.doc2bow(clean('Naked Economics Undressing the Dismal Science'))]"
   ]
  },
  {
   "cell_type": "code",
   "execution_count": 12,
   "metadata": {},
   "outputs": [
    {
     "data": {
      "text/plain": [
       "[(0, 0.2517816), (1, 0.7482184)]"
      ]
     },
     "execution_count": 12,
     "metadata": {},
     "output_type": "execute_result"
    }
   ],
   "source": [
    "lda[dictionary.doc2bow(clean('Elements of Programming Interviews in Python The Insiders Guide'))]"
   ]
  },
  {
   "cell_type": "code",
   "execution_count": 13,
   "metadata": {},
   "outputs": [
    {
     "data": {
      "text/html": [
       "\n",
       "<link rel=\"stylesheet\" type=\"text/css\" href=\"https://cdn.rawgit.com/bmabey/pyLDAvis/files/ldavis.v1.0.0.css\">\n",
       "\n",
       "\n",
       "<div id=\"ldavis_el123091121179661929235500713\"></div>\n",
       "<script type=\"text/javascript\">\n",
       "\n",
       "var ldavis_el123091121179661929235500713_data = {\"mdsDat\": {\"x\": [0.21455781161785126, -0.21455781161785126], \"y\": [0.0, 0.0], \"topics\": [1, 2], \"cluster\": [1, 1], \"Freq\": [51.39925003051758, 48.60075378417969]}, \"tinfo\": {\"Category\": [\"Default\", \"Default\", \"Topic1\", \"Topic1\", \"Topic2\", \"Topic2\"], \"Freq\": [5.0, 6.0, 5.709618091583252, 0.45829159021377563, 5.401509761810303, 0.4305807650089264], \"Term\": [\"program\", \"econom\", \"econom\", \"program\", \"program\", \"econom\"], \"Total\": [5.0, 6.0, 6.140198707580566, 5.859801292419434, 5.859801292419434, 6.140198707580566], \"loglift\": [2.0, 1.0, 0.5928000211715698, -1.8827999830245972, 0.6401000022888184, -1.9358999729156494], \"logprob\": [2.0, 1.0, -0.07720000296831131, -2.599600076675415, -0.07670000195503235, -2.6059999465942383]}, \"token.table\": {\"Topic\": [1, 2], \"Freq\": [0.9771670699119568, 0.8532712459564209], \"Term\": [\"econom\", \"program\"]}, \"R\": 2, \"lambda.step\": 0.01, \"plot.opts\": {\"xlab\": \"PC1\", \"ylab\": \"PC2\"}, \"topic.order\": [1, 2]};\n",
       "\n",
       "function LDAvis_load_lib(url, callback){\n",
       "  var s = document.createElement('script');\n",
       "  s.src = url;\n",
       "  s.async = true;\n",
       "  s.onreadystatechange = s.onload = callback;\n",
       "  s.onerror = function(){console.warn(\"failed to load library \" + url);};\n",
       "  document.getElementsByTagName(\"head\")[0].appendChild(s);\n",
       "}\n",
       "\n",
       "if(typeof(LDAvis) !== \"undefined\"){\n",
       "   // already loaded: just create the visualization\n",
       "   !function(LDAvis){\n",
       "       new LDAvis(\"#\" + \"ldavis_el123091121179661929235500713\", ldavis_el123091121179661929235500713_data);\n",
       "   }(LDAvis);\n",
       "}else if(typeof define === \"function\" && define.amd){\n",
       "   // require.js is available: use it to load d3/LDAvis\n",
       "   require.config({paths: {d3: \"https://cdnjs.cloudflare.com/ajax/libs/d3/3.5.5/d3.min\"}});\n",
       "   require([\"d3\"], function(d3){\n",
       "      window.d3 = d3;\n",
       "      LDAvis_load_lib(\"https://cdn.rawgit.com/bmabey/pyLDAvis/files/ldavis.v1.0.0.js\", function(){\n",
       "        new LDAvis(\"#\" + \"ldavis_el123091121179661929235500713\", ldavis_el123091121179661929235500713_data);\n",
       "      });\n",
       "    });\n",
       "}else{\n",
       "    // require.js not available: dynamically load d3 & LDAvis\n",
       "    LDAvis_load_lib(\"https://cdnjs.cloudflare.com/ajax/libs/d3/3.5.5/d3.min.js\", function(){\n",
       "         LDAvis_load_lib(\"https://cdn.rawgit.com/bmabey/pyLDAvis/files/ldavis.v1.0.0.js\", function(){\n",
       "                 new LDAvis(\"#\" + \"ldavis_el123091121179661929235500713\", ldavis_el123091121179661929235500713_data);\n",
       "            })\n",
       "         });\n",
       "}\n",
       "</script>"
      ],
      "text/plain": [
       "<IPython.core.display.HTML object>"
      ]
     },
     "execution_count": 13,
     "metadata": {},
     "output_type": "execute_result"
    }
   ],
   "source": [
    "lda_display = pyLDAvis.gensim.prepare(lda, corpus, dictionary, sort_topics=False)\n",
    "pyLDAvis.display(lda_display)"
   ]
  },
  {
   "cell_type": "code",
   "execution_count": null,
   "metadata": {},
   "outputs": [],
   "source": []
  }
 ],
 "metadata": {
  "kernelspec": {
   "display_name": "Python 3",
   "language": "python",
   "name": "python3"
  },
  "language_info": {
   "codemirror_mode": {
    "name": "ipython",
    "version": 3
   },
   "file_extension": ".py",
   "mimetype": "text/x-python",
   "name": "python",
   "nbconvert_exporter": "python",
   "pygments_lexer": "ipython3",
   "version": "3.7.3"
  }
 },
 "nbformat": 4,
 "nbformat_minor": 4
}
