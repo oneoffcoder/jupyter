{
 "cells": [
  {
   "cell_type": "markdown",
   "metadata": {},
   "source": [
    "# Purpose\n",
    "\n",
    "The purpose of this notebook is to demonstrate how to simulate data appropriate for use with [Latent Dirichlet Allocation](https://en.wikipedia.org/wiki/Latent_Dirichlet_allocation) (LDA) to learn topics. There are a lot of moving parts involved with LDA, and it makes very strong assumptions about how word, topics and documents are distributed. In a nutshell, the distributions are all based on the [Dirichlet-Multinomial distribution](https://en.wikipedia.org/wiki/Dirichlet-multinomial_distribution), and so if you understand that compound distribution, you will have an easier time understanding how to sample the topics (from the document) and the words (from the topic). At any rate, the Wikipedia site does a good enough job to enumerate the moving parts; here they are for completeness.\n",
    "\n",
    "* $K$ is the number of topics\n",
    "* $N$ is the number of words in a document; sometimes also denoted as $V$; when the number of words vary from document to document, then $N_d$ is the number of words for the $d$ document; here we assume $N$, $V$ and $N_d$ are all the same\n",
    "* $M$ is the number of documents\n",
    "* $\\alpha$ is a vector of length $K$ on the priors of the $K$ topics; these alpha are `sparse` (less than 1)\n",
    "* $\\beta$ is a vector of length $N$ on the priors of the $N$ words; typically these are `symmetric` (all set to the same value e.g. 0.001)\n",
    "* $\\theta$ is the $M$ by $K$ matrix of document-topic (documents to topics) where each element is $P(K=k|D=d)$\n",
    "* $\\varphi$ is the $K$ by $V$ matrix of topic-word (topics to words) where each element is $P(W=w|K=k)$\n",
    "\n",
    "The Wikipedia article states the sampling as follows.\n",
    "\n",
    "$\n",
    "\\begin{align}\n",
    "\\boldsymbol\\varphi_{k=1 \\dots K} &\\sim \\operatorname{Dirichlet}_V(\\boldsymbol\\beta) \\\\\n",
    "\\boldsymbol\\theta_{d=1 \\dots M} &\\sim \\operatorname{Dirichlet}_K(\\boldsymbol\\alpha) \\\\\n",
    "z_{d=1 \\dots M,w=1 \\dots N_d} &\\sim \\operatorname{Categorical}_K(\\boldsymbol\\theta_d) \\\\\n",
    "w_{d=1 \\dots M,w=1 \\dots N_d} &\\sim \\operatorname{Categorical}_V(\\boldsymbol\\varphi_{z_{dw}})\n",
    "\\end{align}\n",
    "$\n",
    "\n",
    "Note the following.\n",
    "\n",
    "* $z_{dw} \\in [1 \\ldots K]$ ($z_{dw}$ is an integer between 1 and $K$) and serves as a pointer back to $\\varphi_k$ (the k-th row in $\\varphi$ that you will use as priors to sample the words)\n",
    "* $w_{dw} \\in [1 \\ldots N]$ ($w_{dw}$ is an integer between 1 and $N$) which is the n-th word\n",
    "* $z_{dw}$ is actually sampled from $\\operatorname{Multinomial}(\\boldsymbol\\theta_d)$ taking the arg max, e.g. $z_{dw} \\sim \\underset{\\theta_d}{\\operatorname{arg\\,max}}\\ \\operatorname{Multinomial}(\\boldsymbol\\theta_d)$\n",
    "* $w_{dw}$ is actually sampled from $\\operatorname{Multinomial}(\\boldsymbol\\varphi_{z_{dw}})$ taking the arg max, e.g. $z_{dw} \\sim \\underset{\\boldsymbol\\varphi_{w_{dw}}}{\\operatorname{arg\\,max}}\\ \\operatorname{Multinomial}(\\boldsymbol\\varphi_{z_{dw}})$\n",
    "\n",
    "The code below should make it clear as there are a lot of sub-scripts and moving parts.\n",
    "\n",
    "# Simulate the data\n",
    "\n",
    "Let's get ready to sample. Note the following.\n",
    "\n",
    "* $K = 10$ (ten topics)\n",
    "* $N = 100$ (one hundred words)\n",
    "* $M = 1000$ (one thousand documents)\n",
    "* $\\alpha = [0.1, 0.2, 0.3, 0.4, 0.025, 0.015, 0.37, 0.88, 0.03, 0.08]$ (10 sparse priors on topics)\n",
    "* $\\beta = [0.001 \\ldots 0.001]$ (100 symetric priors on words)\n",
    "\n",
    "Below, we store the sampled documents and associated words in\n",
    "\n",
    "* `texts` as string literal (e.g. w1 w1 w83 ....)\n",
    "* `docs` as a dictionary of counts (e.g. { 1: 2, 83: 1, ...})\n",
    "\n",
    "The matrices\n",
    "\n",
    "* `C` stores the counts\n",
    "* `X` stores the [tf-idf](https://en.wikipedia.org/wiki/Tf%E2%80%93idf) values"
   ]
  },
  {
   "cell_type": "code",
   "execution_count": 1,
   "metadata": {},
   "outputs": [],
   "source": [
    "%matplotlib inline\n",
    "import seaborn as sns\n",
    "import matplotlib.pyplot as plt\n",
    "import numpy as np\n",
    "from scipy.stats import dirichlet, multinomial\n",
    "from scipy.sparse import lil_matrix\n",
    "import pandas as pd\n",
    "from sklearn.feature_extraction.text import TfidfTransformer\n",
    "\n",
    "np.random.seed(37)\n",
    "\n",
    "# number of topics\n",
    "K = 10\n",
    "# number of words\n",
    "N = 100\n",
    "# number of documents\n",
    "M = 1000\n",
    "\n",
    "# priors on K topics\n",
    "a = np.array([0.1, 0.2, 0.3, 0.4, 0.025, 0.015, 0.37, 0.88, 0.03, 0.08])\n",
    "# priors on N words\n",
    "b = np.full((1, N), 0.001, dtype=float)[0]\n",
    "\n",
    "# distribution of words in topic k\n",
    "phi = np.array([dirichlet.rvs(b)[0] for _ in range(K)])\n",
    "\n",
    "# distribution of topics in document d\n",
    "theta = np.array([dirichlet.rvs(a)[0] for _ in range(M)])\n",
    "\n",
    "# simulate the documents\n",
    "texts = []\n",
    "docs = []\n",
    "\n",
    "# for each document\n",
    "for i in range(M):\n",
    "    d = {}\n",
    "    t = []\n",
    "    \n",
    "    # for each word\n",
    "    for j in range(N):\n",
    "        # sample the possible topics\n",
    "        z_ij = multinomial.rvs(1, theta[i])\n",
    "        # get the identity of the topic; the one with the highest probability\n",
    "        topic = np.argmax(z_ij)\n",
    "        \n",
    "        # sample the possible words from the topic\n",
    "        w_ij = multinomial.rvs(1, phi[topic])\n",
    "        # get the identity of the word; the one with the highest probability\n",
    "        word = np.argmax(w_ij)\n",
    "        \n",
    "        if word not in d:\n",
    "            d[word] = 0\n",
    "        d[word] = d[word] + 1\n",
    "        t.append('w{}'.format(word))\n",
    "    docs.append(d)\n",
    "    texts.append(' '.join(t))\n",
    "\n",
    "# make a nice matrix\n",
    "# C is a matrix of word counts (rows are documents, columns are words, elements are count values)\n",
    "C = lil_matrix((M, N), dtype=np.int16)\n",
    "for i, d in enumerate(docs):\n",
    "    counts = sorted(list(d.items()), key=lambda tup: tup[0])\n",
    "    for tup in counts:\n",
    "        C[i, tup[0]] = tup[1]\n",
    "\n",
    "# X is a matrix of tf-idf (rows are documents, columns are words, elements are tf-idf values)\n",
    "X = TfidfTransformer().fit_transform(C)"
   ]
  },
  {
   "cell_type": "markdown",
   "metadata": {},
   "source": [
    "# Gaussian mixture models (GMMs)\n",
    "\n",
    "Let's see if GMMs can help us recover the number of topics using the [AIC](https://en.wikipedia.org/wiki/Akaike_information_criterion) score to guide us."
   ]
  },
  {
   "cell_type": "code",
   "execution_count": 2,
   "metadata": {},
   "outputs": [
    {
     "name": "stdout",
     "output_type": "stream",
     "text": [
      "2: aic=-91377.4925931899\n",
      "3: aic=-115401.48064693023\n",
      "4: aic=-140093.33933540556\n",
      "5: aic=-140323.78987370015\n",
      "6: aic=-141875.7608870883\n",
      "7: aic=-148775.55233751616\n",
      "8: aic=-144864.34044251204\n",
      "9: aic=-145063.4922621106\n",
      "10: aic=-150715.19037699007\n",
      "11: aic=-152996.5234889565\n",
      "12: aic=-155759.24880410862\n",
      "13: aic=-154738.52657589084\n",
      "14: aic=-155298.3570419242\n",
      "15: aic=-155273.86266190943\n",
      "16: aic=-158229.54424744606\n",
      "17: aic=-158801.92826365907\n",
      "18: aic=-158146.93107164893\n",
      "19: aic=-157399.88209837917\n",
      "20: aic=-158964.20247723104\n",
      "21: aic=-156443.29839085325\n",
      "22: aic=-156545.28924475564\n",
      "23: aic=-156265.51016605442\n",
      "24: aic=-155860.4914350854\n",
      "25: aic=-157396.56289736537\n"
     ]
    }
   ],
   "source": [
    "from scipy.sparse.linalg import svds\n",
    "from sklearn.mixture import GaussianMixture\n",
    "\n",
    "def get_gmm_labels(X, k):\n",
    "    gmm = GaussianMixture(n_components=k, max_iter=200, random_state=37)\n",
    "    gmm.fit(X)\n",
    "    aic = gmm.aic(X)\n",
    "    print('{}: aic={}'.format(k, aic))\n",
    "    return k, aic\n",
    "\n",
    "U, S, V = svds(X, k=20)\n",
    "gmm_scores = [get_gmm_labels(U, k) for k in range(2, 26)]"
   ]
  },
  {
   "cell_type": "markdown",
   "metadata": {},
   "source": [
    "# k-means clustering (KMC)\n",
    "\n",
    "Let's see if KMC can help us to recover the number of topics using the [Silhouette score](https://en.wikipedia.org/wiki/Silhouette_%28clustering%29) to guide us."
   ]
  },
  {
   "cell_type": "code",
   "execution_count": 3,
   "metadata": {},
   "outputs": [
    {
     "name": "stdout",
     "output_type": "stream",
     "text": [
      "2: score=0.22136552497539078\n",
      "3: score=0.2606191325546754\n",
      "4: score=0.2985364557161296\n",
      "5: score=0.32764563696557253\n",
      "6: score=0.34711980577628615\n",
      "7: score=0.36212754809252495\n",
      "8: score=0.3693035922796191\n",
      "9: score=0.3118628444238988\n",
      "10: score=0.32070416934016466\n",
      "11: score=0.3056882384904699\n",
      "12: score=0.28297903762485543\n",
      "13: score=0.28462816984240946\n",
      "14: score=0.2747613933318139\n",
      "15: score=0.2787478862359055\n",
      "16: score=0.27452088253304896\n",
      "17: score=0.2548015324435892\n",
      "18: score=0.25961952207924777\n",
      "19: score=0.25650479556223627\n",
      "20: score=0.251690199350559\n",
      "21: score=0.2566617758778615\n",
      "22: score=0.25866268014756943\n",
      "23: score=0.24607465357359543\n",
      "24: score=0.24936289940720038\n",
      "25: score=0.2579644562276278\n"
     ]
    }
   ],
   "source": [
    "from sklearn.cluster import KMeans\n",
    "from sklearn.metrics import silhouette_score\n",
    "\n",
    "def get_kmc(X, k):\n",
    "    model = KMeans(k, random_state=37)\n",
    "    model.fit(X)\n",
    "    labels = model.predict(X)\n",
    "    score = silhouette_score(X, labels)\n",
    "    print('{}: score={}'.format(k, score))\n",
    "    return k, score\n",
    "\n",
    "kmc_scores = [get_kmc(X, k) for k in range(2, 26)]"
   ]
  },
  {
   "cell_type": "markdown",
   "metadata": {},
   "source": [
    "# LDA modeling\n",
    "\n",
    "Here, we will use LDA topic modeling technique and the [coherence score](https://radimrehurek.com/gensim/models/coherencemodel.html) to guide us recovering the number of topics."
   ]
  },
  {
   "cell_type": "code",
   "execution_count": 4,
   "metadata": {},
   "outputs": [
    {
     "name": "stdout",
     "output_type": "stream",
     "text": [
      "2: -7.112621491925517\n",
      "3: -6.770771537876562\n",
      "4: -6.654850158110881\n",
      "5: -6.495525290205532\n",
      "6: -6.592127872424598\n",
      "7: -6.4394384370150854\n",
      "8: -6.431505215171467\n",
      "9: -6.376827700591723\n",
      "10: -6.207008469326988\n",
      "11: -6.235774265382583\n",
      "12: -6.260016126133871\n",
      "13: -6.254881861190534\n",
      "14: -6.550148968159432\n",
      "15: -6.6008249817300415\n",
      "16: -6.560176401338963\n",
      "17: -6.549319733769306\n",
      "18: -6.669241989725236\n",
      "19: -6.767980107114681\n",
      "20: -6.760030166955779\n",
      "21: -6.8683429580215165\n",
      "22: -6.6622351856878375\n",
      "23: -6.773847370134338\n",
      "24: -6.735329093161339\n",
      "25: -6.676802294304821\n"
     ]
    }
   ],
   "source": [
    "from gensim import corpora\n",
    "from gensim.models import LdaModel\n",
    "from gensim.models.coherencemodel import CoherenceModel\n",
    "\n",
    "def learn_lda_model(corpus, dictionary, k):\n",
    "    lda = LdaModel(corpus, \n",
    "               id2word=dictionary, \n",
    "               num_topics=k, \n",
    "               random_state=37, \n",
    "               iterations=100,\n",
    "               passes=5,\n",
    "               per_word_topics=False)\n",
    "    cm = CoherenceModel(model=lda, corpus=corpus, coherence='u_mass')\n",
    "    coherence = cm.get_coherence()\n",
    "    print('{}: {}'.format(k, coherence))\n",
    "    return k, coherence\n",
    "\n",
    "T = [t.split(' ') for t in texts]\n",
    "\n",
    "dictionary = corpora.Dictionary(T)\n",
    "corpus = [dictionary.doc2bow(text) for text in T]\n",
    "\n",
    "lda_scores = [learn_lda_model(corpus, dictionary, k) for k in range(2, 26)]"
   ]
  },
  {
   "cell_type": "markdown",
   "metadata": {},
   "source": [
    "# Visualize the techniques and scores versus the number of topics\n",
    "\n",
    "Here, we visualize the scores (GMM AIC, KMC Silhouette and LDA Coherence) versus the number of topics (k). For AIC, the lower the score, the better; for silhouette, the higher the better; for coherence, the higher the better. It seems that KCM's silhouette does not really agree with AIC or coherence; and AIC and coherence (although negative correlated) seem to hint at the same number of topics.\n",
    "\n",
    "When relying on LDA and coherence, k=10 is the highest, as we'd expect since we simulated the data from 10 latent/hidden topics."
   ]
  },
  {
   "cell_type": "code",
   "execution_count": 5,
   "metadata": {},
   "outputs": [
    {
     "data": {
      "image/png": "[encoded data removed]",
      "text/plain": [
       "<Figure size 1080x360 with 3 Axes>"
      ]
     },
     "metadata": {
      "needs_background": "light"
     },
     "output_type": "display_data"
    }
   ],
   "source": [
    "def plot_scores(scores, ax, ylabel):\n",
    "    _x = [s[0] for s in scores]\n",
    "    _y = [s[1] for s in scores]\n",
    "\n",
    "    ax.plot(_x, _y, color='tab:blue')\n",
    "    ax.set_xlabel('k')\n",
    "    ax.set_ylabel(ylabel)\n",
    "    ax.set_title('{} vs k'.format(ylabel))\n",
    "    \n",
    "fig, ax = plt.subplots(1, 3, figsize=(15, 5))\n",
    "plot_scores(gmm_scores, ax[0], 'GMM AIC')\n",
    "plot_scores(kmc_scores, ax[1], 'KMC Sillhouette')\n",
    "plot_scores(lda_scores, ax[2], 'LDA Coherence')\n",
    "\n",
    "plt.tight_layout()"
   ]
  },
  {
   "cell_type": "markdown",
   "metadata": {},
   "source": [
    "# Visualize the topics\n",
    "\n",
    "This visualization tool allows us to `interrogate` the topics. As we hover over each topic, the words most strongly associated with them are show."
   ]
  },
  {
   "cell_type": "code",
   "execution_count": 6,
   "metadata": {},
   "outputs": [
    {
     "data": {
      "text/html": [
       "\n",
       "<link rel=\"stylesheet\" type=\"text/css\" href=\"https://cdn.rawgit.com/bmabey/pyLDAvis/files/ldavis.v1.0.0.css\">\n",
       "\n",
       "\n",
       "<div id=\"ldavis_el118181404295620370163025369901\"></div>\n",
       "<script type=\"text/javascript\">\n",
       "\n",
       "var ldavis_el118181404295620370163025369901_data = {\"mdsDat\": {\"x\": [-0.03763435695157575, -0.20726926095478204, 0.4309965337756602, 0.16201237357148987, -0.16017053448083882, -0.17566107355244479, 0.07511517127720638, -0.09082443958999879, -0.07365487404060883, 0.07709046094589245], \"y\": [0.06999472617751827, 0.07757427654685094, 0.09429051280422684, 0.0012561810698407648, -0.21923055976171124, 0.26675864585615966, -0.056120919905362214, -0.02134496950421357, -0.0552340294267885, -0.15794386385652057], \"topics\": [1, 2, 3, 4, 5, 6, 7, 8, 9, 10], \"cluster\": [1, 1, 1, 1, 1, 1, 1, 1, 1, 1], \"Freq\": [2.454537868499756, 1.6944693326950073, 11.495956420898438, 5.651684284210205, 4.811830520629883, 11.512399673461914, 10.418712615966797, 31.313396453857422, 18.933773040771484, 1.7132503986358643]}, \"tinfo\": {\"Category\": [\"Default\", \"Default\", \"Default\", \"Default\", \"Default\", \"Default\", \"Default\", \"Default\", \"Default\", \"Default\", \"Default\", \"Default\", \"Default\", \"Default\", \"Default\", \"Default\", \"Default\", \"Default\", \"Default\", \"Default\", \"Default\", \"Default\", \"Topic1\", \"Topic1\", \"Topic1\", \"Topic1\", \"Topic1\", \"Topic1\", \"Topic1\", \"Topic1\", \"Topic1\", \"Topic1\", \"Topic1\", \"Topic1\", \"Topic1\", \"Topic1\", \"Topic1\", \"Topic1\", \"Topic1\", \"Topic1\", \"Topic1\", \"Topic1\", \"Topic1\", \"Topic1\", \"Topic2\", \"Topic2\", \"Topic2\", \"Topic2\", \"Topic2\", \"Topic2\", \"Topic2\", \"Topic2\", \"Topic2\", \"Topic2\", \"Topic2\", \"Topic2\", \"Topic2\", \"Topic2\", \"Topic2\", \"Topic2\", \"Topic2\", \"Topic2\", \"Topic2\", \"Topic2\", \"Topic2\", \"Topic2\", \"Topic3\", \"Topic3\", \"Topic3\", \"Topic3\", \"Topic3\", \"Topic3\", \"Topic3\", \"Topic3\", \"Topic3\", \"Topic3\", \"Topic3\", \"Topic3\", \"Topic3\", \"Topic3\", \"Topic3\", \"Topic3\", \"Topic3\", \"Topic3\", \"Topic3\", \"Topic3\", \"Topic3\", \"Topic3\", \"Topic4\", \"Topic4\", \"Topic4\", \"Topic4\", \"Topic4\", \"Topic4\", \"Topic4\", \"Topic4\", \"Topic4\", \"Topic4\", \"Topic4\", \"Topic4\", \"Topic4\", \"Topic4\", \"Topic4\", \"Topic4\", \"Topic4\", \"Topic4\", \"Topic4\", \"Topic4\", \"Topic4\", \"Topic4\", \"Topic5\", \"Topic5\", \"Topic5\", \"Topic5\", \"Topic5\", \"Topic5\", \"Topic5\", \"Topic5\", \"Topic5\", \"Topic5\", \"Topic5\", \"Topic5\", \"Topic5\", \"Topic5\", \"Topic5\", \"Topic5\", \"Topic5\", \"Topic5\", \"Topic5\", \"Topic5\", \"Topic5\", \"Topic5\", \"Topic6\", \"Topic6\", \"Topic6\", \"Topic6\", \"Topic6\", \"Topic6\", \"Topic6\", \"Topic6\", \"Topic6\", \"Topic6\", \"Topic6\", \"Topic6\", \"Topic6\", \"Topic6\", \"Topic6\", \"Topic6\", \"Topic6\", \"Topic6\", \"Topic6\", \"Topic6\", \"Topic6\", \"Topic6\", \"Topic7\", \"Topic7\", \"Topic7\", \"Topic7\", \"Topic7\", \"Topic7\", \"Topic7\", \"Topic7\", \"Topic7\", \"Topic7\", \"Topic7\", \"Topic7\", \"Topic7\", \"Topic7\", \"Topic7\", \"Topic7\", \"Topic7\", \"Topic7\", \"Topic7\", \"Topic7\", \"Topic7\", \"Topic7\", \"Topic8\", \"Topic8\", \"Topic8\", \"Topic8\", \"Topic8\", \"Topic8\", \"Topic8\", \"Topic8\", \"Topic8\", \"Topic8\", \"Topic8\", \"Topic8\", \"Topic8\", \"Topic8\", \"Topic8\", \"Topic8\", \"Topic8\", \"Topic8\", \"Topic8\", \"Topic8\", \"Topic8\", \"Topic8\", \"Topic9\", \"Topic9\", \"Topic9\", \"Topic9\", \"Topic9\", \"Topic9\", \"Topic9\", \"Topic9\", \"Topic9\", \"Topic9\", \"Topic9\", \"Topic9\", \"Topic9\", \"Topic9\", \"Topic9\", \"Topic9\", \"Topic9\", \"Topic9\", \"Topic9\", \"Topic9\", \"Topic9\", \"Topic9\", \"Topic10\", \"Topic10\", \"Topic10\", \"Topic10\", \"Topic10\", \"Topic10\", \"Topic10\", \"Topic10\", \"Topic10\", \"Topic10\", \"Topic10\", \"Topic10\", \"Topic10\", \"Topic10\", \"Topic10\", \"Topic10\", \"Topic10\", \"Topic10\", \"Topic10\", \"Topic10\", \"Topic10\", \"Topic10\"], \"Freq\": [35908.0, 16078.0, 16522.0, 6944.0, 5853.0, 6156.0, 3124.0, 4750.0, 1768.0, 1455.0, 789.0, 361.0, 169.0, 62.0, 17.0, 13.0, 8.0, 5.0, 3.0, 2.0, 1.0, 1.0, 0.530832827091217, 2.282196283340454, 3.3858261108398438, 257.3209533691406, 202.8728485107422, 1230.4864501953125, 5.00350284576416, 0.0826856791973114, 0.04828241094946861, 389.1730651855469, 241.87039184570312, 0.0482824333012104, 20.406906127929688, 0.06378284841775894, 8.41810131072998, 27.5365047454834, 12.800264358520508, 0.10331430286169052, 0.048282478004693985, 25.1782169342041, 25.908039093017578, 0.9684973359107971, 306.4344787597656, 1.9721847772598267, 2.4870266914367676, 316.2489013671875, 0.06515354663133621, 0.06519949436187744, 752.8828735351562, 2.407376289367676, 211.23233032226562, 0.0651535838842392, 69.92868041992188, 0.06515361368656158, 0.06515425443649292, 0.06516263633966446, 26.079998016357422, 0.06516314297914505, 2.14249587059021, 0.5157328248023987, 0.38255196809768677, 1.0649840831756592, 0.1318971812725067, 0.10101670026779175, 11209.767578125, 0.12515994906425476, 0.12515993416309357, 0.12688162922859192, 240.39739990234375, 0.12974698841571808, 0.1251600682735443, 0.12516197562217712, 0.12523606419563293, 0.13035434484481812, 0.1303827166557312, 6.981764316558838, 36.3465461730957, 0.12588201463222504, 0.12554387748241425, 0.12530261278152466, 0.1252235323190689, 0.12523199617862701, 0.12538984417915344, 0.1259685754776001, 0.3147788941860199, 0.12648051977157593, 1456.232177734375, 1185.53076171875, 4.714458465576172, 9.597167015075684, 1411.096923828125, 0.07969660311937332, 225.5562286376953, 0.6176494359970093, 0.07969659566879272, 0.13016310334205627, 0.16107577085494995, 0.07969687879085541, 0.2180824875831604, 858.9124755859375, 73.63484954833984, 17.456562042236328, 239.68295288085938, 72.18534851074219, 3.511829376220703, 47.37454605102539, 44.40275573730469, 0.42802903056144714, 4.384281635284424, 2095.241455078125, 520.5324096679688, 1.028032898902893, 6.808661460876465, 2.0400054454803467, 0.09752235561609268, 1634.159423828125, 0.09752236306667328, 0.09752241522073746, 421.2309265136719, 51.46986389160156, 27.904205322265625, 0.09756651520729065, 25.37932777404785, 4.827361106872559, 1.0362931489944458, 0.09766839444637299, 2.123715877532959, 6.016250133514404, 0.0975378155708313, 7.061870098114014, 5554.3876953125, 132.3982391357422, 4444.13525390625, 0.11315042525529861, 0.12544018030166626, 0.11298598349094391, 0.11298123002052307, 854.7938842773438, 67.35131072998047, 15.558063507080078, 0.11297066509723663, 25.36197280883789, 0.1130271777510643, 219.73687744140625, 71.53580474853516, 16.152835845947266, 43.38772964477539, 0.11297892034053802, 0.11320255696773529, 65.79883575439453, 0.7698096632957458, 0.11307607591152191, 3617.0703125, 4650.40185546875, 2.3507282733917236, 29.279645919799805, 0.10995651036500931, 0.24784792959690094, 0.10995648801326752, 3.506092071533203, 0.24151307344436646, 0.10995669662952423, 467.4241943359375, 948.047119140625, 78.14908599853516, 19.494413375854492, 352.5749206542969, 134.19129943847656, 80.21929168701172, 20.117610931396484, 14.40278148651123, 0.10995703935623169, 0.11013612151145935, 0.4443320035934448, 27219.248046875, 24.059165954589844, 4.289432525634766, 702.6412963867188, 492.7712097167969, 1465.6065673828125, 125.25362396240234, 134.66964721679688, 0.10437136143445969, 0.10434591770172119, 0.3052353262901306, 7.551263809204102, 674.39111328125, 0.14385144412517548, 0.10434594005346298, 99.90593719482422, 24.759899139404297, 172.78228759765625, 157.9019775390625, 6.589773178100586, 0.10434607416391373, 0.10434992611408234, 13777.435546875, 20.88374900817871, 16.429861068725586, 654.0466918945312, 486.9623718261719, 1.3896934986114502, 0.0962400957942009, 2336.330322265625, 94.30290985107422, 108.57784271240234, 356.7312927246094, 0.09587325155735016, 754.4838256835938, 202.45794677734375, 0.24562425911426544, 0.5357746481895447, 0.3075023889541626, 0.09623251855373383, 25.80426788330078, 88.88766479492188, 0.09955844283103943, 7.5725626945495605, 5.00047492980957, 2.6920177936553955, 4.318769931793213, 157.40077209472656, 593.2525024414062, 0.10060376673936844, 0.13555358350276947, 0.14961135387420654, 0.10060380399227142, 4.25491189956665, 384.27630615234375, 108.28045654296875, 0.10236592590808868, 281.5577087402344, 5.607924938201904, 51.05397415161133, 0.5155643224716187, 46.922176361083984, 28.303625106811523, 37.327632904052734, 1.5089328289031982, 0.3876265287399292], \"Term\": [\"w66\", \"w68\", \"w79\", \"w54\", \"w21\", \"w7\", \"w82\", \"w16\", \"w91\", \"w8\", \"w76\", \"w93\", \"w26\", \"w19\", \"w98\", \"w27\", \"w61\", \"w28\", \"w64\", \"w55\", \"w49\", \"w80\", \"w80\", \"w98\", \"w19\", \"w54\", \"w21\", \"w66\", \"w26\", \"w55\", \"w49\", \"w68\", \"w79\", \"w64\", \"w91\", \"w28\", \"w76\", \"w82\", \"w8\", \"w27\", \"w61\", \"w16\", \"w7\", \"w93\", \"w93\", \"w55\", \"w64\", \"w21\", \"w80\", \"w49\", \"w66\", \"w26\", \"w79\", \"w28\", \"w54\", \"w61\", \"w27\", \"w98\", \"w68\", \"w19\", \"w7\", \"w91\", \"w8\", \"w16\", \"w76\", \"w82\", \"w68\", \"w80\", \"w49\", \"w55\", \"w7\", \"w64\", \"w28\", \"w61\", \"w27\", \"w98\", \"w19\", \"w16\", \"w66\", \"w26\", \"w93\", \"w76\", \"w8\", \"w91\", \"w82\", \"w21\", \"w79\", \"w54\", \"w91\", \"w8\", \"w98\", \"w19\", \"w68\", \"w80\", \"w16\", \"w27\", \"w49\", \"w64\", \"w28\", \"w55\", \"w61\", \"w66\", \"w82\", \"w76\", \"w79\", \"w7\", \"w93\", \"w21\", \"w54\", \"w26\", \"w28\", \"w82\", \"w76\", \"w49\", \"w27\", \"w61\", \"w80\", \"w66\", \"w55\", \"w64\", \"w79\", \"w21\", \"w16\", \"w98\", \"w54\", \"w8\", \"w93\", \"w19\", \"w91\", \"w7\", \"w26\", \"w68\", \"w54\", \"w26\", \"w21\", \"w80\", \"w49\", \"w55\", \"w64\", \"w66\", \"w82\", \"w76\", \"w28\", \"w91\", \"w61\", \"w79\", \"w7\", \"w8\", \"w16\", \"w27\", \"w98\", \"w68\", \"w93\", \"w19\", \"w16\", \"w7\", \"w61\", \"w93\", \"w80\", \"w64\", \"w49\", \"w19\", \"w28\", \"w55\", \"w68\", \"w66\", \"w82\", \"w76\", \"w79\", \"w54\", \"w21\", \"w91\", \"w8\", \"w27\", \"w98\", \"w26\", \"w66\", \"w19\", \"w98\", \"w7\", \"w16\", \"w68\", \"w8\", \"w91\", \"w80\", \"w49\", \"w28\", \"w26\", \"w79\", \"w64\", \"w55\", \"w82\", \"w76\", \"w21\", \"w54\", \"w93\", \"w61\", \"w27\", \"w79\", \"w19\", \"w26\", \"w54\", \"w21\", \"w98\", \"w80\", \"w66\", \"w8\", \"w91\", \"w7\", \"w49\", \"w68\", \"w16\", \"w28\", \"w27\", \"w61\", \"w55\", \"w76\", \"w82\", \"w64\", \"w93\", \"w27\", \"w61\", \"w98\", \"w76\", \"w82\", \"w80\", \"w49\", \"w64\", \"w55\", \"w26\", \"w79\", \"w16\", \"w28\", \"w68\", \"w93\", \"w21\", \"w19\", \"w54\", \"w7\", \"w66\", \"w8\", \"w91\"], \"Total\": [35908.0, 16078.0, 16522.0, 6944.0, 5853.0, 6156.0, 3124.0, 4750.0, 1768.0, 1455.0, 789.0, 361.0, 169.0, 62.0, 17.0, 13.0, 8.0, 5.0, 3.0, 2.0, 1.0, 1.0, 1.4226874113082886, 17.51097297668457, 62.353858947753906, 6944.6083984375, 5853.24560546875, 35908.53515625, 169.1409454345703, 2.883096218109131, 1.9175407886505127, 16078.048828125, 16522.74609375, 3.646592140197754, 1768.518310546875, 5.807163238525391, 789.6815795898438, 3124.185791015625, 1455.2872314453125, 13.583550453186035, 8.064308166503906, 4750.65283203125, 6156.263671875, 361.8963623046875, 361.8963623046875, 2.883096218109131, 3.646592140197754, 5853.24560546875, 1.4226874113082886, 1.9175407886505127, 35908.53515625, 169.1409454345703, 16522.74609375, 5.807163238525391, 6944.6083984375, 8.064308166503906, 13.583550453186035, 17.51097297668457, 16078.048828125, 62.353858947753906, 6156.263671875, 1768.518310546875, 1455.2872314453125, 4750.65283203125, 789.6815795898438, 3124.185791015625, 16078.048828125, 1.4226874113082886, 1.9175407886505127, 2.883096218109131, 6156.263671875, 3.646592140197754, 5.807163238525391, 8.064308166503906, 13.583550453186035, 17.51097297668457, 62.353858947753906, 4750.65283203125, 35908.53515625, 169.1409454345703, 361.8963623046875, 789.6815795898438, 1455.2872314453125, 1768.518310546875, 3124.185791015625, 5853.24560546875, 16522.74609375, 6944.6083984375, 1768.518310546875, 1455.2872314453125, 17.51097297668457, 62.353858947753906, 16078.048828125, 1.4226874113082886, 4750.65283203125, 13.583550453186035, 1.9175407886505127, 3.646592140197754, 5.807163238525391, 2.883096218109131, 8.064308166503906, 35908.53515625, 3124.185791015625, 789.6815795898438, 16522.74609375, 6156.263671875, 361.8963623046875, 5853.24560546875, 6944.6083984375, 169.1409454345703, 5.807163238525391, 3124.185791015625, 789.6815795898438, 1.9175407886505127, 13.583550453186035, 8.064308166503906, 1.4226874113082886, 35908.53515625, 2.883096218109131, 3.646592140197754, 16522.74609375, 5853.24560546875, 4750.65283203125, 17.51097297668457, 6944.6083984375, 1455.2872314453125, 361.8963623046875, 62.353858947753906, 1768.518310546875, 6156.263671875, 169.1409454345703, 16078.048828125, 6944.6083984375, 169.1409454345703, 5853.24560546875, 1.4226874113082886, 1.9175407886505127, 2.883096218109131, 3.646592140197754, 35908.53515625, 3124.185791015625, 789.6815795898438, 5.807163238525391, 1768.518310546875, 8.064308166503906, 16522.74609375, 6156.263671875, 1455.2872314453125, 4750.65283203125, 13.583550453186035, 17.51097297668457, 16078.048828125, 361.8963623046875, 62.353858947753906, 4750.65283203125, 6156.263671875, 8.064308166503906, 361.8963623046875, 1.4226874113082886, 3.646592140197754, 1.9175407886505127, 62.353858947753906, 5.807163238525391, 2.883096218109131, 16078.048828125, 35908.53515625, 3124.185791015625, 789.6815795898438, 16522.74609375, 6944.6083984375, 5853.24560546875, 1768.518310546875, 1455.2872314453125, 13.583550453186035, 17.51097297668457, 169.1409454345703, 35908.53515625, 62.353858947753906, 17.51097297668457, 6156.263671875, 4750.65283203125, 16078.048828125, 1455.2872314453125, 1768.518310546875, 1.4226874113082886, 1.9175407886505127, 5.807163238525391, 169.1409454345703, 16522.74609375, 3.646592140197754, 2.883096218109131, 3124.185791015625, 789.6815795898438, 5853.24560546875, 6944.6083984375, 361.8963623046875, 8.064308166503906, 13.583550453186035, 16522.74609375, 62.353858947753906, 169.1409454345703, 6944.6083984375, 5853.24560546875, 17.51097297668457, 1.4226874113082886, 35908.53515625, 1455.2872314453125, 1768.518310546875, 6156.263671875, 1.9175407886505127, 16078.048828125, 4750.65283203125, 5.807163238525391, 13.583550453186035, 8.064308166503906, 2.883096218109131, 789.6815795898438, 3124.185791015625, 3.646592140197754, 361.8963623046875, 13.583550453186035, 8.064308166503906, 17.51097297668457, 789.6815795898438, 3124.185791015625, 1.4226874113082886, 1.9175407886505127, 3.646592140197754, 2.883096218109131, 169.1409454345703, 16522.74609375, 4750.65283203125, 5.807163238525391, 16078.048828125, 361.8963623046875, 5853.24560546875, 62.353858947753906, 6944.6083984375, 6156.263671875, 35908.53515625, 1455.2872314453125, 1768.518310546875], \"loglift\": [22.0, 21.0, 20.0, 19.0, 18.0, 17.0, 16.0, 15.0, 14.0, 13.0, 12.0, 11.0, 10.0, 9.0, 8.0, 7.0, 6.0, 5.0, 4.0, 3.0, 2.0, 1.0, 2.721400022506714, 1.6694999933242798, 0.7940000295639038, 0.41179999709129333, 0.3450999855995178, 0.3337000012397766, 0.186599999666214, 0.15569999814033508, 0.025499999523162842, -0.014000000432133675, -0.5169000029563904, -0.6172000169754028, -0.754800021648407, -0.804099977016449, -0.8339999914169312, -1.0241999626159668, -1.0262999534606934, -1.1715999841690063, -1.4108999967575073, -1.5327999591827393, -1.7633999586105347, -2.216099977493286, 3.911400079727173, 3.6981000900268555, 3.6951000690460205, 1.159600019454956, 0.9941999912261963, 0.6965000033378601, 0.21299999952316284, -0.17440000176429749, -0.2816999852657318, -0.4122999906539917, -0.5203999876976013, -0.7407000064849854, -1.2620999813079834, -1.5159000158309937, -2.3461999893188477, -2.785900115966797, -3.885499954223633, -4.062300205230713, -4.165999889373779, -4.325300216674805, -4.61959981918335, -6.261600017547607, 1.8025000095367432, -0.26750001311302185, -0.5659999847412109, -0.9602000117301941, -1.079800009727478, -1.1727999448776245, -1.6741000413894653, -2.0023999214172363, -2.523200035095215, -2.7372000217437744, -4.006899833679199, -4.359600067138672, -4.732500076293945, -5.039999961853027, -5.803299903869629, -6.5854997634887695, -7.197400093078613, -7.392300128936768, -7.960100173950195, -8.58329963684082, -8.7052001953125, -8.750200271606445, 2.6789000034332275, 2.6682000160217285, 1.5609999895095825, 1.0018999576568604, 0.4401000142097473, -0.008899999782443047, -0.17430000007152557, -0.2175000011920929, -0.3073999881744385, -0.4595000147819519, -0.7117999792098999, -0.7152000069618225, -0.7371000051498413, -0.8597999811172485, -0.8745999932289124, -0.9387000203132629, -1.3600000143051147, -1.5728000402450562, -1.7619999647140503, -1.9434000253677368, -2.1791999340057373, -3.106100082397461, 2.753000020980835, 2.6345999240875244, 2.617300033569336, 2.4107000827789307, 2.343400001525879, 1.659600019454956, 0.3538999855518341, -0.055799998342990875, -0.352400004863739, -0.5874000191688538, -0.635200023651123, -1.6996999979019165, -2.1031999588012695, -2.1559998989105225, -2.577699899673462, -2.6745998859405518, -2.8215999603271484, -3.4249000549316406, -3.6905999183654785, -3.896699905395508, -4.424200057983398, -4.696400165557861, 1.9384000301361084, 1.9168000221252441, 1.886299967765808, -0.36980000138282776, -0.5651999711990356, -1.0776000022888184, -1.312600016593933, -1.5760999917984009, -1.6753000020980835, -1.7653000354766846, -1.777999997138977, -2.082900047302246, -2.105799913406372, -2.1582999229431152, -2.293299913406372, -2.339099884033203, -2.53410005569458, -2.627700090408325, -2.879699945449829, -3.336899995803833, -3.9911999702453613, -4.1508002281188965, 1.9888999462127686, 1.9810999631881714, 1.0288000106811523, -0.25290000438690186, -0.2987000048160553, -0.42719998955726624, -0.597100019454956, -0.6168000102043152, -0.91839998960495, -1.0049999952316284, -1.2763999700546265, -1.3727999925613403, -1.4266999959945679, -1.4399000406265259, -1.5857000350952148, -1.6849000453948975, -2.02839994430542, -2.2146999835968018, -2.3540000915527344, -2.555000066757202, -2.807300090789795, -3.680299997329712, 0.8841000199317932, 0.20880000293254852, -0.24549999833106995, -1.0092999935150146, -1.1049000024795532, -1.2340999841690063, -1.2914999723434448, -1.4139000177383423, -1.451200008392334, -1.75, -1.784600019454956, -1.9479000568389893, -2.037600040435791, -2.0715999603271484, -2.1577999591827393, -2.281599998474121, -2.301300048828125, -2.361599922180176, -2.6226000785827637, -2.8447000980377197, -3.1863999366760254, -3.70770001411438, 1.4824999570846558, 0.5703999996185303, -0.6674000024795532, -0.6983000040054321, -0.8223000168800354, -0.8694999814033508, -1.0291999578475952, -1.0681999921798706, -1.0721999406814575, -1.1261999607086182, -1.184000015258789, -1.3315000534057617, -1.3949999809265137, -1.4912999868392944, -1.4988000392913818, -1.5686999559402466, -1.6024999618530273, -1.7355999946594238, -1.7568999528884888, -1.895300030708313, -1.9365999698638916, -2.2026000022888184, 3.067500114440918, 2.969599962234497, 2.6668999195098877, 2.453900098800659, 2.4054999351501465, 1.4177000522613525, 1.4172999858856201, 0.8733000159263611, 0.7113000154495239, 0.3840999901294708, 0.30559998750686646, 0.2854999899864197, 0.02850000001490116, 0.021900000050663948, -0.10040000081062317, -0.6751000285148621, -0.7285000085830688, -0.9304999709129333, -1.315500020980835, -2.8022000789642334, -2.804800033569336, -4.358799934387207], \"logprob\": [22.0, 21.0, 20.0, 19.0, 18.0, 17.0, 16.0, 15.0, 14.0, 13.0, 12.0, 11.0, 10.0, 9.0, 8.0, 7.0, 6.0, 5.0, 4.0, 3.0, 2.0, 1.0, -8.439000129699707, -6.980599880218506, -6.586100101470947, -2.2553999423980713, -2.4930999279022217, -0.690500020980835, -6.1956000328063965, -10.298399925231934, -10.836400032043457, -1.8416999578475952, -2.3173000812530518, -10.836400032043457, -4.78980016708374, -10.557999610900879, -5.675300121307373, -4.490200042724609, -5.256199836730957, -10.075699806213379, -10.836400032043457, -4.579699993133545, -4.55109977722168, -7.837699890136719, -1.7101000547409058, -6.75600004196167, -6.52400016784668, -1.6785999536514282, -10.166099548339844, -10.165399551391602, -0.8112000226974487, -6.556600093841553, -2.082200050354004, -10.166099548339844, -3.1875998973846436, -10.166099548339844, -10.166099548339844, -10.166000366210938, -4.173999786376953, -10.166000366210938, -6.6732001304626465, -8.097299575805664, -8.395999908447266, -7.372200012207031, -9.46090030670166, -9.72760009765625, -0.025200000032782555, -11.427900314331055, -11.427900314331055, -11.414299964904785, -3.867500066757202, -11.391900062561035, -11.427900314331055, -11.427900314331055, -11.427300453186035, -11.387200355529785, -11.38700008392334, -7.406400203704834, -5.756700038909912, -11.422200202941895, -11.42490005493164, -11.426799774169922, -11.427399635314941, -11.427300453186035, -11.42609977722168, -11.421500205993652, -10.505599975585938, -11.417400360107422, -1.3560999631881714, -1.5618000030517578, -7.089099884033203, -6.378200054168701, -1.3875999450683594, -11.16919994354248, -3.221100091934204, -9.121500015258789, -11.16919994354248, -10.67870044708252, -10.46560001373291, -11.16919994354248, -10.162599563598633, -1.8839999437332153, -4.34060001373291, -5.78000020980835, -3.160399913787842, -4.360499858856201, -7.383600234985352, -4.781599998474121, -4.846399784088135, -9.488300323486328, -7.000800132751465, -0.8313999772071838, -2.2239999771118164, -8.451199531555176, -6.5605998039245605, -7.765900135040283, -10.806500434875488, -1.0799000263214111, -10.806500434875488, -10.806500434875488, -2.435699939727783, -4.537799835205078, -5.150100231170654, -10.806099891662598, -5.244900226593018, -6.9045000076293945, -8.44320011138916, -10.805000305175781, -7.7256999015808105, -6.6844000816345215, -10.806300163269043, -6.524099826812744, -0.7287999987602234, -4.465400218963623, -0.9517999887466431, -11.530200004577637, -11.42710018157959, -11.531700134277344, -11.531700134277344, -2.6003000736236572, -5.141300201416016, -6.606599807739258, -11.531800270080566, -6.1178998947143555, -11.531299591064453, -3.958699941635132, -5.080999851226807, -6.5690999031066895, -5.580999851226807, -11.531700134277344, -11.529800415039062, -5.164599895477295, -9.612799644470215, -11.530900001525879, -1.0578999519348145, -0.8065999746322632, -8.396599769592285, -5.874499797821045, -11.458999633789062, -10.646300315856934, -11.458999633789062, -7.9969000816345215, -10.672200202941895, -11.458999633789062, -3.104099988937378, -2.3970000743865967, -4.8927001953125, -6.281199932098389, -3.3861000537872314, -4.352099895477295, -4.866600036621094, -6.249800205230713, -6.583899974822998, -11.458999633789062, -11.45740032196045, -10.0625, -0.14010000228881836, -7.171299934387207, -8.895600318908691, -3.796999931335449, -4.151800155639648, -3.061800003051758, -5.521500110626221, -5.448999881744385, -12.611599922180176, -12.611800193786621, -11.53849983215332, -8.330100059509277, -3.8380000591278076, -12.290800094604492, -12.611800193786621, -5.747600078582764, -7.142600059509277, -5.19980001449585, -5.28980016708374, -8.466300010681152, -12.611800193786621, -12.611800193786621, -0.31790000200271606, -6.809700012207031, -7.049600124359131, -3.365499973297119, -3.6605000495910645, -9.519599914550781, -12.189599990844727, -2.092400074005127, -5.302199840545654, -5.161200046539307, -3.9716999530792236, -12.193400382995605, -3.2227001190185547, -4.5381999015808105, -11.252699851989746, -10.472700119018555, -11.027999877929688, -12.18970012664795, -6.598199844360352, -5.361299991607666, -12.155699729919434, -7.82420015335083, -5.836599826812744, -6.455900192260742, -5.9832000732421875, -2.387399911880493, -1.0605000257492065, -9.74269962310791, -9.444499969482422, -9.34589958190918, -9.74269962310791, -5.9980998039245605, -1.4947999715805054, -2.761399984359741, -9.725299835205078, -1.805799961090088, -5.7220001220703125, -3.5132999420166016, -8.108599662780762, -3.5977001190185547, -4.1031999588012695, -3.8264000415802, -7.0346999168396, -8.393899917602539]}, \"token.table\": {\"Topic\": [1, 2, 3, 4, 5, 6, 7, 8, 9, 10, 1, 4, 7, 8, 9, 10, 1, 2, 4, 5, 6, 7, 8, 9, 10, 1, 2, 6, 8, 9, 10, 4, 5, 9, 10, 5, 5, 1, 2, 4, 5, 6, 7, 8, 9, 10, 2, 5, 7, 10, 2, 1, 2, 3, 4, 5, 6, 7, 8, 9, 10, 1, 2, 3, 4, 5, 6, 7, 8, 9, 10, 1, 2, 3, 4, 5, 6, 7, 8, 9, 10, 1, 4, 5, 6, 7, 8, 9, 10, 1, 2, 4, 5, 6, 7, 8, 9, 10, 1, 4, 5, 6, 7, 8, 9, 10, 1, 1, 4, 5, 6, 7, 8, 9, 10, 1, 2, 4, 5, 6, 7, 8, 9, 1, 2, 4, 5, 6, 7, 8, 9, 10, 1, 4, 8, 9, 10], \"Freq\": [0.005262434482574463, 0.00021049738279543817, 0.0014734816504642367, 0.047572407871484756, 0.005893926601856947, 0.009051387198269367, 0.7613690495491028, 0.10377521067857742, 0.042520470917224884, 0.022733718156814575, 0.048112500458955765, 0.16037499904632568, 0.06414999812841415, 0.3849000036716461, 0.33678749203681946, 0.01603749953210354, 0.034681614488363266, 0.05398714169859886, 0.00802973285317421, 0.008713115006685257, 0.7592368721961975, 0.013667630963027477, 0.02955625206232071, 0.08320169895887375, 0.008713115006685257, 0.02956114523112774, 0.01182445790618658, 0.7804142236709595, 0.04729783162474632, 0.09459566324949265, 0.02364891581237316, 0.07361845672130585, 0.5153291821479797, 0.07361845672130585, 0.36809226870536804, 0.6888044476509094, 0.5215013027191162, 0.037007126957178116, 0.01007976196706295, 0.006335850339382887, 0.0035999149549752474, 0.7997571229934692, 0.019295545294880867, 0.0227514635771513, 0.09417377412319183, 0.006767840124666691, 0.6936986446380615, 0.24800638854503632, 0.24800638854503632, 0.37200960516929626, 0.5484572649002075, 0.034253694117069244, 0.020969944074749947, 0.0010025472147390246, 0.023921888321638107, 0.045504502952098846, 0.0238104946911335, 0.026400407776236534, 0.7580091953277588, 0.06505417078733444, 0.0010303957387804985, 0.02419447898864746, 0.0016171116149052978, 0.6972239017486572, 0.08775940537452698, 0.0004353762196842581, 0.004104975610971451, 0.029045812785625458, 0.091180220246315, 0.04689623787999153, 0.01753944158554077, 0.004223340656608343, 0.00032487238058820367, 0.03898468613624573, 0.011695405468344688, 0.000974617141764611, 0.011695405468344688, 0.7553282976150513, 0.11419264227151871, 0.05798972025513649, 0.004548213444650173, 0.010130665265023708, 0.021527664735913277, 0.6597595810890198, 0.020261330530047417, 0.024060331284999847, 0.03165832906961441, 0.03292466327548027, 0.19881431758403778, 0.01464647613465786, 0.0127702746540308, 0.014525430276989937, 0.025480026379227638, 0.01331497821956873, 0.0213644877076149, 0.04079224914312363, 0.8338202238082886, 0.02324068918824196, 0.008932944387197495, 0.8149594068527222, 0.003435747930780053, 0.01099439337849617, 0.009620093740522861, 0.08589369803667068, 0.06459206342697144, 0.0013742991723120213, 0.7028951048851013, 0.00896233506500721, 0.02368617057800293, 0.6705747246742249, 0.021445587277412415, 0.02496650442481041, 0.0320083387196064, 0.028487421572208405, 0.18980945646762848, 0.011308901943266392, 0.0005654451088048518, 0.823288083076477, 0.0011308902176097035, 0.014136127196252346, 0.011308901943266392, 0.07633508741855621, 0.06163351610302925, 0.0027632219716906548, 0.8455459475517273, 0.011052887886762619, 0.0027632219716906548, 0.0027632219716906548, 0.08013343811035156, 0.019342554733157158, 0.022105775773525238, 0.01657933183014393, 0.11421409994363785, 0.2855352461338043, 0.2284281998872757, 0.057107049971818924, 0.2284281998872757], \"Term\": [\"w16\", \"w16\", \"w16\", \"w16\", \"w16\", \"w16\", \"w16\", \"w16\", \"w16\", \"w16\", \"w19\", \"w19\", \"w19\", \"w19\", \"w19\", \"w19\", \"w21\", \"w21\", \"w21\", \"w21\", \"w21\", \"w21\", \"w21\", \"w21\", \"w21\", \"w26\", \"w26\", \"w26\", \"w26\", \"w26\", \"w26\", \"w27\", \"w27\", \"w27\", \"w27\", \"w28\", \"w49\", \"w54\", \"w54\", \"w54\", \"w54\", \"w54\", \"w54\", \"w54\", \"w54\", \"w54\", \"w55\", \"w61\", \"w61\", \"w61\", \"w64\", \"w66\", \"w66\", \"w66\", \"w66\", \"w66\", \"w66\", \"w66\", \"w66\", \"w66\", \"w66\", \"w68\", \"w68\", \"w68\", \"w68\", \"w68\", \"w68\", \"w68\", \"w68\", \"w68\", \"w68\", \"w7\", \"w7\", \"w7\", \"w7\", \"w7\", \"w7\", \"w7\", \"w7\", \"w7\", \"w7\", \"w76\", \"w76\", \"w76\", \"w76\", \"w76\", \"w76\", \"w76\", \"w76\", \"w79\", \"w79\", \"w79\", \"w79\", \"w79\", \"w79\", \"w79\", \"w79\", \"w79\", \"w8\", \"w8\", \"w8\", \"w8\", \"w8\", \"w8\", \"w8\", \"w8\", \"w80\", \"w82\", \"w82\", \"w82\", \"w82\", \"w82\", \"w82\", \"w82\", \"w82\", \"w91\", \"w91\", \"w91\", \"w91\", \"w91\", \"w91\", \"w91\", \"w91\", \"w93\", \"w93\", \"w93\", \"w93\", \"w93\", \"w93\", \"w93\", \"w93\", \"w93\", \"w98\", \"w98\", \"w98\", \"w98\", \"w98\"]}, \"R\": 22, \"lambda.step\": 0.01, \"plot.opts\": {\"xlab\": \"PC1\", \"ylab\": \"PC2\"}, \"topic.order\": [1, 2, 3, 4, 5, 6, 7, 8, 9, 10]};\n",
       "\n",
       "function LDAvis_load_lib(url, callback){\n",
       "  var s = document.createElement('script');\n",
       "  s.src = url;\n",
       "  s.async = true;\n",
       "  s.onreadystatechange = s.onload = callback;\n",
       "  s.onerror = function(){console.warn(\"failed to load library \" + url);};\n",
       "  document.getElementsByTagName(\"head\")[0].appendChild(s);\n",
       "}\n",
       "\n",
       "if(typeof(LDAvis) !== \"undefined\"){\n",
       "   // already loaded: just create the visualization\n",
       "   !function(LDAvis){\n",
       "       new LDAvis(\"#\" + \"ldavis_el118181404295620370163025369901\", ldavis_el118181404295620370163025369901_data);\n",
       "   }(LDAvis);\n",
       "}else if(typeof define === \"function\" && define.amd){\n",
       "   // require.js is available: use it to load d3/LDAvis\n",
       "   require.config({paths: {d3: \"https://cdnjs.cloudflare.com/ajax/libs/d3/3.5.5/d3.min\"}});\n",
       "   require([\"d3\"], function(d3){\n",
       "      window.d3 = d3;\n",
       "      LDAvis_load_lib(\"https://cdn.rawgit.com/bmabey/pyLDAvis/files/ldavis.v1.0.0.js\", function(){\n",
       "        new LDAvis(\"#\" + \"ldavis_el118181404295620370163025369901\", ldavis_el118181404295620370163025369901_data);\n",
       "      });\n",
       "    });\n",
       "}else{\n",
       "    // require.js not available: dynamically load d3 & LDAvis\n",
       "    LDAvis_load_lib(\"https://cdnjs.cloudflare.com/ajax/libs/d3/3.5.5/d3.min.js\", function(){\n",
       "         LDAvis_load_lib(\"https://cdn.rawgit.com/bmabey/pyLDAvis/files/ldavis.v1.0.0.js\", function(){\n",
       "                 new LDAvis(\"#\" + \"ldavis_el118181404295620370163025369901\", ldavis_el118181404295620370163025369901_data);\n",
       "            })\n",
       "         });\n",
       "}\n",
       "</script>"
      ],
      "text/plain": [
       "<IPython.core.display.HTML object>"
      ]
     },
     "execution_count": 6,
     "metadata": {},
     "output_type": "execute_result"
    }
   ],
   "source": [
    "import pyLDAvis.gensim\n",
    "import warnings\n",
    "\n",
    "warnings.filterwarnings('ignore')\n",
    "\n",
    "lda = LdaModel(corpus, \n",
    "               id2word=dictionary, \n",
    "               num_topics=10, \n",
    "               random_state=37, \n",
    "               iterations=100,\n",
    "               passes=5,\n",
    "               per_word_topics=False)\n",
    "\n",
    "lda_display = pyLDAvis.gensim.prepare(lda, corpus, dictionary, sort_topics=False)\n",
    "pyLDAvis.display(lda_display)"
   ]
  },
  {
   "cell_type": "markdown",
   "metadata": {},
   "source": [
    "# Close to real-world example\n",
    "\n",
    "Here's a list of 10 book titles when searching on `programming` and `economics` from Amazon (5 each). Again, when the number of topics is k=2, that model has the highest coherence score."
   ]
  },
  {
   "cell_type": "code",
   "execution_count": 7,
   "metadata": {},
   "outputs": [
    {
     "name": "stdout",
     "output_type": "stream",
     "text": [
      "2: -26.8263021597115\n",
      "3: -26.863492751597203\n",
      "4: -26.88208804754005\n",
      "5: -26.848616514842924\n",
      "6: -26.9006833434829\n",
      "7: -26.874118634993117\n",
      "8: -26.88208804754005\n",
      "9: -26.863492751597203\n"
     ]
    }
   ],
   "source": [
    "import nltk\n",
    "from nltk.corpus import wordnet as wn\n",
    "from nltk.stem import PorterStemmer\n",
    "\n",
    "def clean(text):\n",
    "    t = text.lower().strip()\n",
    "    t = t.split()\n",
    "    t = remove_stop_words(t)\n",
    "    t = [get_lemma(w) for w in t]\n",
    "    t = [get_stem(w) for w in t]\n",
    "    return t\n",
    "\n",
    "def get_stem(w):\n",
    "    return PorterStemmer().stem(w)\n",
    "    \n",
    "def get_lemma(w):\n",
    "    lemma = wn.morphy(w)\n",
    "    return w if lemma is None else lemma\n",
    "    \n",
    "def remove_stop_words(tokens):\n",
    "    stop_words = nltk.corpus.stopwords.words('english')\n",
    "    return [token for token in tokens if token not in stop_words]\n",
    "\n",
    "\n",
    "texts = [\n",
    "    'The Art of Computer Programming',\n",
    "    'Computer Programming Learn Any Programming Language In 2 Hours',\n",
    "    'The Self-Taught Programmer The Definitive Guide to Programming Professionally',\n",
    "    'The Complete Software Developers Career Guide How to Learn Your Next Programming Language',\n",
    "    'Cracking the Coding Interview 189 Programming Questions and Solutions',\n",
    "    'The Economics Book Big Ideas Simply Explained',\n",
    "    'Economics in One Lesson The Shortest and Surest Way to Understand Basic Economics',\n",
    "    'Basic Economics',\n",
    "    'Aftermath Seven Secrets of Wealth Preservation in the Coming Chaos',\n",
    "    'Economics 101 From Consumer Behavior to Competitive Markets Everything You Need to Know About Economics'\n",
    "]\n",
    "\n",
    "texts = [clean(t) for t in texts]\n",
    "\n",
    "dictionary = corpora.Dictionary(texts)\n",
    "dictionary.filter_extremes(no_below=3)\n",
    "corpus = [dictionary.doc2bow(text) for text in texts]\n",
    "\n",
    "lda_scores = [learn_lda_model(corpus, dictionary, k) for k in range(2, 10)]"
   ]
  },
  {
   "cell_type": "markdown",
   "metadata": {},
   "source": [
    "Learn the model with 2 topics."
   ]
  },
  {
   "cell_type": "code",
   "execution_count": 8,
   "metadata": {},
   "outputs": [],
   "source": [
    "lda = LdaModel(corpus, \n",
    "               id2word=dictionary, \n",
    "               num_topics=2, \n",
    "               random_state=37, \n",
    "               iterations=100,\n",
    "               passes=20,\n",
    "               per_word_topics=False)"
   ]
  },
  {
   "cell_type": "markdown",
   "metadata": {},
   "source": [
    "Print what the model predicts for each book title. Note the 9-th book title is a tie (50/50)? Otherwise, all the predictions (based on highest probabilities) are correct."
   ]
  },
  {
   "cell_type": "code",
   "execution_count": 9,
   "metadata": {},
   "outputs": [
    {
     "name": "stdout",
     "output_type": "stream",
     "text": [
      "[(0, 0.25178075), (1, 0.74821925)]\n",
      "[(0, 0.16788821), (1, 0.8321118)]\n",
      "[(0, 0.25178382), (1, 0.74821615)]\n",
      "[(0, 0.2517796), (1, 0.7482204)]\n",
      "[(0, 0.25178117), (1, 0.74821883)]\n",
      "[(0, 0.748248), (1, 0.25175205)]\n",
      "[(0, 0.83213073), (1, 0.16786923)]\n",
      "[(0, 0.7482476), (1, 0.25175238)]\n",
      "[(0, 0.5), (1, 0.5)]\n",
      "[(0, 0.8321299), (1, 0.16787016)]\n"
     ]
    }
   ],
   "source": [
    "corpus_lda = lda[corpus]\n",
    "\n",
    "for d in corpus_lda:\n",
    "    print(d)"
   ]
  },
  {
   "cell_type": "markdown",
   "metadata": {},
   "source": [
    "The first topic is about `econom` (economics) and the second about `programming`, as we'd expect. Observe how each topic has a little of the other's words? This observation is the result of the assumption from LDA that documents are a mixture of topics and topics have distributions over words."
   ]
  },
  {
   "cell_type": "code",
   "execution_count": 10,
   "metadata": {},
   "outputs": [
    {
     "data": {
      "text/plain": [
       "[(0, '0.926*\"econom\" + 0.074*\"program\"'),\n",
       " (1, '0.926*\"program\" + 0.074*\"econom\"')]"
      ]
     },
     "execution_count": 10,
     "metadata": {},
     "output_type": "execute_result"
    }
   ],
   "source": [
    "lda.print_topics()"
   ]
  },
  {
   "cell_type": "markdown",
   "metadata": {},
   "source": [
    "This book title is a `holdout` title from the economics search result. It is correctly placed in the 0-th topic (economics)."
   ]
  },
  {
   "cell_type": "code",
   "execution_count": 11,
   "metadata": {},
   "outputs": [
    {
     "data": {
      "text/plain": [
       "[(0, 0.7482481), (1, 0.2517519)]"
      ]
     },
     "execution_count": 11,
     "metadata": {},
     "output_type": "execute_result"
    }
   ],
   "source": [
    "lda[dictionary.doc2bow(clean('Naked Economics Undressing the Dismal Science'))]"
   ]
  },
  {
   "cell_type": "markdown",
   "metadata": {},
   "source": [
    "This book title is a `holdout` title from the programming search result. It is correctly placed in the 1-st topic (programming)."
   ]
  },
  {
   "cell_type": "code",
   "execution_count": 12,
   "metadata": {},
   "outputs": [
    {
     "data": {
      "text/plain": [
       "[(0, 0.2517816), (1, 0.7482184)]"
      ]
     },
     "execution_count": 12,
     "metadata": {},
     "output_type": "execute_result"
    }
   ],
   "source": [
    "lda[dictionary.doc2bow(clean('Elements of Programming Interviews in Python The Insiders Guide'))]"
   ]
  },
  {
   "cell_type": "markdown",
   "metadata": {},
   "source": [
    "Since this example is trivial, the visualization is not very interesting, but displayed below anyways."
   ]
  },
  {
   "cell_type": "code",
   "execution_count": 13,
   "metadata": {},
   "outputs": [
    {
     "data": {
      "text/html": [
       "\n",
       "<link rel=\"stylesheet\" type=\"text/css\" href=\"https://cdn.rawgit.com/bmabey/pyLDAvis/files/ldavis.v1.0.0.css\">\n",
       "\n",
       "\n",
       "<div id=\"ldavis_el118181404295721796724947769411\"></div>\n",
       "<script type=\"text/javascript\">\n",
       "\n",
       "var ldavis_el118181404295721796724947769411_data = {\"mdsDat\": {\"x\": [0.21455781161785126, -0.21455781161785126], \"y\": [0.0, 0.0], \"topics\": [1, 2], \"cluster\": [1, 1], \"Freq\": [51.39925003051758, 48.60075378417969]}, \"tinfo\": {\"Category\": [\"Default\", \"Default\", \"Topic1\", \"Topic1\", \"Topic2\", \"Topic2\"], \"Freq\": [5.0, 6.0, 5.709618091583252, 0.45829159021377563, 5.401509761810303, 0.4305807650089264], \"Term\": [\"program\", \"econom\", \"econom\", \"program\", \"program\", \"econom\"], \"Total\": [5.0, 6.0, 6.140198707580566, 5.859801292419434, 5.859801292419434, 6.140198707580566], \"loglift\": [2.0, 1.0, 0.5928000211715698, -1.8827999830245972, 0.6401000022888184, -1.9358999729156494], \"logprob\": [2.0, 1.0, -0.07720000296831131, -2.599600076675415, -0.07670000195503235, -2.6059999465942383]}, \"token.table\": {\"Topic\": [1, 2], \"Freq\": [0.9771670699119568, 0.8532712459564209], \"Term\": [\"econom\", \"program\"]}, \"R\": 2, \"lambda.step\": 0.01, \"plot.opts\": {\"xlab\": \"PC1\", \"ylab\": \"PC2\"}, \"topic.order\": [1, 2]};\n",
       "\n",
       "function LDAvis_load_lib(url, callback){\n",
       "  var s = document.createElement('script');\n",
       "  s.src = url;\n",
       "  s.async = true;\n",
       "  s.onreadystatechange = s.onload = callback;\n",
       "  s.onerror = function(){console.warn(\"failed to load library \" + url);};\n",
       "  document.getElementsByTagName(\"head\")[0].appendChild(s);\n",
       "}\n",
       "\n",
       "if(typeof(LDAvis) !== \"undefined\"){\n",
       "   // already loaded: just create the visualization\n",
       "   !function(LDAvis){\n",
       "       new LDAvis(\"#\" + \"ldavis_el118181404295721796724947769411\", ldavis_el118181404295721796724947769411_data);\n",
       "   }(LDAvis);\n",
       "}else if(typeof define === \"function\" && define.amd){\n",
       "   // require.js is available: use it to load d3/LDAvis\n",
       "   require.config({paths: {d3: \"https://cdnjs.cloudflare.com/ajax/libs/d3/3.5.5/d3.min\"}});\n",
       "   require([\"d3\"], function(d3){\n",
       "      window.d3 = d3;\n",
       "      LDAvis_load_lib(\"https://cdn.rawgit.com/bmabey/pyLDAvis/files/ldavis.v1.0.0.js\", function(){\n",
       "        new LDAvis(\"#\" + \"ldavis_el118181404295721796724947769411\", ldavis_el118181404295721796724947769411_data);\n",
       "      });\n",
       "    });\n",
       "}else{\n",
       "    // require.js not available: dynamically load d3 & LDAvis\n",
       "    LDAvis_load_lib(\"https://cdnjs.cloudflare.com/ajax/libs/d3/3.5.5/d3.min.js\", function(){\n",
       "         LDAvis_load_lib(\"https://cdn.rawgit.com/bmabey/pyLDAvis/files/ldavis.v1.0.0.js\", function(){\n",
       "                 new LDAvis(\"#\" + \"ldavis_el118181404295721796724947769411\", ldavis_el118181404295721796724947769411_data);\n",
       "            })\n",
       "         });\n",
       "}\n",
       "</script>"
      ],
      "text/plain": [
       "<IPython.core.display.HTML object>"
      ]
     },
     "execution_count": 13,
     "metadata": {},
     "output_type": "execute_result"
    }
   ],
   "source": [
    "lda_display = pyLDAvis.gensim.prepare(lda, corpus, dictionary, sort_topics=False)\n",
    "pyLDAvis.display(lda_display)"
   ]
  },
  {
   "cell_type": "code",
   "execution_count": null,
   "metadata": {},
   "outputs": [],
   "source": []
  }
 ],
 "metadata": {
  "kernelspec": {
   "display_name": "Python 3",
   "language": "python",
   "name": "python3"
  },
  "language_info": {
   "codemirror_mode": {
    "name": "ipython",
    "version": 3
   },
   "file_extension": ".py",
   "mimetype": "text/x-python",
   "name": "python",
   "nbconvert_exporter": "python",
   "pygments_lexer": "ipython3",
   "version": "3.7.3"
  }
 },
 "nbformat": 4,
 "nbformat_minor": 4
}
