{
 "cells": [
  {
   "cell_type": "markdown",
   "metadata": {},
   "source": [
    "# Intro\n",
    "\n",
    "In this notebook, we will learn about precision-recall curves.\n",
    "\n",
    "# Simulate data"
   ]
  },
  {
   "cell_type": "code",
   "execution_count": 1,
   "metadata": {},
   "outputs": [],
   "source": [
    "%matplotlib inline\n",
    "import matplotlib.pyplot as plt\n",
    "import seaborn as sns\n",
    "import numpy as np\n",
    "import pandas as pd\n",
    "from collections import namedtuple\n",
    "from scipy.stats import multivariate_normal\n",
    "import warnings\n",
    "\n",
    "warnings.filterwarnings('ignore')\n",
    "np.random.seed(37)\n",
    "\n",
    "MVN = namedtuple('MVN', 'mean cov')\n",
    "DATA = namedtuple('DATA', 'X, y')\n",
    "\n",
    "mvn0 = MVN(np.array([1.5, 2.5, 3.3]), np.array([[1.0, 0.0, 0.0], [0.0, 1.0, 0.0], [0.0, 0.0, 1.0]]))\n",
    "mvn1 = MVN(np.array([1.7, 2.9, 3.0]), np.array([[1.0, 0.5, 0.2], [0.5, 1.0, 2.0], [0.2, 2.0, 1.0]]))\n",
    "\n",
    "N = 10000\n",
    "X0 = np.array([multivariate_normal.rvs(mvn0.mean, mvn0.cov) for _ in range(N)])\n",
    "X1 = np.array([multivariate_normal.rvs(mvn1.mean, mvn1.cov) for _ in range(N)])\n",
    "y0 = np.full((N, 1), 0, dtype=np.int32)\n",
    "y1 = np.full((N, 1), 1, dtype=np.int32)\n",
    "\n",
    "X = np.vstack([X0, X1])\n",
    "y = np.vstack([y0, y1])\n",
    "\n",
    "T = DATA(X, y)\n",
    "\n",
    "N = 25\n",
    "X0 = np.array([multivariate_normal.rvs(mvn0.mean, mvn0.cov) for _ in range(N)])\n",
    "X1 = np.array([multivariate_normal.rvs(mvn1.mean, mvn1.cov) for _ in range(N)])\n",
    "y0 = np.full((N, 1), 0, dtype=np.int32)\n",
    "y1 = np.full((N, 1), 1, dtype=np.int32)\n",
    "\n",
    "X = np.vstack([X0, X1])\n",
    "y = np.vstack([y0, y1])\n",
    "\n",
    "V = DATA(X, y)"
   ]
  },
  {
   "cell_type": "markdown",
   "metadata": {},
   "source": [
    "# Learn a classifier"
   ]
  },
  {
   "cell_type": "code",
   "execution_count": 2,
   "metadata": {},
   "outputs": [],
   "source": [
    "from sklearn.ensemble import RandomForestClassifier\n",
    "\n",
    "rf_model = RandomForestClassifier(random_state=37)\n",
    "rf_model.fit(T.X, T.y)\n",
    "\n",
    "y_pred = rf_model.predict_proba(V.X)[:,1]\n",
    "\n",
    "outcomes = sorted([(y_t, y_p) for y_t, y_p in zip(V.y[:,0], y_pred)], \n",
    "                  key=lambda tup: (-tup[1], -tup[0]))"
   ]
  },
  {
   "cell_type": "markdown",
   "metadata": {},
   "source": [
    "# Construct the precision-recall curve"
   ]
  },
  {
   "cell_type": "code",
   "execution_count": 3,
   "metadata": {},
   "outputs": [
    {
     "data": {
      "image/png": "[encoded data removed]",
      "text/plain": [
       "<Figure size 1080x360 with 2 Axes>"
      ]
     },
     "metadata": {
      "needs_background": "light"
     },
     "output_type": "display_data"
    }
   ],
   "source": [
    "from sklearn.metrics import precision_recall_curve\n",
    "\n",
    "def get_pr(outcomes, t):\n",
    "    tp = 0\n",
    "    fp = 0\n",
    "    fn = 0\n",
    "\n",
    "    for y_t, y_p in outcomes:\n",
    "        clazz_t = int(y_t)\n",
    "        clazz_p = 1 if y_p >= t else 0\n",
    "        tp = tp + (1 if clazz_t == 1 and clazz_p == 1 else 0)\n",
    "        fp = fp + (1 if clazz_t == 0 and clazz_p == 1 else 0)\n",
    "        fn = fn + (1 if clazz_t == 1 and clazz_p == 0 else 0)\n",
    "\n",
    "    pre = tp / (tp + fp)\n",
    "    rec = tp / (tp + fn)\n",
    "    return pre, rec\n",
    "\n",
    "def get_prs(outcomes, thresholds=np.linspace(0.2, 1, 9)):\n",
    "    pres = []\n",
    "    recs = []\n",
    "    thrs = []\n",
    "    for t in thresholds:\n",
    "        pre, rec = get_pr(outcomes, t)\n",
    "        pres.append(pre)\n",
    "        recs.append(rec)\n",
    "        thrs.append(t)\n",
    "    pres.append(1.0)\n",
    "    recs.append(0.0)\n",
    "    return np.array(pres), np.array(recs), np.array(thrs)\n",
    "\n",
    "pre_m, rec_m, _ = get_prs(outcomes, thresholds=np.linspace(0.2, 1, 100))\n",
    "pre_s, rec_s, _ = precision_recall_curve(V.y, y_pred)\n",
    "\n",
    "fig, ax = plt.subplots(1, 2, figsize=(15, 5))\n",
    "\n",
    "ax[0].step(rec_s, pre_s, color='b', alpha=0.2, where='post')\n",
    "ax[0].set_xlabel('recall')\n",
    "ax[0].set_ylabel('precision')\n",
    "ax[0].set_title('Scikit Precision-Recall Curve')\n",
    "\n",
    "ax[1].step(rec_m, pre_m, color='b', alpha=0.2, where='post')\n",
    "ax[1].set_xlabel('recall')\n",
    "ax[1].set_ylabel('precision')\n",
    "ax[1].set_title('Manual Precision-Recall Curve')\n",
    "\n",
    "plt.tight_layout()"
   ]
  },
  {
   "cell_type": "markdown",
   "metadata": {},
   "source": [
    "# Integrate the precision-recall curve (using trapezoid method)"
   ]
  },
  {
   "cell_type": "code",
   "execution_count": 4,
   "metadata": {},
   "outputs": [
    {
     "name": "stdout",
     "output_type": "stream",
     "text": [
      "apr = 0.70137, apr_s = 0.71357, apr_m = 0.71357\n"
     ]
    }
   ],
   "source": [
    "from sklearn.metrics import average_precision_score\n",
    "\n",
    "def get_apr(pre, rec):\n",
    "    x = np.flip(rec)\n",
    "    y = np.flip(pre)\n",
    "    return np.trapz(y, x)\n",
    "\n",
    "apr = average_precision_score(V.y, y_pred)\n",
    "apr_s = get_apr(pre_s, rec_s)\n",
    "apr_m = get_apr(pre_m, rec_m)\n",
    "\n",
    "print('apr = {:.5f}, apr_s = {:.5f}, apr_m = {:.5f}'.format(apr, apr_s, apr_m))"
   ]
  },
  {
   "cell_type": "markdown",
   "metadata": {},
   "source": [
    "# Integrate the precision-recall curve (using weighted average)"
   ]
  },
  {
   "cell_type": "code",
   "execution_count": 5,
   "metadata": {},
   "outputs": [
    {
     "name": "stdout",
     "output_type": "stream",
     "text": [
      "apr = 0.70137, apr_s = 0.70137, apr_m = 0.70137\n"
     ]
    }
   ],
   "source": [
    "def get_apr(pre, rec):\n",
    "    x = np.flip(rec)\n",
    "    y = np.flip(pre)\n",
    "    \n",
    "    total = 0\n",
    "    for i in range(len(x)):\n",
    "        r_c = x[i]\n",
    "        r_p = x[i if i - 1 < 0 else i - 1]\n",
    "        p_i = y[i]\n",
    "        a = (r_c - r_p) * p_i\n",
    "        total = total + a\n",
    "    return total\n",
    "\n",
    "apr_s = get_apr(pre_s, rec_s)\n",
    "apr_m = get_apr(pre_m, rec_m)\n",
    "\n",
    "print('apr = {:.5f}, apr_s = {:.5f}, apr_m = {:.5f}'.format(apr, apr_s, apr_m))"
   ]
  },
  {
   "cell_type": "markdown",
   "metadata": {},
   "source": [
    "# Construct the receiver operating characterics (ROC) curve"
   ]
  },
  {
   "cell_type": "code",
   "execution_count": 6,
   "metadata": {},
   "outputs": [
    {
     "data": {
      "image/png": "[encoded data removed]",
      "text/plain": [
       "<Figure size 1080x360 with 2 Axes>"
      ]
     },
     "metadata": {
      "needs_background": "light"
     },
     "output_type": "display_data"
    }
   ],
   "source": [
    "from sklearn.metrics import roc_curve\n",
    "\n",
    "def get_fpr_tpr(outcomes, t):\n",
    "    tp = 0\n",
    "    tn = 0\n",
    "    fp = 0\n",
    "    fn = 0\n",
    "\n",
    "    for y_t, y_p in outcomes:\n",
    "        clazz_t = int(y_t)\n",
    "        clazz_p = 1 if y_p >= t else 0\n",
    "        tp = tp + (1 if clazz_t == 1 and clazz_p == 1 else 0)\n",
    "        fp = fp + (1 if clazz_t == 0 and clazz_p == 1 else 0)\n",
    "        fn = fn + (1 if clazz_t == 1 and clazz_p == 0 else 0)\n",
    "        tn = tn + (1 if clazz_t == 0 and clazz_p == 0 else 0)\n",
    "\n",
    "    fpr = fp / (fp + tn)\n",
    "    tpr = tp / (tp + fn)\n",
    "    return fpr, tpr\n",
    "\n",
    "def get_all_fpr_tpr(outcomes, thresholds=np.flip(np.append(np.linspace(0, 1, 11), [2]))):\n",
    "    fprs = []\n",
    "    tprs = []\n",
    "    thrs = []\n",
    "    for t in thresholds:\n",
    "        fpr, tpr = get_fpr_tpr(outcomes, t)\n",
    "        fprs.append(fpr)\n",
    "        tprs.append(tpr)\n",
    "        thrs.append(t)\n",
    "    return np.array(fprs), np.array(tprs), np.array(thrs)\n",
    "\n",
    "fpr_m, tpr_m, t_m = get_all_fpr_tpr(outcomes, thresholds=np.flip(np.append(np.linspace(0, 1, 100), [2])))\n",
    "fpr_s, tpr_s, t_s = roc_curve(V.y, y_pred)\n",
    "\n",
    "fig, ax = plt.subplots(1, 2, figsize=(15, 5))\n",
    "\n",
    "ax[0].step(fpr_s, tpr_s, color='b', alpha=0.2, where='post')\n",
    "ax[0].set_xlabel('fpr')\n",
    "ax[0].set_ylabel('tpr')\n",
    "ax[0].set_title('Scikit ROC')\n",
    "\n",
    "ax[1].step(fpr_m, tpr_m, color='b', alpha=0.2, where='post')\n",
    "ax[1].set_xlabel('fpr')\n",
    "ax[1].set_ylabel('tpr')\n",
    "ax[1].set_title('Manual ROC')\n",
    "\n",
    "plt.tight_layout()"
   ]
  },
  {
   "cell_type": "markdown",
   "metadata": {},
   "source": [
    "# Integrate the ROC curve (using trapezoid method)"
   ]
  },
  {
   "cell_type": "code",
   "execution_count": 7,
   "metadata": {},
   "outputs": [
    {
     "name": "stdout",
     "output_type": "stream",
     "text": [
      "auc = 0.71200, auc_s = 0.71200, auc_m = 0.71200\n"
     ]
    }
   ],
   "source": [
    "from sklearn.metrics import roc_auc_score\n",
    "\n",
    "def get_auc(tpr, fpr):\n",
    "    return np.trapz(tpr, fpr)\n",
    "\n",
    "auc = roc_auc_score(V.y, y_pred)\n",
    "auc_s = get_auc(tpr_s, fpr_s)\n",
    "auc_m = get_auc(tpr_m, fpr_m)\n",
    "\n",
    "print('auc = {:.5f}, auc_s = {:.5f}, auc_m = {:.5f}'.format(auc, auc_s, auc_m))"
   ]
  },
  {
   "cell_type": "markdown",
   "metadata": {},
   "source": [
    "# Links\n",
    "\n",
    "* https://scikit-learn.org/stable/auto_examples/model_selection/plot_precision_recall.html\n",
    "* https://scikit-learn.org/stable/modules/generated/sklearn.metrics.average_precision_score.html"
   ]
  },
  {
   "cell_type": "code",
   "execution_count": null,
   "metadata": {},
   "outputs": [],
   "source": []
  }
 ],
 "metadata": {
  "kernelspec": {
   "display_name": "Python 3",
   "language": "python",
   "name": "python3"
  },
  "language_info": {
   "codemirror_mode": {
    "name": "ipython",
    "version": 3
   },
   "file_extension": ".py",
   "mimetype": "text/x-python",
   "name": "python",
   "nbconvert_exporter": "python",
   "pygments_lexer": "ipython3",
   "version": "3.7.3"
  }
 },
 "nbformat": 4,
 "nbformat_minor": 4
}
